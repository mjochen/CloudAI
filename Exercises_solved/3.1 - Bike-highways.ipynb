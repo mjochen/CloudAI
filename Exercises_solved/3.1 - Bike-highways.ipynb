{
 "cells": [
  {
   "cell_type": "markdown",
   "metadata": {},
   "source": [
    "# The bike barometer\n",
    "\n",
    "The region of Flanders has been building a lot of bike-highways. These are long stretches of really fine cycling paths. To see how well they are used some counters were also implemented, counters like the one on the following picture:\n",
    "\n",
    "![](files/2023-10-02-23-00-11.png)\n",
    "\n",
    "All data of these counters can be found on the following website:\n",
    "\n",
    "[link](https://fietsbarometer.provincieantwerpen.be/geoloketten/?viewer=fietsbarometer)\n",
    "\n",
    "We've downloaded a lot of the data from these counters. Let's start by importing them and cleaning them."
   ]
  },
  {
   "cell_type": "markdown",
   "metadata": {},
   "source": [
    "Tryout 1: can we read one file?"
   ]
  },
  {
   "cell_type": "code",
   "execution_count": null,
   "metadata": {},
   "outputs": [],
   "source": [
    "import pandas as pd\n",
    "\n",
    "df_1 = pd.read_csv('files/bike_counters_data/Measured data-nl-Geel_FMN GV 21 Geel.csv')\n",
    "df_1.head()"
   ]
  },
  {
   "cell_type": "markdown",
   "metadata": {},
   "source": [
    "But why read one file if we can read all the files? Carefully type all the filenames into an array and load all the files in one big dataframe. Or maybe Python has some sort of way of returning a list of all files in a folder that you can use?\n",
    "\n",
    "Combining dataframes could be done using \"append\", but that is deprecated. Use \"concat\" instead."
   ]
  },
  {
   "cell_type": "code",
   "execution_count": null,
   "metadata": {},
   "outputs": [],
   "source": [
    "# DELETE\n",
    "\n",
    "import os\n",
    "\n",
    "path = 'files/bike_counters_data'\n",
    "files = os.listdir(path)\n",
    "\n",
    "df = pd.DataFrame()\n",
    "\n",
    "for file in files:\n",
    "    if file.endswith(\".csv\"):\n",
    "        df = pd.concat([df, pd.read_csv(os.path.join(path, file))], ignore_index=True)\n",
    "        \n",
    "print(df[\"Meetpunt surrogate key\"].unique())\n",
    "print(len(df))"
   ]
  },
  {
   "cell_type": "markdown",
   "metadata": {},
   "source": [
    "This should yield a dataframe op 725.740 rows long. Check out the datatypes next."
   ]
  },
  {
   "cell_type": "code",
   "execution_count": null,
   "metadata": {},
   "outputs": [],
   "source": [
    "df.dtypes"
   ]
  },
  {
   "cell_type": "markdown",
   "metadata": {},
   "source": [
    "The dates are not dates (but objects, which comes down to strings) and the total nr of cyclists (\"Aantal fietsers\") is a float while the other two are integers. That is fishy. Check if \"Aantal fietsers\" is always equal to \"Aantal fietsers van\" plus \"Aantal fiets naar\"."
   ]
  },
  {
   "cell_type": "code",
   "execution_count": null,
   "metadata": {},
   "outputs": [],
   "source": [
    "# DELETE\n",
    "\n",
    "df[df[\"Aantal fietsers\"] != df[\"Aantal fietsers van\"] + df[\"Aantal fietsers naar\"]].head()"
   ]
  },
  {
   "cell_type": "markdown",
   "metadata": {},
   "source": [
    "Glad that checks out. We do see some NaN's, which is annoying. Are there a lot of them?"
   ]
  },
  {
   "cell_type": "code",
   "execution_count": null,
   "metadata": {},
   "outputs": [],
   "source": [
    "# DELETE\n",
    "\n",
    "df.isna().sum()"
   ]
  },
  {
   "cell_type": "markdown",
   "metadata": {},
   "source": [
    "Nope. That row were the only ones. That means we can safely drop all rows containing NaN's in the dataframe. Print the number of rows in the dataframe after the operation."
   ]
  },
  {
   "cell_type": "code",
   "execution_count": null,
   "metadata": {},
   "outputs": [],
   "source": [
    "# DELETE\n",
    "\n",
    "df = df.dropna()\n",
    "print(len(df))"
   ]
  },
  {
   "cell_type": "markdown",
   "metadata": {},
   "source": [
    "Now fix the dates. Make sure the columns \"Datum\" and \"Tijd\" are saved in a single column as a datetime-field. Print the head of this new field."
   ]
  },
  {
   "cell_type": "code",
   "execution_count": null,
   "metadata": {},
   "outputs": [],
   "source": [
    "# DELETE\n",
    "\n",
    "df[\"DatumTijd\"] = pd.to_datetime(df[\"Datum\"] + \" \" + df[\"Tijd\"])\n",
    "\n",
    "df[\"DatumTijd\"].head()"
   ]
  },
  {
   "cell_type": "code",
   "execution_count": null,
   "metadata": {},
   "outputs": [],
   "source": [
    "df.dtypes"
   ]
  },
  {
   "cell_type": "markdown",
   "metadata": {},
   "source": [
    "## Analyzing\n",
    "\n",
    "The data is now fully loaded and ready for some analyzing. But seven hundred thousand row is such an intimidatelingy large number. Maybe filter out all measurements for the counter nearest the school, at Rauwelkoven? The ID (\"Meetpunt code\") there is \"FMN GV 21 Geel\". Group those row by day of week and show the averages in a graph."
   ]
  },
  {
   "cell_type": "code",
   "execution_count": null,
   "metadata": {},
   "outputs": [],
   "source": [
    "#DELETE\n",
    "\n",
    "fmn_gv_21 = df[ df[\"Meetpunt code\"] == \"FMN GV 21 Geel\"]\n",
    "fmn_gv_21_weekdays = fmn_gv_21.groupby(fmn_gv_21.DatumTijd.dt.day_name()).mean([\"Aantal fietsers\", \"Aantal fietsers van\", \"Aantal fietsers naar\"])\n",
    "\n",
    "fmn_gv_21_weekdays[[\"Aantal fietsers\", \"Aantal fietsers van\", \"Aantal fietsers naar\"]].plot(kind='bar')\n"
   ]
  },
  {
   "cell_type": "markdown",
   "metadata": {},
   "source": [
    "This plot shows that most of the traffic is done on weekdays, less in weekends (but sligthly more on Sundays than Saturdays). Annoying: the days are out of order:\n",
    "\n",
    "![](files/2023-10-02-23-26-39.png)\n",
    "\n",
    "Fix that one first! (And you are [never](https://stackoverflow.com/questions/47255746/change-order-on-x-axis-for-matplotlib-chart) the first with a problem.)"
   ]
  },
  {
   "cell_type": "code",
   "execution_count": null,
   "metadata": {},
   "outputs": [],
   "source": [
    "# DELETE\n",
    "\n",
    "day_order = [\"Monday\", \"Tuesday\", \"Wednesday\", \"Thursday\", \"Friday\", \"Saturday\", \"Sunday\"]\n",
    "\n",
    "fmn_gv_21_weekdays.loc[day_order][[\"Aantal fietsers\", \"Aantal fietsers van\", \"Aantal fietsers naar\"]].plot(kind='bar')"
   ]
  },
  {
   "cell_type": "markdown",
   "metadata": {},
   "source": [
    "Should this be a line or a bar graph, by the way? There are nice graphs about which graph to use:\n",
    "\n",
    "![](files/2023-10-03-19-20-09.png)\n",
    "\n",
    "So we can use bars for days, but not for hours of the day or months (to many bars will decrease readability).\n",
    "\n",
    "So we know weekdays are popular, which implies that the road is used more for traffic to and from school/work. This should also show up in the hours of the day it is being used.\n",
    "\n",
    "Show the same graph but grouped by hour of the day. Also, show all hours of the day, something like:\n",
    "\n",
    "![](files/2023-10-03-10-38-14.png)"
   ]
  },
  {
   "cell_type": "code",
   "execution_count": null,
   "metadata": {},
   "outputs": [],
   "source": [
    "# DELETE\n",
    "\n",
    "fmn_gv_21_weekdays = fmn_gv_21.groupby(fmn_gv_21.DatumTijd.dt.hour).mean([\"Aantal fietsers\", \"Aantal fietsers van\", \"Aantal fietsers naar\"])\n",
    "\n",
    "plt = fmn_gv_21_weekdays[[\"Aantal fietsers\", \"Aantal fietsers van\", \"Aantal fietsers naar\"]].plot()\n",
    "\n",
    "plt.set_xticks([i for i in range(24)])\n",
    "plt.set_xlabel(\"Hour\")\n",
    "plt.set_ylabel(\"Average number of cyclists\")"
   ]
  },
  {
   "cell_type": "markdown",
   "metadata": {},
   "source": [
    "There aren't many cyclists on weekends, but maybe they are responsible for the nightly rides, where the week-traffic is more during the day. We also see a spike around 7 and 8, which is when the commuters are using the road. They should be gone on Saturday and Sunday, no?\n",
    "\n",
    "Draw a graph showing the average of the total nr of cyclists (\"Aantal fietsers\", not \"van\" and \"naar\") for weekends and weekdays. ([tip](https://datascienceparichay.com/article/pandas-check-weekday-or-weekend/))"
   ]
  },
  {
   "cell_type": "code",
   "execution_count": null,
   "metadata": {},
   "outputs": [],
   "source": [
    "#DELETE\n",
    "\n",
    "fmn_gv_21_weekenddays = fmn_gv_21.loc[fmn_gv_21.DatumTijd.dt.weekday >= 5]\n",
    "fmn_gv_21_weekdays = fmn_gv_21.loc[fmn_gv_21.DatumTijd.dt.weekday < 5]\n",
    "\n",
    "fmn_gv_21_weekenddays_group = fmn_gv_21_weekenddays.groupby(fmn_gv_21_weekenddays.DatumTijd.dt.hour).mean([\"Aantal fietsers\"])\n",
    "fmn_gv_21_weekdays_group = fmn_gv_21_weekdays.groupby(fmn_gv_21_weekdays.DatumTijd.dt.hour).mean([\"Aantal fietsers\"])\n",
    "\n",
    "ax = fmn_gv_21_weekdays_group[[\"Aantal fietsers\"]].plot()\n",
    "fmn_gv_21_weekenddays_group[[\"Aantal fietsers\"]].plot(ax=ax)\n",
    "\n",
    "ax.set_xticks([i for i in range(24)])\n",
    "ax.set_xlabel(\"Hour\")\n",
    "ax.set_ylabel(\"Average number of cyclists\")\n",
    "ax.legend([\"Week\", \"Weekend\"])\n"
   ]
  },
  {
   "cell_type": "markdown",
   "metadata": {},
   "source": [
    "What about the impact of the seasons? Are there more cyclists in the summer, or less because we have fewer commuters?\n",
    "\n",
    "Show a graph of the average number of cyclists overy month for weekends and for weekdays."
   ]
  },
  {
   "cell_type": "code",
   "execution_count": null,
   "metadata": {},
   "outputs": [],
   "source": [
    "# DELETE\n",
    "\n",
    "# fmn_gv_21_weekenddays = fmn_gv_21.loc[fmn_gv_21.DatumTijd.dt.weekday >= 5]\n",
    "# fmn_gv_21_weekdays = fmn_gv_21.loc[fmn_gv_21.DatumTijd.dt.weekday < 5]\n",
    "\n",
    "fmn_gv_21_weekenddays_group = fmn_gv_21_weekenddays.groupby(fmn_gv_21_weekenddays.DatumTijd.dt.month).mean([\"Aantal fietsers\"])\n",
    "fmn_gv_21_weekdays_group = fmn_gv_21_weekdays.groupby(fmn_gv_21_weekdays.DatumTijd.dt.month).mean([\"Aantal fietsers\"])\n",
    "\n",
    "ax = fmn_gv_21_weekdays_group[[\"Aantal fietsers\"]].plot()\n",
    "fmn_gv_21_weekenddays_group[[\"Aantal fietsers\"]].plot(ax=ax)\n",
    "\n",
    "ax.set_xticks([i for i in range(12)])\n",
    "ax.set_xlabel(\"Month\")\n",
    "ax.set_ylabel(\"Average number of cyclists\")\n",
    "ax.legend([\"Week\", \"Weekend\"])"
   ]
  },
  {
   "cell_type": "markdown",
   "metadata": {},
   "source": [
    "If ever a graph explained how humans work, this would be it.\n",
    "\n",
    "* Weekendcycling is up when it's nice and warm (April-September).\n",
    "* Weekcycling has a spike in September (\"This year, I'll commute by bike!) and a quick and sharp fall afterwards.\n",
    "* In February the new years resolutions kick in and people start cycling again.\n",
    "* Weekcycling is up when it's warm, but has a fall during the holidays (July and August).\n",
    "\n",
    "Finally, recreate this graph but with all records, not just the ones from \"fmn_gv_21\"."
   ]
  },
  {
   "cell_type": "code",
   "execution_count": null,
   "metadata": {},
   "outputs": [],
   "source": [
    "# DELETE\n",
    "\n",
    "all_weekenddays = df.loc[df.DatumTijd.dt.weekday >= 5]\n",
    "all_weekdays = df.loc[df.DatumTijd.dt.weekday < 5]\n",
    "\n",
    "all_weekenddays_group = all_weekenddays.groupby(all_weekenddays.DatumTijd.dt.month).mean([\"Aantal fietsers\"])\n",
    "all_weekdays_group = all_weekdays.groupby(all_weekdays.DatumTijd.dt.month).mean([\"Aantal fietsers\"])\n",
    "\n",
    "ax = all_weekdays_group[[\"Aantal fietsers\"]].plot()\n",
    "all_weekenddays_group[[\"Aantal fietsers\"]].plot(ax=ax)\n",
    "\n",
    "ax.set_xticks([i for i in range(12)])\n",
    "ax.set_xlabel(\"Month\")\n",
    "ax.set_ylabel(\"Average number of cyclists\")\n",
    "ax.legend([\"Week\", \"Weekend\"])"
   ]
  },
  {
   "cell_type": "markdown",
   "metadata": {},
   "source": [
    "The spikes are still there, but the difference between week and weekend is somewhat smoothed over."
   ]
  },
  {
   "cell_type": "markdown",
   "metadata": {},
   "source": [
    "## Boxplots\n",
    "\n",
    "We've done a lot of line charts, but maybe a boxplot would be interesting as well. Could we show a boxplot of all daily averages for all the measuring points per month?"
   ]
  },
  {
   "cell_type": "code",
   "execution_count": null,
   "metadata": {},
   "outputs": [],
   "source": [
    "# DELETE\n",
    "\n",
    "import seaborn as sns\n",
    "\n",
    "df_month = df.groupby([df.DatumTijd.dt.month, df[\"Meetpunt code\"]]).mean([\"Aantal fietsers\"]).reset_index()\n",
    "\n",
    "sns.boxplot(data=df_month, x=\"DatumTijd\", y=\"Aantal fietsers\")"
   ]
  },
  {
   "cell_type": "markdown",
   "metadata": {},
   "source": [
    "There seems to be one outlier, a bikepath with a monthly average of over 800 cyclists. Which is it?"
   ]
  },
  {
   "cell_type": "code",
   "execution_count": null,
   "metadata": {},
   "outputs": [],
   "source": [
    "# DELETE\n",
    "\n",
    "df_month.loc[df_month[\"Aantal fietsers\"] > 800]"
   ]
  },
  {
   "cell_type": "markdown",
   "metadata": {},
   "source": [
    "There are rules to calculate outliers, but the most common one is the 1.5 * IQR rule. This datapoint is definitely an outlier. Remove it!"
   ]
  },
  {
   "cell_type": "code",
   "execution_count": null,
   "metadata": {},
   "outputs": [],
   "source": [
    "# DELETE\n",
    "\n",
    "df_month = df_month[df_month[\"Aantal fietsers\"] <= 800]\n",
    "\n",
    "sns.boxplot(data=df_month, x=\"DatumTijd\", y=\"Aantal fietsers\")"
   ]
  },
  {
   "cell_type": "markdown",
   "metadata": {},
   "source": [
    "Now look at only the averages and explain your data."
   ]
  }
 ],
 "metadata": {
  "kernelspec": {
   "display_name": "venv",
   "language": "python",
   "name": "python3"
  },
  "language_info": {
   "codemirror_mode": {
    "name": "ipython",
    "version": 3
   },
   "file_extension": ".py",
   "mimetype": "text/x-python",
   "name": "python",
   "nbconvert_exporter": "python",
   "pygments_lexer": "ipython3",
   "version": "3.12.5"
  },
  "orig_nbformat": 4
 },
 "nbformat": 4,
 "nbformat_minor": 2
}
