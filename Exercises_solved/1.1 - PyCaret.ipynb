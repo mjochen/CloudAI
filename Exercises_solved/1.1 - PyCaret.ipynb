{
 "cells": [
  {
   "cell_type": "markdown",
   "metadata": {},
   "source": [
    "# PyCaret\n",
    "\n",
    "https://pycaret.org/\n",
    "\n",
    "There is low code for everything nowadays, so why not for AI. It can help you with\n",
    "\n",
    "\n",
    "* Exploratory Data Analysis\n",
    "* Data Preprocessing\n",
    "* Model Training\n",
    "* Model Explainability\n",
    "* MLOps\n",
    "\n",
    "So let's give it a test run.\n",
    "\n",
    "Make sure you setup your virtual environment before running this code. Quick reminder:\n",
    "\n",
    "```Shell\n",
    "python -m venv venv\n",
    "./venv/Scripts/activate\n",
    "```"
   ]
  },
  {
   "cell_type": "markdown",
   "metadata": {},
   "source": [
    "**Note**\n",
    "\n",
    "I had some issues installing PyCaret in a Python 3.11 virtual environment. It was fixed by installing Python 3.10 (making sure not to overwrite the default 3.11-installation) and building a virtual environment from that version of Python. You can have two virtual environments in the same folder by making sure they have a different name. Something like this:\n",
    "\n",
    "```Shell\n",
    "&'C:\\Python 3.10\\python.exe' -m venv venv_caret\n",
    ".\\venv_caret\\Scripts\\activate\n",
    "```"
   ]
  },
  {
   "cell_type": "code",
   "execution_count": null,
   "metadata": {},
   "outputs": [],
   "source": [
    "!pip install pandas numpy\n",
    "!pip install pycaret"
   ]
  },
  {
   "cell_type": "markdown",
   "metadata": {},
   "source": [
    "A [quickstart](https://pycaret.gitbook.io/docs/get-started/quickstart) sounds nice. The following is a copy of the code, for the explanations you'll need to visit the website."
   ]
  },
  {
   "cell_type": "code",
   "execution_count": null,
   "metadata": {},
   "outputs": [],
   "source": [
    "# load sample dataset\n",
    "from pycaret.datasets import get_data\n",
    "data = get_data('diabetes')"
   ]
  },
  {
   "cell_type": "code",
   "execution_count": null,
   "metadata": {},
   "outputs": [],
   "source": [
    "from pycaret.classification import *\n",
    "s = setup(data, target = 'Class variable', session_id = 123)"
   ]
  },
  {
   "cell_type": "code",
   "execution_count": null,
   "metadata": {},
   "outputs": [],
   "source": [
    "# from pycaret.classification import ClassificationExperiment\n",
    "# s = ClassificationExperiment()\n",
    "# s.setup(data, target = 'Class variable', session_id = 123)\n",
    "\n",
    "# --> we'll be working with the functional API, not the OOP API"
   ]
  },
  {
   "cell_type": "code",
   "execution_count": null,
   "metadata": {},
   "outputs": [],
   "source": [
    "# functional API\n",
    "best = compare_models()"
   ]
  },
  {
   "cell_type": "code",
   "execution_count": null,
   "metadata": {},
   "outputs": [],
   "source": [
    "print(best)"
   ]
  },
  {
   "cell_type": "markdown",
   "metadata": {},
   "source": [
    "Do you see all the different metrics that are measured? We'll get deeper into them in some of the later chapters."
   ]
  },
  {
   "cell_type": "code",
   "execution_count": null,
   "metadata": {},
   "outputs": [],
   "source": [
    "# functional API\n",
    "evaluate_model(best)"
   ]
  },
  {
   "cell_type": "code",
   "execution_count": null,
   "metadata": {},
   "outputs": [],
   "source": [
    "# functional API\n",
    "predict_model(best)"
   ]
  },
  {
   "cell_type": "code",
   "execution_count": null,
   "metadata": {},
   "outputs": [],
   "source": [
    "# functional API\n",
    "predictions = predict_model(best, data=data)\n",
    "predictions.head()\n"
   ]
  },
  {
   "cell_type": "code",
   "execution_count": null,
   "metadata": {},
   "outputs": [],
   "source": [
    "# functional API\n",
    "save_model(best, 'my_best_pipeline')"
   ]
  },
  {
   "cell_type": "code",
   "execution_count": null,
   "metadata": {},
   "outputs": [],
   "source": [
    "# functional API\n",
    "loaded_model = load_model('my_best_pipeline')\n",
    "print(loaded_model)"
   ]
  },
  {
   "cell_type": "markdown",
   "metadata": {},
   "source": [
    "# The actual exercise\n",
    "\n",
    "There was not much exercise in the part before this. We also didn't complete the Quickstart, but more copy pasting would not have helped us any further.\n",
    "\n",
    "What would help us, and the world, much more is to solve heart failure. Or just help predicting it. We'll be using a [kaggle](https://www.kaggle.com/datasets/johnsmith88/heart-disease-dataset) dataset."
   ]
  },
  {
   "cell_type": "markdown",
   "metadata": {},
   "source": [
    "## Step 1: import dependencies\n",
    "\n",
    "You need pandas and pycaret. Import them."
   ]
  },
  {
   "cell_type": "code",
   "execution_count": null,
   "metadata": {},
   "outputs": [],
   "source": [
    "# DELETE\n",
    "\n",
    "import pandas as pd\n",
    "from pycaret.classification import *"
   ]
  },
  {
   "cell_type": "markdown",
   "metadata": {},
   "source": [
    "## Step 2: Download and import data\n",
    "\n",
    "Download the data from above and import as a pandas dataframe. It's also stored in the files-folder."
   ]
  },
  {
   "cell_type": "code",
   "execution_count": null,
   "metadata": {},
   "outputs": [],
   "source": [
    "# DELETE\n",
    "\n",
    "df = pd.read_csv('files/heart.csv')\n",
    "df.head()"
   ]
  },
  {
   "cell_type": "markdown",
   "metadata": {},
   "source": [
    "Look at the types. Make a list with all the column names that contain categorical features."
   ]
  },
  {
   "cell_type": "code",
   "execution_count": null,
   "metadata": {},
   "outputs": [],
   "source": [
    "df.dtypes"
   ]
  },
  {
   "cell_type": "code",
   "execution_count": null,
   "metadata": {},
   "outputs": [],
   "source": [
    "# DELETE\n",
    "\n",
    "cat_features = ['sex', 'cp', 'fbs', 'restecg', 'exang', 'thal']"
   ]
  },
  {
   "cell_type": "markdown",
   "metadata": {},
   "source": [
    "## Step 3: Train and evaluate model\n",
    "\n",
    "Setup and experiment first. Make sure to pass the list of catergorical features."
   ]
  },
  {
   "cell_type": "code",
   "execution_count": null,
   "metadata": {},
   "outputs": [],
   "source": [
    "# DELETE\n",
    "\n",
    "experiment = setup(df, target='target', categorical_features=cat_features)\n"
   ]
  },
  {
   "cell_type": "markdown",
   "metadata": {},
   "source": [
    "Now the experiment is setup we can use it to compare the different models. Save the result in a variable!"
   ]
  },
  {
   "cell_type": "code",
   "execution_count": null,
   "metadata": {},
   "outputs": [],
   "source": [
    "# DELETE\n",
    "\n",
    "best_model = compare_models()"
   ]
  },
  {
   "cell_type": "markdown",
   "metadata": {},
   "source": [
    "## Step 4: Test model\n",
    "\n",
    "Now that you have tested a lot of models, test the best model. Use only the bottom five lines of the data to test on."
   ]
  },
  {
   "cell_type": "code",
   "execution_count": null,
   "metadata": {},
   "outputs": [],
   "source": [
    "# DELETE\n",
    "\n",
    "# predict_model(best_model, data=df.drop('target', axis=1).tail()) -> without the target column, so how you would normally use a model\n",
    "predict_model(best_model, data=df.tail())"
   ]
  },
  {
   "cell_type": "markdown",
   "metadata": {},
   "source": [
    "## Step 5: Save the model\n",
    "\n",
    "In a pickle-file."
   ]
  },
  {
   "cell_type": "code",
   "execution_count": null,
   "metadata": {},
   "outputs": [],
   "source": [
    "# DELETE\n",
    "\n",
    "save_model(best_model, 'files/heart_model')"
   ]
  },
  {
   "cell_type": "markdown",
   "metadata": {},
   "source": [
    "And you may feel bad for your teacher having to look all this up, but [don't](https://youtu.be/sL-4rWuEiVw?si=wr5YAFCrg1LlSkcP)."
   ]
  }
 ],
 "metadata": {
  "kernelspec": {
   "display_name": "venv",
   "language": "python",
   "name": "python3"
  },
  "language_info": {
   "codemirror_mode": {
    "name": "ipython",
    "version": 3
   },
   "file_extension": ".py",
   "mimetype": "text/x-python",
   "name": "python",
   "nbconvert_exporter": "python",
   "pygments_lexer": "ipython3",
   "version": "3.10.11"
  },
  "orig_nbformat": 4
 },
 "nbformat": 4,
 "nbformat_minor": 2
}
