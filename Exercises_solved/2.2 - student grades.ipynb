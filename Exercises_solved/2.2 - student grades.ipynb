{
 "cells": [
  {
   "attachments": {},
   "cell_type": "markdown",
   "metadata": {},
   "source": [
    "# Student grades\n",
    "\n",
    "At the end of the year we can ask for an excel-sheet containing all grades for all students of ITF (and ACS, and ELO-ICT and the \"WES\", which is \"working and studying\" for people who come to get a degree while still working four days a week). This sheet contains all students, their courses and their grades.\n",
    "\n",
    "Unfortunately, we can't pass this information on. Even more than not following the GDPR (and thus illegal) it would show an appalling lack in tact.\n",
    "\n",
    "Therefore we changed some things\n",
    "- All student ID's (r-numbers) have been changed into an equally long random number\n",
    "- All names have been changed into the names of actors\n",
    "- All grades have been changed into a letter using the function in the next code-block\n",
    "\n",
    "Student ID's and names have always been changed into the same actor. So if student X became Matt Damon in 20-21, the same student will be Matt Damon in 21-22.\n"
   ]
  },
  {
   "cell_type": "code",
   "execution_count": null,
   "metadata": {},
   "outputs": [],
   "source": [
    "# the function used to change the grades:\n",
    "\n",
    "def replace_grade(grade):\n",
    "    if grade in ['NA', '#']: # NA = student did not take exam, but could have and # = no exam\n",
    "        return grade\n",
    "    if grade == 'G': # Pass/fail-course, passed\n",
    "        return \"PASS\"\n",
    "    if grade == 'NG': # Pass/fail-course, not passed\n",
    "        return \"FAIL\"\n",
    "    grade = float(grade) # Grade is a number, so student took exam and got some grades\n",
    "    if grade == 0:\n",
    "        return 'ZERO'\n",
    "    if grade >= 17:\n",
    "        return 'A'\n",
    "    if grade >= 14:\n",
    "        return 'B'\n",
    "    if grade >= 10:\n",
    "        return 'C'\n",
    "    if grade >= 8: \n",
    "        return 'D'\n",
    "    return 'F'"
   ]
  },
  {
   "cell_type": "markdown",
   "metadata": {},
   "source": [
    "The files are all csv-files. The biggest downside: they're in Dutch. This is mainly annoying in the program names and column names. The course names are already in English. If you don't understand a column name, use [deepl](http://www.deepl.com) to translate it.\n",
    "\n",
    "You can open them as follows:"
   ]
  },
  {
   "cell_type": "code",
   "execution_count": null,
   "metadata": {},
   "outputs": [],
   "source": [
    "import pandas as pd\n",
    "import numpy as np\n",
    "\n",
    "df_20_21 = pd.read_csv('files/grades 20-21_anonymous.csv', sep=';')\n",
    "df_21_22 = pd.read_csv('files/grades 21-22_anonymous.csv', sep=';')\n",
    "df_22_23 = pd.read_csv('files/grades 22-23_anonymous.csv', sep=';')\n",
    "df_23_24 = pd.read_csv('files/grades 23-24_anonymous.csv', sep=';')\n",
    "\n",
    "df_20_21.head(2)"
   ]
  },
  {
   "cell_type": "code",
   "execution_count": null,
   "metadata": {},
   "outputs": [],
   "source": [
    "df_21_22.head(2)"
   ]
  },
  {
   "cell_type": "code",
   "execution_count": null,
   "metadata": {},
   "outputs": [],
   "source": [
    "df_23_24.head(2)"
   ]
  },
  {
   "cell_type": "markdown",
   "metadata": {},
   "source": [
    "As you see there are some differences. They all have the same columns, but in 20-21 \"Score 1e kans\" and \"Score 2e kans\" weren't used. You can fill them in though, because the \"Score na juni\" is the \"Score 1e kans\" and \"Score september\" is \"Score 2e kans\". The column \"Score\" is always the final score, which is...\n",
    "\n",
    "* The highest of \"Score 1e kans\" and \"Score 2e kans\".\n",
    "* Or it used to be possible that a student kept the highest score, even if he got that the year before.\n",
    "\n",
    "Copy the values of the scores in june or september to the 1e kans and 2e kans-columns. You can do this quick and dirty (overwrite always) are make sure you don't overwrite any values already in the new columns."
   ]
  },
  {
   "cell_type": "code",
   "execution_count": null,
   "metadata": {},
   "outputs": [],
   "source": [
    "#DELETE\n",
    "\n",
    "# Quick and dirty:\n",
    "# df_20_21[\"Score 1e kans\"] = df_20_21[\"Score na juni\"]\n",
    "# df_20_21[\"Score 2e kans\"] = df_20_21[\"Score September\"]\n",
    "\n",
    "# Long and clean:\n",
    "df_20_21.loc[df_20_21[\"Score 1e kans\"] == \"#\",\"Score 1e kans\"] = df_20_21.loc[df_20_21[\"Score 1e kans\"] == \"#\",\"Score na juni\"]\n",
    "df_20_21.loc[df_20_21[\"Score 2e kans\"] == \"#\",\"Score 2e kans\"] = df_20_21.loc[df_20_21[\"Score 2e kans\"] == \"#\",\"Score September\"]\n",
    "\n",
    "df_20_21.head()"
   ]
  },
  {
   "cell_type": "markdown",
   "metadata": {},
   "source": [
    "Next up is to join the three dataframes. Make sure to add a column called \"Year\" so you know which year a grade is from! Check by looking up a student and confirming he has courses over multiple years."
   ]
  },
  {
   "cell_type": "code",
   "execution_count": null,
   "metadata": {},
   "outputs": [],
   "source": [
    "#DELETE\n",
    "\n",
    "df_20_21[\"Year\"] = \"2020-2021\"\n",
    "df_21_22[\"Year\"] = \"2021-2022\"\n",
    "df_22_23[\"Year\"] = \"2022-2023\"\n",
    "df_23_24[\"Year\"] = \"2023-2024\"\n",
    "\n",
    "df = pd.concat([df_20_21, df_21_22, df_22_23, df_23_24], ignore_index=True, sort=False)\n",
    "\n",
    "# df.head()\n",
    "\n",
    "df.loc[df[\"Student\"] == 544120].head(20)"
   ]
  },
  {
   "cell_type": "markdown",
   "metadata": {},
   "source": [
    "A quick word about tolerances. The possible values are:\n",
    "* \"#\" none needed.\n",
    "* \"AT\" student chose to apply tolerance.\n",
    "* \"TT\" school applied tolerance automatically so the student could graduate. Only happens in the final year."
   ]
  },
  {
   "cell_type": "code",
   "execution_count": null,
   "metadata": {},
   "outputs": [],
   "source": [
    "df[\"Tolerantie\"].unique()"
   ]
  },
  {
   "cell_type": "markdown",
   "metadata": {},
   "source": [
    "Some more cleanup:\n",
    "\n",
    "* You don't need \"Score Januari\", \"Score Juni\", \"Score na juni\" and \"Score September\" anymore.\n",
    "* \"#\" is actually an empty value. Note that \"#\" is sometimes \" #\".\n",
    "* \"Score 1e kans\", \"Score 2e kans\" and \"Score\" are ordered categoricals.\n",
    "* Tolerances are also categoricals, but not ordered.\n"
   ]
  },
  {
   "cell_type": "code",
   "execution_count": null,
   "metadata": {},
   "outputs": [],
   "source": [
    "df[\"Score\"].unique()"
   ]
  },
  {
   "cell_type": "code",
   "execution_count": null,
   "metadata": {},
   "outputs": [],
   "source": [
    "# DELETE\n",
    "\n",
    "from pandas.api.types import CategoricalDtype\n",
    "\n",
    "df.drop([\"Score Januari\", \"Score Juni\", \"Score na juni\", \"Score September\"], axis=1, inplace=True, errors='ignore')\n",
    "df.replace({' #': None,'#': None}, inplace=True)\n",
    "\n",
    "grade = CategoricalDtype(categories=['A', 'B', 'PASS', 'C', 'D', 'F', 'FAIL', 'ZERO'], ordered=True)\n",
    "\n",
    "for f in [\"Score 1e kans\",\"Score 2e kans\",\"Score\"]:\n",
    "    df[f] = df[f].astype(grade)\n",
    "    \n",
    "tol = CategoricalDtype(categories=['AT', 'TT'], ordered=False)\n",
    "df[\"Tolerantie\"] = df[\"Tolerantie\"].astype(tol)\n",
    "\n",
    "df.head()"
   ]
  },
  {
   "cell_type": "markdown",
   "metadata": {},
   "source": [
    "So how hard is the Programming Essentials course? It's the z-code \"Z25499\". Show a pretty graph which counts the final grades.\n",
    "\n",
    "![](files/2023-09-20-12-12-43.png)"
   ]
  },
  {
   "cell_type": "code",
   "execution_count": null,
   "metadata": {},
   "outputs": [],
   "source": [
    "# DELETE\n",
    "\n",
    "import seaborn as sns\n",
    "\n",
    "sns.countplot(x=\"Score\", data=df.loc[df[\"ID Opleidingsond.\"] == \"Z25499\"])"
   ]
  },
  {
   "cell_type": "markdown",
   "metadata": {},
   "source": [
    "Split up by year?"
   ]
  },
  {
   "cell_type": "code",
   "execution_count": null,
   "metadata": {},
   "outputs": [],
   "source": [
    "# DELETE\n",
    "\n",
    "import seaborn as sns\n",
    "\n",
    "sns.countplot(x=\"Score\", data=df.loc[df[\"ID Opleidingsond.\"] == \"Z25499\"], hue=\"Year\")"
   ]
  },
  {
   "cell_type": "markdown",
   "metadata": {},
   "source": [
    "Maybe compare to networking essentials (Z25068)?"
   ]
  },
  {
   "cell_type": "code",
   "execution_count": null,
   "metadata": {},
   "outputs": [],
   "source": [
    "# DELETE\n",
    "\n",
    "import seaborn as sns\n",
    "\n",
    "sns.countplot(x=\"Score\", data=df.loc[df[\"ID Opleidingsond.\"].isin([\"Z25499\", \"Z25068\"])], hue=\"ID Opleidingsond.\")"
   ]
  },
  {
   "cell_type": "markdown",
   "metadata": {},
   "source": [
    "And the rest is up to you. Compare courses? Maybe look for the top student ever? And eventually try to predict where the students that started in 2023-2024 will end up based on the data of the other students?"
   ]
  }
 ],
 "metadata": {
  "kernelspec": {
   "display_name": "venv",
   "language": "python",
   "name": "python3"
  },
  "language_info": {
   "codemirror_mode": {
    "name": "ipython",
    "version": 3
   },
   "file_extension": ".py",
   "mimetype": "text/x-python",
   "name": "python",
   "nbconvert_exporter": "python",
   "pygments_lexer": "ipython3",
   "version": "3.12.5"
  },
  "orig_nbformat": 4
 },
 "nbformat": 4,
 "nbformat_minor": 2
}
