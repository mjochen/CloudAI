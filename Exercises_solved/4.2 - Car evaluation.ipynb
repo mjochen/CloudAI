{
 "cells": [
  {
   "attachments": {},
   "cell_type": "markdown",
   "metadata": {},
   "source": [
    "# Car evaluation\n",
    "\n",
    "This lab is based in the AWS-course for machine learning foundations, module 3, section 1, second question:\n",
    "\n",
    "Question: Can you use a car’s attributes to predict whether the car will be purchased?\n",
    "\n",
    "Why:\n",
    "* View statistics\n",
    "* Encode categorical data\n",
    "\n",
    "Citation\n",
    "\n",
    "Source: [UCI Car evaluation dataset](https://archive.ics.uci.edu/ml/datasets/Car+Evaluation) _-> already downloaded!_\n",
    "\n",
    "Dua, D. and Graff, C. (2019). UCI Machine Learning Repository [http://archive.ics.uci.edu/ml](http://archive.ics.uci.edu/ml). Irvine, CA: University of California, School of Information and Computer Science. "
   ]
  },
  {
   "attachments": {},
   "cell_type": "markdown",
   "metadata": {},
   "source": [
    "Importing is a bit more annoying now: the names of the columns are in a seperate file. We can copy those manually into a list, but we have to make sure the columns on the import are properly named."
   ]
  },
  {
   "cell_type": "code",
   "execution_count": null,
   "metadata": {},
   "outputs": [],
   "source": [
    "import pandas as pd\n",
    "\n",
    "col_names = (\"buying\",\"maint\",\"doors\",\"persons\",\"lug_boot\",\"safety\",\"class\")\n",
    "\n",
    "df = pd.read_csv(\"files/car+evaluation/car.data\", names=col_names)\n",
    "\n",
    "# df.head()\n",
    "df.info()"
   ]
  },
  {
   "attachments": {},
   "cell_type": "markdown",
   "metadata": {},
   "source": [
    "Notice anything off? Neither did I. But the text in \"buying\" is \"vhigh\" without a dash, and the text in \"car.names\" is \"v-high\" with a dash. Fix this now: replace all vhigh's with v-high's."
   ]
  },
  {
   "cell_type": "code",
   "execution_count": 2,
   "metadata": {},
   "outputs": [],
   "source": [
    "#DELETE\n",
    "\n",
    "df[\"buying\"] = df[\"buying\"].map({\"vhigh\": \"v-high\", \"high\": \"high\", \"med\": \"med\", \"low\": \"low\", \"v-high\": \"v-high\",}) # last one added for when you rerun this field on a df\n",
    "df[\"maint\"] = df[\"maint\"].map({\"vhigh\": \"v-high\", \"high\": \"high\", \"med\": \"med\", \"low\": \"low\"})"
   ]
  },
  {
   "attachments": {},
   "cell_type": "markdown",
   "metadata": {},
   "source": [
    "This dataset is an exercise for ordinal and nominal categorical values. Well, mainly ordinal really. You find the following list in the \"car.names\"-file:\n",
    "```\n",
    "   buying       v-high, high, med, low\n",
    "   maint        v-high, high, med, low\n",
    "   doors        2, 3, 4, 5-more\n",
    "   persons      2, 4, more\n",
    "   lug_boot     small, med, big\n",
    "   safety       low, med, high\n",
    "```\n",
    "... and class is in \"unacc, acc, good, v-good\".\n",
    "\n",
    "Let's make a deal: we pretend there are 100 columns that need to be converted and we don't feel like doing that manually. The only manual input you can do is in the following code block, everything else is done using functions and python-code."
   ]
  },
  {
   "cell_type": "code",
   "execution_count": 3,
   "metadata": {},
   "outputs": [],
   "source": [
    "field_values = \"\"\"   buying       v-high, high, med, low\n",
    "   maint        v-high, high, med, low\n",
    "   doors        2, 3, 4, 5-more\n",
    "   persons      2, 4, more\n",
    "   lug_boot     small, med, big\n",
    "   safety       low, med, high\n",
    "   class        unacc, acc, good, v-good\"\"\""
   ]
  },
  {
   "cell_type": "code",
   "execution_count": null,
   "metadata": {},
   "outputs": [],
   "source": [
    "#DELETE\n",
    "\n",
    "from pandas.api.types import CategoricalDtype\n",
    "\n",
    "def get_field_values(row):\n",
    "    \n",
    "    row = row.strip()\n",
    "    field = row.split(\" \")[0]\n",
    "    row = row[len(field):]\n",
    "    row = row.strip()\n",
    "    fields = [ i.strip() for i in row.split(\",\")]\n",
    "    \n",
    "    return field, fields\n",
    "\n",
    "assert get_field_values(\"   doors        2, 3, 4, 5-more\") == ('doors', ['2', '3', '4', '5-more'])\n",
    "\n",
    "for row in field_values.split(\"\\n\"):\n",
    "    field, values = get_field_values(row)\n",
    "    df[field] = df[field].astype(CategoricalDtype(categories=values, ordered=True))\n",
    "\n",
    "# df.head()\n",
    "df.info()"
   ]
  },
  {
   "attachments": {},
   "cell_type": "markdown",
   "metadata": {},
   "source": [
    "Notice what happened to doors and class? There were no non-null values and now there are! Looks like you need some more maps (besides the ones for buying and maint that we already made).\n",
    "\n",
    "Probably with the dashes again.\n",
    "\n",
    "At this point you'd normally go back to the top and rewrite this notebook, but for arguments sake, let's just rebuild the entire notebook starting here.\n",
    "\n",
    "* Import\n",
    "* No more maps\n",
    "* Re-use the field_values - variable\n",
    "* Rewrite the function extract the data to remove all dashes\n",
    "* Apply to the dataset\n",
    "* Show the info()"
   ]
  },
  {
   "cell_type": "code",
   "execution_count": null,
   "metadata": {},
   "outputs": [],
   "source": [
    "#DELETE\n",
    "\n",
    "col_names = (\"buying\",\"maint\",\"doors\",\"persons\",\"lug_boot\",\"safety\",\"class\")\n",
    "df = pd.read_csv(\"files/car+evaluation/car.data\", names=col_names)\n",
    "\n",
    "\n",
    "def get_field_values(row):\n",
    "    \n",
    "    row = row.strip()\n",
    "    field = row.split(\" \")[0]\n",
    "    row = row[len(field):]\n",
    "    row = row.strip()\n",
    "    fields = [ i.strip().replace('-','') for i in row.split(\",\")]\n",
    "    \n",
    "    return field, fields\n",
    "\n",
    "assert get_field_values(\"   doors        2, 3, 4, 5-more\") == ('doors', ['2', '3', '4', '5more'])\n",
    "\n",
    "for row in field_values.split(\"\\n\"):\n",
    "    field, values = get_field_values(row)\n",
    "    df[field] = df[field].astype(CategoricalDtype(categories=values, ordered=True))\n",
    "\n",
    "# df.head()\n",
    "df.info()"
   ]
  },
  {
   "attachments": {},
   "cell_type": "markdown",
   "metadata": {},
   "source": [
    "Some graps to close? A bar graph that shows the division in class.\n",
    "\n",
    "Maybe a small [hint](https://stackoverflow.com/questions/67311558/histogram-of-a-categorical-variable-with-matplotlib)?"
   ]
  },
  {
   "cell_type": "code",
   "execution_count": null,
   "metadata": {},
   "outputs": [],
   "source": [
    "#DELETE\n",
    "\n",
    "# https://stackoverflow.com/questions/67311558/histogram-of-a-categorical-variable-with-matplotlib\n",
    "\n",
    "import numpy as np\n",
    "import matplotlib.pyplot as plt\n",
    "\n",
    "categories = df['class'].value_counts().index\n",
    "counts = df['class'].value_counts().values\n",
    "plt.bar(categories, counts, width=0.5)\n",
    "\n",
    "plt.show()"
   ]
  },
  {
   "attachments": {},
   "cell_type": "markdown",
   "metadata": {},
   "source": [
    "Add the safety in the graph?"
   ]
  },
  {
   "cell_type": "code",
   "execution_count": null,
   "metadata": {},
   "outputs": [],
   "source": [
    "#DELETE\n",
    "\n",
    "# http://seaborn.pydata.org/tutorial/categorical.html\n",
    "\n",
    "import seaborn as sns\n",
    "\n",
    "sns.catplot(data=df, x=\"class\", hue=\"safety\", kind=\"count\")"
   ]
  },
  {
   "attachments": {},
   "cell_type": "markdown",
   "metadata": {},
   "source": [
    "* Unsafe car -> no sale\n",
    "* Medium safe care -> sometimes sale\n",
    "* Safe car -> best chance\n",
    "\n",
    "sounds about right. But it's hard to compare the numbers. Maybe stack the columns?"
   ]
  },
  {
   "cell_type": "code",
   "execution_count": null,
   "metadata": {},
   "outputs": [],
   "source": [
    "#DELETE\n",
    "sns.histplot(df, x='class', hue='safety', multiple='stack')"
   ]
  },
  {
   "attachments": {},
   "cell_type": "markdown",
   "metadata": {},
   "source": [
    "Nah, the last two are to low. Maybe if we fill the entire space with the bars?"
   ]
  },
  {
   "cell_type": "code",
   "execution_count": null,
   "metadata": {},
   "outputs": [],
   "source": [
    "#DELETE\n",
    "sns.histplot(df, x='class', hue='safety', multiple='fill')"
   ]
  },
  {
   "attachments": {},
   "cell_type": "markdown",
   "metadata": {},
   "source": [
    "There you go!\n",
    "\n",
    "* Unaccepted offers: about 50% low safety\n",
    "* Accepted offers: about 50/50\n",
    "* Good offers: about 50/50 (but more medium safe, which is strange)\n",
    "* Very good offers: only safe cars\n",
    "\n",
    "A little challenge to finish of. Lets have a grid of graphs, column is the number of people, row the size of the boot. In every graph we see the class of the cars there.\n",
    "\n",
    "A little sketch:\n",
    "\n",
    "![](files/2023-06-13-13-33-07.png)"
   ]
  },
  {
   "cell_type": "code",
   "execution_count": null,
   "metadata": {},
   "outputs": [],
   "source": [
    "#DELETE\n",
    "\n",
    "# https://stackoverflow.com/questions/26171230/matplotlib-seaborn-barplot-strings-in-x-axis\n",
    "\n",
    "sns.catplot(x=\"class\", col=\"persons\", row=\"lug_boot\", data=df, kind=\"count\")\n"
   ]
  }
 ],
 "metadata": {
  "kernelspec": {
   "display_name": "venv",
   "language": "python",
   "name": "python3"
  },
  "language_info": {
   "codemirror_mode": {
    "name": "ipython",
    "version": 3
   },
   "file_extension": ".py",
   "mimetype": "text/x-python",
   "name": "python",
   "nbconvert_exporter": "python",
   "pygments_lexer": "ipython3",
   "version": "3.12.5"
  },
  "orig_nbformat": 4
 },
 "nbformat": 4,
 "nbformat_minor": 2
}
