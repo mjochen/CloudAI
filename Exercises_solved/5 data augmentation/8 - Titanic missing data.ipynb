{
 "cells": [
  {
   "cell_type": "markdown",
   "id": "2767da20",
   "metadata": {},
   "source": [
    "# Handling the missing data in Titanic\n",
    "\n",
    "The titanic dataset has some missing data. Not that much, but enough for some experimentation."
   ]
  },
  {
   "cell_type": "markdown",
   "id": "d379b850",
   "metadata": {},
   "source": [
    "## Load data\n",
    "\n",
    "Let's start at the beginning. The file \"titanic3.xlsx\" is stored the \"files\"-folder. Load it into a pandas dataframe.\n"
   ]
  },
  {
   "cell_type": "code",
   "execution_count": null,
   "id": "303f5a9b",
   "metadata": {},
   "outputs": [],
   "source": [
    "#DELETE\n",
    "\n",
    "import pandas as pd\n",
    "import numpy as np\n",
    "import matplotlib.pyplot as plt\n",
    "import seaborn as sns\n",
    "\n",
    "df = pd.read_excel('../files/titanic3.xlsx', engine='openpyxl')\n",
    "df.head()"
   ]
  },
  {
   "cell_type": "markdown",
   "id": "afca66de",
   "metadata": {},
   "source": [
    "Which fields are good candidates for filling?\n",
    "\n",
    "Show how much values are missing in every column."
   ]
  },
  {
   "cell_type": "code",
   "execution_count": null,
   "id": "5ed58104",
   "metadata": {},
   "outputs": [],
   "source": [
    "#DELETE\n",
    "missing_values = df.isnull().sum()\n",
    "print(missing_values)"
   ]
  },
  {
   "cell_type": "markdown",
   "id": "69adcb5f",
   "metadata": {},
   "source": [
    "* \"Cabin\" has way to much missing data, so that's not a good candidate.\n",
    "* \"Embarked\" only has two missing values. We'll fill it first.\n",
    "* \"home.dest\" also has to much missing values to fill it up. It's also a text-field, which makes it difficult to predict. (On the other hand is doesn't have a lot of different values, which makes it possible again. Bet we'll ignore it for now.)\n",
    "* A NaN in \"boat\" and \"body\" mean that there was no body or the person was not in a boat. Filling in this data would be a very, very bad idea.\n",
    "* \"age\" is a good value. We'll be filling in that (repeatedly).\n"
   ]
  },
  {
   "cell_type": "markdown",
   "id": "790376bc",
   "metadata": {},
   "source": [
    "## Embarked\n",
    "\n",
    "Embarked is a text-field, one of three different values (the three stopt the titanic made before starting across the ocean).\n",
    "\n",
    "Fill in the missing values with the most frequent value (the mode). Mean or median is not an option here, as text doesn't have an order."
   ]
  },
  {
   "cell_type": "code",
   "execution_count": null,
   "id": "feecf16d",
   "metadata": {},
   "outputs": [],
   "source": [
    "#DELETE\n",
    "mode_embarked = df['embarked'].mode()[0]\n",
    "df['embarked'] = df['embarked'].fillna(mode_embarked)"
   ]
  },
  {
   "cell_type": "markdown",
   "id": "e7aa2740",
   "metadata": {},
   "source": [
    "## Age with mode\n",
    "\n",
    "Filling in with mode was easy. Let's try again for age!"
   ]
  },
  {
   "cell_type": "code",
   "execution_count": null,
   "id": "62cd2ebd",
   "metadata": {},
   "outputs": [],
   "source": [
    "#DELETE\n",
    "mode_age = df['age'].mode()[0]\n",
    "df['age'] = df['age'].fillna(mode_age)"
   ]
  },
  {
   "cell_type": "markdown",
   "id": "1a636cad",
   "metadata": {},
   "source": [
    "Now draw a histogram of age."
   ]
  },
  {
   "cell_type": "code",
   "execution_count": null,
   "id": "e97a1584",
   "metadata": {},
   "outputs": [],
   "source": [
    "#DELETE\n",
    "plt.figure(figsize=(8, 5))\n",
    "df['age'].hist(bins=20, edgecolor='black')\n",
    "plt.title('Age Distribution')\n",
    "plt.xlabel('Age')\n",
    "plt.ylabel('Frequency')\n",
    "plt.show()"
   ]
  },
  {
   "cell_type": "markdown",
   "id": "2a9a4025",
   "metadata": {},
   "source": [
    "That kind of looks like an impolite gesture. Filling in with mode is a bad idea for a number of reasons:\n",
    "\n",
    "* Artificial spike at the mode value\n",
    "    * The histogram will show a large, unnatural peak at the mode value (e.g., age 24), because all missing values are replaced with one single number.\n",
    "    * This distorts the distribution, making it look like a large portion of passengers were that exact age, which is not true.\n",
    "* Loss of variability\n",
    "    * Age is a continuous variable with a natural spread.\n",
    "    * By filling with the mode, you are compressing variability and creating a misleading summary of the data.\n",
    "    * This can negatively affect models, especially those that rely on the shape of the distribution (e.g. tree-based models or k-NN).\n",
    "* Bias introduction\n",
    "    * The mode might not represent all subgroups equally.\n",
    "    * For example, 24 might be the mode because of many young third-class passengers, but missing ages could belong to older first-class passengers.\n",
    "    * Filling with the mode ignores class-based, gender-based, or other contextual patterns in age.\n",
    "* Misleading statistics\n",
    "    * Measures like mean, median, and standard deviation will be inaccurate.\n",
    "    * You're biasing the age distribution toward a single value, affecting any further analysis.\n",
    "\n",
    "The median would be marginally better: It doesn\u2019t create a sharp peak and is less sensitive to outliers. It's still naive but more distributionally fair.\n",
    "\n",
    "Before you continue, reload the data to empty up the column again."
   ]
  },
  {
   "cell_type": "code",
   "execution_count": null,
   "id": "5464c582",
   "metadata": {},
   "outputs": [],
   "source": [
    "df = pd.read_excel('../files/titanic3.xlsx', engine='openpyxl')"
   ]
  },
  {
   "cell_type": "markdown",
   "id": "c5032935",
   "metadata": {},
   "source": [
    "## Group-wise median or mean\n",
    "\n",
    "A better alternative is to fill in the median based on a group. This group can be \"all passengers from the third class\" or \"gender\". Let's start with just the pclass variable.\n",
    "\n",
    "Fill in age based in Pclass and show the histogram."
   ]
  },
  {
   "cell_type": "code",
   "execution_count": null,
   "id": "5bef8e15",
   "metadata": {},
   "outputs": [],
   "source": [
    "#DELETE\n",
    "df['age_pclass'] = df['age'].fillna(df.groupby('pclass')['age'].transform('median'))\n",
    "\n",
    "plt.figure(figsize=(8, 5))\n",
    "df['age_pclass'].hist(bins=20, edgecolor='black')\n",
    "plt.title('Age Distribution')\n",
    "plt.xlabel('Age')\n",
    "plt.ylabel('Frequency')\n",
    "plt.show()"
   ]
  },
  {
   "cell_type": "markdown",
   "id": "86e4cf3e",
   "metadata": {},
   "source": [
    "Still a big spike. Which makes sense when you look at the passenger-distribution.\n",
    "\n",
    "![](../files/2025-05-14-19-52-01.png)\n",
    "\n",
    "A lot more people are from third class. And more of those don't have a registered age to. Maybe of we fill in the age based on class and gender?"
   ]
  },
  {
   "cell_type": "code",
   "execution_count": null,
   "id": "5271d656",
   "metadata": {
    "vscode": {
     "languageId": "ruby"
    }
   },
   "outputs": [],
   "source": [
    "#DELETE\n",
    "df['age_class_gender'] = df['age'].fillna(df.groupby(['pclass', 'sex'])['age'].transform('median'))\n",
    "\n",
    "plt.figure(figsize=(8, 5))\n",
    "df['age_class_gender'].hist(bins=20, edgecolor='black')\n",
    "plt.title('Age Distribution (Filled by Class and Gender)')\n",
    "plt.xlabel('Age')\n",
    "plt.ylabel('Frequency')\n",
    "plt.show()"
   ]
  },
  {
   "cell_type": "markdown",
   "id": "676d5951",
   "metadata": {},
   "source": [
    "Better. But let's not forget title, which leads to a very nice sidestep into the wonderful world of feature engineering.\n",
    "\n",
    "Extract the \"title\" from the name-column. Show all different values in the column and the how many times they appear."
   ]
  },
  {
   "cell_type": "code",
   "execution_count": null,
   "id": "2265b9a0",
   "metadata": {},
   "outputs": [],
   "source": [
    "#DELETE\n",
    "df['title'] = df['name'].str.extract(r',\\s*([^\\.]+)\\.')\n",
    "df['title'].head()\n",
    "\n",
    "title_counts = df['title'].value_counts()\n",
    "print(title_counts)"
   ]
  },
  {
   "cell_type": "markdown",
   "id": "0f46dbf8",
   "metadata": {},
   "source": [
    "Mr, Miss, Mrs and Master are very good predictors: married women (mrs) are probably a bit older than unmarried women (miss), and \"master\" is the title given to a child.\n",
    "\n",
    "But the other titles introduce other problems: what if the one \"dona\" we have doesn't have an age? And in a small group the median will basically be a random number.\n",
    "\n",
    "Combine the other into the existing categories. Create a new column called \"title_grouping\" and group all officers and royalty and translate \"Mlle\" and \"Ms\" to \"Miss\" and \"Mme\" to \"Mrs\"."
   ]
  },
  {
   "cell_type": "code",
   "execution_count": null,
   "id": "8851e08b",
   "metadata": {},
   "outputs": [],
   "source": [
    "df['title_grouping'] = df['title'].replace({\n",
    "    'Capt': 'Officer',\n",
    "    'Col': 'Officer',\n",
    "    'Major': 'Officer',\n",
    "    'Dr': 'Officer',\n",
    "    'Rev': 'Officer',\n",
    "    'Jonkheer': 'Royalty',\n",
    "    'Don': 'Royalty',\n",
    "    'Sir': 'Royalty',\n",
    "    'Lady': 'Royalty',\n",
    "    'the Countess': 'Royalty',\n",
    "    'Dona': 'Royalty',\n",
    "    'Mlle': 'Miss',\n",
    "    'Ms': 'Miss',\n",
    "    'Mme': 'Mrs',\n",
    "})\n",
    "\n",
    "title_counts = df['title_grouping'].value_counts()\n",
    "print(title_counts)"
   ]
  },
  {
   "cell_type": "markdown",
   "id": "604d704a",
   "metadata": {},
   "source": [
    "Now fill in the age based on all three values."
   ]
  },
  {
   "cell_type": "code",
   "execution_count": null,
   "id": "b7e6b8d3",
   "metadata": {
    "vscode": {
     "languageId": "ruby"
    }
   },
   "outputs": [],
   "source": [
    "#DELETE\n",
    "df['age_class_gender_title'] = df['age'].fillna(\n",
    "    df.groupby(['pclass', 'sex', 'title_grouping'])['age'].transform('median')\n",
    ")\n",
    "\n",
    "plt.figure(figsize=(8, 5))\n",
    "df['age_class_gender_title'].hist(bins=20, edgecolor='black')\n",
    "plt.title('Age Distribution (Filled by Class, Gender, and Title)')\n",
    "plt.xlabel('Age')\n",
    "plt.ylabel('Frequency')\n",
    "plt.show()"
   ]
  },
  {
   "cell_type": "markdown",
   "id": "ed3ee470",
   "metadata": {},
   "source": [
    "Don't forget to clean up by loading the data again!"
   ]
  },
  {
   "cell_type": "code",
   "execution_count": null,
   "id": "75459a7f",
   "metadata": {
    "vscode": {
     "languageId": "ruby"
    }
   },
   "outputs": [],
   "source": [
    "df = pd.read_excel('../files/titanic3.xlsx', engine='openpyxl')"
   ]
  },
  {
   "cell_type": "markdown",
   "id": "45a832f5",
   "metadata": {},
   "source": [
    "## Model based imputation\n",
    "\n",
    "When you start filling in NaN-values based on other columns there is a limit to how far we can go. Every extra column we add into the mix makes the groups smaller and the median less reliable. Better is to create a model and predict the values based on that model.\n",
    "\n",
    "To build a linear regressor we'll use the numerical columns we have, like 'pclass', 'sibsp', 'parch' and 'fare'. The irony is we can't use fare as it has 1 missing value. Fill it in based on pclass."
   ]
  },
  {
   "cell_type": "code",
   "execution_count": null,
   "id": "fe536e9f",
   "metadata": {
    "vscode": {
     "languageId": "ruby"
    }
   },
   "outputs": [],
   "source": [
    "#DELETE\n",
    "df['fare'] = df['fare'].fillna(df.groupby('pclass')['fare'].transform('median'))"
   ]
  },
  {
   "cell_type": "markdown",
   "id": "19c99b21",
   "metadata": {},
   "source": [
    "Next build a linear regressor based on the four features we have."
   ]
  },
  {
   "cell_type": "code",
   "execution_count": null,
   "id": "f080d459",
   "metadata": {},
   "outputs": [],
   "source": [
    "#DELETE\n",
    "from sklearn.linear_model import LinearRegression\n",
    "from sklearn.model_selection import train_test_split\n",
    "\n",
    "# Select features for regression\n",
    "features = ['pclass', 'sibsp', 'parch', 'fare']\n",
    "df_features = df[features]\n",
    "df_features = df_features.fillna(df_features.mean())  # Fill missing values in features\n",
    "\n",
    "# Split data into training and prediction sets\n",
    "train_data = df[df['age'].notnull()]\n",
    "predict_data = df[df['age'].isnull()]\n",
    "\n",
    "X_train = train_data[features]\n",
    "y_train = train_data['age']\n",
    "X_predict = predict_data[features]\n",
    "\n",
    "# Train the regression model\n",
    "regressor = LinearRegression()\n",
    "regressor.fit(X_train, y_train)\n",
    "\n",
    "# Predict missing ages\n",
    "predicted_ages = regressor.predict(X_predict)\n",
    "\n",
    "# Impute the missing values\n",
    "df.loc[df['age'].isnull(), 'age'] = predicted_ages"
   ]
  },
  {
   "cell_type": "markdown",
   "id": "c36a3b01",
   "metadata": {},
   "source": [
    "And plot again?"
   ]
  },
  {
   "cell_type": "code",
   "execution_count": null,
   "id": "64133a71",
   "metadata": {},
   "outputs": [],
   "source": [
    "#DELETE\n",
    "plt.figure(figsize=(8, 5))\n",
    "df['age'].hist(bins=20, edgecolor='black')\n",
    "plt.title('Age Distribution')\n",
    "plt.xlabel('Age')\n",
    "plt.ylabel('Frequency')\n",
    "plt.show()"
   ]
  },
  {
   "cell_type": "markdown",
   "id": "6af30f47",
   "metadata": {},
   "source": [
    "Not a very good imputation. Of course we're only using four columns and passing very good ones like gender and title. We could encode these (ordinals into an integer, nominals in a one-hot encoding) A better model could help, preferably a tree-based model that handles categoricals better.\n",
    "\n",
    "This is the point where you'll be needing the [simpleImputer](https://scikit-learn.org/stable/modules/generated/sklearn.impute.SimpleImputer.html\n",
    ") from sklearn."
   ]
  },
  {
   "cell_type": "code",
   "execution_count": null,
   "id": "dd8374bf",
   "metadata": {},
   "outputs": [],
   "source": [
    "from sklearn.ensemble import RandomForestRegressor\n",
    "from sklearn.model_selection import train_test_split\n",
    "from sklearn.preprocessing import OneHotEncoder\n",
    "from sklearn.compose import ColumnTransformer\n",
    "from sklearn.pipeline import Pipeline\n",
    "from sklearn.impute import SimpleImputer\n",
    "\n",
    "# Only use rows with known Age to train\n",
    "age_df = df[df['age'].notna()]\n",
    "predict_df = df[df['age'].isna()]\n",
    "\n",
    "# Features to use for prediction\n",
    "features = ['pclass', 'sex', 'sibsp', 'parch', 'fare', 'embarked']\n",
    "\n",
    "# Preprocessing for numerical and categorical\n",
    "numeric_features = ['sibsp', 'parch', 'fare']\n",
    "categorical_features = ['pclass', 'sex', 'embarked']\n",
    "\n",
    "numeric_transformer = SimpleImputer(strategy='median')\n",
    "categorical_transformer = Pipeline(steps=[\n",
    "    ('imputer', SimpleImputer(strategy='most_frequent')),\n",
    "    ('onehot', OneHotEncoder(handle_unknown='ignore'))\n",
    "])\n",
    "\n",
    "preprocessor = ColumnTransformer(\n",
    "    transformers=[\n",
    "        ('num', numeric_transformer, numeric_features),\n",
    "        ('cat', categorical_transformer, categorical_features)\n",
    "    ]\n",
    ")\n",
    "\n",
    "# Define pipeline\n",
    "pipeline = Pipeline(steps=[\n",
    "    ('preprocessor', preprocessor),\n",
    "    ('regressor', RandomForestRegressor(n_estimators=100, random_state=42))\n",
    "])\n",
    "\n",
    "# Fit model\n",
    "pipeline.fit(age_df[features], age_df['age'])\n",
    "\n",
    "# Predict missing ages\n",
    "predicted_ages = pipeline.predict(predict_df[features])\n",
    "\n",
    "# Fill in missing values\n",
    "df.loc[df['age'].isna(), 'age'] = predicted_ages\n"
   ]
  },
  {
   "cell_type": "markdown",
   "id": "7239d555",
   "metadata": {},
   "source": [
    "The graph agian?"
   ]
  },
  {
   "cell_type": "code",
   "execution_count": null,
   "id": "b1b54737",
   "metadata": {},
   "outputs": [],
   "source": [
    "#DELETE\n",
    "plt.figure(figsize=(8, 5))\n",
    "df['age'].hist(bins=20, edgecolor='black')\n",
    "plt.title('Age Distribution')\n",
    "plt.xlabel('Age')\n",
    "plt.ylabel('Frequency')\n",
    "plt.show()"
   ]
  },
  {
   "cell_type": "markdown",
   "id": "96b26d26",
   "metadata": {},
   "source": [
    "Summary for using a model, to use non-numerical features:\n",
    "\n",
    "* Encode them manually (e.g., with one-hot encoding) \u2192 still use linear models\n",
    "* Or use tree-based models like RandomForest, LightGBM (has native categorical support), or XGBoost that naturally handle them better and are often more accurate for this task"
   ]
  }
 ],
 "metadata": {
  "kernelspec": {
   "display_name": "venv",
   "language": "python",
   "name": "python3"
  },
  "language_info": {
   "codemirror_mode": {
    "name": "ipython",
    "version": 3
   },
   "file_extension": ".py",
   "mimetype": "text/x-python",
   "name": "python",
   "nbconvert_exporter": "python",
   "pygments_lexer": "ipython3",
   "version": "3.12.5"
  }
 },
 "nbformat": 4,
 "nbformat_minor": 5
}