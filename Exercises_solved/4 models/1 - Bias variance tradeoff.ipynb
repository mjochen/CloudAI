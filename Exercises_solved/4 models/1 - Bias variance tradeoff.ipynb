{
 "cells": [
  {
   "cell_type": "markdown",
   "metadata": {},
   "source": [
    "# Bias variance tradeoff\n",
    "\n",
    "Code reproduced from [towardsdatascience.com](https://towardsdatascience.com/understanding-the-bias-variance-tradeoff-and-visualizing-it-with-example-and-python-code-7af2681a10a7)\n",
    "\n",
    "* Author: aqeelanwar \n",
    "* Created: 16 February,2020, 7:12 PM\n",
    "* Email: aqeel.anwar@gatech.edu\n",
    "\n",
    "This is not an exercise, but the code to generate the data behind the slide."
   ]
  },
  {
   "cell_type": "code",
   "execution_count": null,
   "metadata": {},
   "outputs": [],
   "source": [
    "import numpy as np\n",
    "import matplotlib.pyplot as plt\n",
    "import matplotlib\n",
    "matplotlib.rcParams['font.sans-serif'] = \"cmr10\"\n",
    "import random\n",
    "np.random.seed(54)\n",
    "# random.seed(4959)"
   ]
  },
  {
   "cell_type": "code",
   "execution_count": null,
   "metadata": {},
   "outputs": [],
   "source": [
    "def dist_function(x):\n",
    "    f_x = np.sin(x)\n",
    "    return f_x\n",
    "\n",
    "def gen_data(x):\n",
    "    f_x = dist_function(x)\n",
    "    b = 0.4\n",
    "    y = f_x + np.random.uniform(-b, b, len(x))\n",
    "    sigma = 1/12*(2*b)**2\n",
    "    return y, f_x, sigma\n",
    "\n",
    "\n",
    "def get_rand_data(len_ratio, x, y, f_x):\n",
    "    m = len(x)\n",
    "    m_new = int(np.round(len_ratio*m))\n",
    "    ind = random.sample(range(m), m_new)\n",
    "    ind = np.sort(ind)\n",
    "\n",
    "    x1 = x[ind]\n",
    "    y1 = y[ind]\n",
    "    f_x1 = f_x[ind]\n",
    "\n",
    "    return x1, y1, f_x1"
   ]
  },
  {
   "cell_type": "code",
   "execution_count": null,
   "metadata": {},
   "outputs": [],
   "source": [
    "x_orig = np.arange(0, 4 * np.pi, .2)\n",
    "\n",
    "y_orig, f_x_orig, sigma = gen_data(x_orig)\n",
    "p_order = [1, 3, 5, 7, 9, 11]\n",
    "num_data = 2000\n",
    "\n",
    "f, ax = plt.subplots(1,len(p_order), figsize=(15, 1.5), dpi=120, facecolor='w', edgecolor='k')\n",
    "t = np.arange(0.1, 4*np.pi, .2)\n",
    "P=[]\n",
    "bb=[]\n",
    "vv=[]\n",
    "for i, p_val in enumerate(p_order):\n",
    "    exp_f_x = np.zeros(len(t))\n",
    "    exp_f_x_plot = np.zeros(len(x_orig))\n",
    "    var = np.zeros(len(t))\n",
    "    for j in range(num_data):\n",
    "        x, y, f_x = get_rand_data(0.7, x_orig, y_orig, f_x_orig)\n",
    "        p = np.poly1d(np.polyfit(x, y, p_val))\n",
    "        # ax[j, i].plot(x, y, 'o', t, p(x_orig), '-')\n",
    "        P.append(p)\n",
    "        exp_f_x = exp_f_x + p(t)\n",
    "        exp_f_x_plot = exp_f_x_plot + p(x_orig)\n",
    "\n",
    "    exp_f_x = exp_f_x/num_data\n",
    "    exp_f_x_plot = exp_f_x_plot / num_data\n",
    "    ax[i].plot(x, y, 'o', x_orig, exp_f_x_plot, '-')\n",
    "    plt.setp(plt.gcf().get_axes(), xticks=[], yticks=[])\n",
    "    ax[i].set_xlabel('P='+str(p_order[i]))\n",
    "    bias = np.linalg.norm(exp_f_x-dist_function(t))\n",
    "    bb.append(bias)\n",
    "\n",
    "    for j in range(num_data):\n",
    "        p_t = P.pop(0)\n",
    "        var = var + np.square(p_t(t)-exp_f_x)\n",
    "    var = var/num_data\n",
    "    variance = np.linalg.norm(var)\n",
    "    vv.append(variance)\n",
    "\n",
    "\n",
    "print(\"bias: \", bb)\n",
    "print(\"var: \",vv)"
   ]
  },
  {
   "cell_type": "code",
   "execution_count": null,
   "metadata": {},
   "outputs": [],
   "source": [
    "fig, ax1 = plt.subplots()\n",
    "\n",
    "color = 'tab:orange'\n",
    "ax1.set_xlabel('Polynomial order')\n",
    "ax1.set_ylabel('Variance', color=color)\n",
    "ax1.plot(p_order, vv, color=color, label = 'Variance')\n",
    "ax1.tick_params(axis='y', labelcolor=color)\n",
    "\n",
    "ax2 = ax1.twinx()\n",
    "\n",
    "color = 'tab:blue'\n",
    "ax2.set_ylabel('Bias', color=color)\n",
    "ax2.plot(p_order, bb, color=color,  label = 'Bias')\n",
    "ax2.tick_params(axis='y', labelcolor=color)\n",
    "\n",
    "fig.tight_layout()\n",
    "\n",
    "error = np.square(bb)+vv+sigma*len(t)\n",
    "min_ind = np.argmin(error)\n",
    "plt.plot(p_order, error, 'k--', label = 'error')\n",
    "plt.plot(p_order[min_ind], error[min_ind], 'ro', label= 'Minimum Error')\n",
    "leg = ax2.legend(loc='upper right')\n",
    "leg = ax1.legend(loc='upper left')\n",
    "plt.show()"
   ]
  }
 ],
 "metadata": {
  "kernelspec": {
   "display_name": "venv",
   "language": "python",
   "name": "python3"
  },
  "language_info": {
   "codemirror_mode": {
    "name": "ipython",
    "version": 3
   },
   "file_extension": ".py",
   "mimetype": "text/x-python",
   "name": "python",
   "nbconvert_exporter": "python",
   "pygments_lexer": "ipython3",
   "version": "3.12.5"
  }
 },
 "nbformat": 4,
 "nbformat_minor": 2
}