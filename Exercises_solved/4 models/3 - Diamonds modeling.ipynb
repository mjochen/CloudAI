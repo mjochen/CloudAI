{
 "cells": [
  {
   "attachments": {},
   "cell_type": "markdown",
   "metadata": {},
   "source": [
    "# Diamonds modeling\n",
    "\n",
    "A model can not only be used to predict a value, as we did in the MPG-dataset, it can also be used to get rid of a certain relationship in our data to help us see another relationship.\n",
    "\n",
    "For example: when working with diamonds, the size is a big factor in the cost. But diamonds have a cut as well [link](https://www.diamondcuts.com/) and that cut also has a relation with the price of the diamond. But it doesn't look that way when we look at the box plots."
   ]
  },
  {
   "cell_type": "code",
   "execution_count": null,
   "metadata": {},
   "outputs": [],
   "source": [
    "# !pip install seaborn"
   ]
  },
  {
   "cell_type": "code",
   "execution_count": null,
   "metadata": {},
   "outputs": [],
   "source": [
    "import pandas as pd\n",
    "import numpy as np\n",
    "import matplotlib.pyplot as plt\n",
    "import seaborn as sns\n",
    "\n",
    "df=pd.read_csv(\"../files/diamonds.csv\", index_col=0)\n",
    "df.head()"
   ]
  },
  {
   "cell_type": "code",
   "execution_count": null,
   "metadata": {},
   "outputs": [],
   "source": [
    "from pandas.api.types import CategoricalDtype\n",
    "\n",
    "cut_type = CategoricalDtype(categories=['Fair', 'Good', 'Very Good', 'Premium', 'Ideal'], ordered=True)\n",
    "df[\"cut\"] = df['cut'].astype(cut_type)\n",
    "\n",
    "fig, (ax1, ax2) = plt.subplots(ncols=2, sharey=True, figsize=(12, 5))\n",
    "sns.countplot(x=\"cut\", data=df, ax = ax1)\n",
    "sns.boxplot(data=df, x='cut', y='price', ax = ax2)"
   ]
  },
  {
   "attachments": {},
   "cell_type": "markdown",
   "metadata": {},
   "source": [
    "It's mainly the boxplots that are baffling: why are fair-cut diamonds the more expensive kind? Ideally cut diamonds are even the cheapest kind! And it's not a not-enough-data-problem, as even for fair cut diamonds there are more than 1000 rows in the dataset.\n",
    "\n",
    "So we add some domain knowledge: **Weight is important factor in price.** Let’s try to separate out the effect of carat on the price.\n",
    "\n",
    "(The graph below is interesting: why is the alpha set to 0.1? What does this mean for the dark areas?)"
   ]
  },
  {
   "cell_type": "code",
   "execution_count": null,
   "metadata": {},
   "outputs": [],
   "source": [
    "df.plot(kind='scatter', x=\"carat\", y=\"price\", grid=True,fontsize=10, figsize=(12, 6), alpha=0.1)"
   ]
  },
  {
   "attachments": {},
   "cell_type": "markdown",
   "metadata": {},
   "source": [
    "Price vs carat has a an exponential relationship, meaning the price will rise by the _squared_ weight of the diamond. If you want to transform an exponential relationship into a linear one, you need to use a log-transformation.\n",
    "\n",
    "Let's recalculate the price value into a linear column."
   ]
  },
  {
   "cell_type": "code",
   "execution_count": null,
   "metadata": {},
   "outputs": [],
   "source": [
    "df[\"log_price\"] = np.log(df[\"price\"])\n",
    "df[\"log_carat\"] = np.log(df[\"carat\"])\n",
    "# df.head()\n",
    "df.plot(kind='scatter', x=\"log_carat\", y=\"log_price\", grid=True,fontsize=10, figsize=(12, 6), alpha=0.1)"
   ]
  },
  {
   "attachments": {},
   "cell_type": "markdown",
   "metadata": {},
   "source": [
    "Nice and linear. Do remember that you can't use the log_price and log_carat columns to find an actual price or weight. The unit is al wrong (it's in log_of_dollar and log_of_carat, which has no physical meaning).\n",
    "\n",
    "Next step is creating a model."
   ]
  },
  {
   "cell_type": "code",
   "execution_count": null,
   "metadata": {},
   "outputs": [],
   "source": [
    "from sklearn import datasets, linear_model\n",
    "\n",
    "x = df.log_carat.values.reshape(-1, 1)\n",
    "y = df.log_price.values.reshape(-1, 1)\n",
    "\n",
    "regr = linear_model.LinearRegression()\n",
    "model = regr.fit(x, y)\n",
    "\n",
    "fig, ax = plt.subplots(figsize=(12,6))\n",
    "\n",
    "df.plot(kind='scatter', x=\"log_carat\", y=\"log_price\", grid=True,fontsize=10, ax=ax,  figsize=(12, 6), alpha=0.1)\n",
    "plt.plot(x, regr.predict(x), color='red')"
   ]
  },
  {
   "cell_type": "code",
   "execution_count": null,
   "metadata": {},
   "outputs": [],
   "source": [
    "print(f\"a= {model.coef_[0][0]}, b= {model.intercept_[0]}\")"
   ]
  },
  {
   "attachments": {},
   "cell_type": "markdown",
   "metadata": {},
   "source": [
    "And there is our linear model. Now we use this to predict the values for every weight. Once we have this predicted weight, we use it to calculate the residuals (or the error) for every actual value."
   ]
  },
  {
   "cell_type": "code",
   "execution_count": null,
   "metadata": {},
   "outputs": [],
   "source": [
    "df['log_price_predicted'] = model.predict(df.log_carat.values.reshape(-1, 1))\n",
    "df['log_price_residuals'] = df['log_price'] - df['log_price_predicted']\n",
    "\n",
    "# df.head()\n",
    "df.plot(kind='scatter', x=\"log_carat\", y=\"log_price_residuals\", grid=True,fontsize=10, figsize=(12, 6), alpha=0.1)"
   ]
  },
  {
   "attachments": {},
   "cell_type": "markdown",
   "metadata": {},
   "source": [
    "And there we have it, a graph showing the relationship between the price and the weight (in carat) of a diamond without the strong linear relationship between these two variables. And that means we can draw the graph showing the relationship between the price and the cut and not be bothered by the weight!"
   ]
  },
  {
   "cell_type": "code",
   "execution_count": null,
   "metadata": {},
   "outputs": [],
   "source": [
    "sns.boxplot(data=df, x='cut', y='log_price_residuals')"
   ]
  },
  {
   "attachments": {},
   "cell_type": "markdown",
   "metadata": {},
   "source": [
    "See the mean going up as the cut increases? That was what we needed.\n",
    "\n",
    "As for the unit of the Y-axis: it's the difference between the log_price and the predicted log_price. It has no monetary value, but is a good indication."
   ]
  }
 ],
 "metadata": {
  "kernelspec": {
   "display_name": "venv",
   "language": "python",
   "name": "python3"
  },
  "language_info": {
   "codemirror_mode": {
    "name": "ipython",
    "version": 3
   },
   "file_extension": ".py",
   "mimetype": "text/x-python",
   "name": "python",
   "nbconvert_exporter": "python",
   "pygments_lexer": "ipython3",
   "version": "3.12.5"
  },
  "orig_nbformat": 4
 },
 "nbformat": 4,
 "nbformat_minor": 2
}
