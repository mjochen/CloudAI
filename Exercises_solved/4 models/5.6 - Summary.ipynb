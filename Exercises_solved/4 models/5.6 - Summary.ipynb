{
 "cells": [
  {
   "cell_type": "markdown",
   "id": "710fb3cb",
   "metadata": {},
   "source": [
    "# Summary\n",
    "\n",
    "Summing up, let's go over the results once more."
   ]
  },
  {
   "cell_type": "markdown",
   "id": "a30a1fbe",
   "metadata": {},
   "source": [
    "## Data import\n",
    "\n",
    "We'll import the original data, although we're mostly interested in the y-test there."
   ]
  },
  {
   "cell_type": "code",
   "execution_count": null,
   "id": "f8e4ceac",
   "metadata": {},
   "outputs": [],
   "source": [
    "import pickle\n",
    "\n",
    "# Load the pickle file\n",
    "with open('../exports/non_linear_data.pkl', 'rb') as file:\n",
    "    data_dict = pickle.load(file)\n",
    "\n",
    "# Display the loaded data\n",
    "\n",
    "X_train = data_dict[\"X_train\"]\n",
    "X_test = data_dict[\"X_test\"]\n",
    "y_train = data_dict[\"y_train\"]\n",
    "y_test = data_dict[\"y_test\"]"
   ]
  },
  {
   "cell_type": "markdown",
   "id": "064b31f7",
   "metadata": {},
   "source": [
    "We'll also import the results of the different models."
   ]
  },
  {
   "cell_type": "code",
   "execution_count": null,
   "id": "8e073854",
   "metadata": {},
   "outputs": [],
   "source": [
    "import os\n",
    "import pickle\n",
    "\n",
    "# List all files in the \"exports\" directory that start with \"y_pred\"\n",
    "y_pred_files = [f for f in os.listdir('exports') if f.startswith('y_pred')]\n",
    "\n",
    "y_pred_data = {}\n",
    "for file_name in y_pred_files:\n",
    "    with open(f'../exports/{file_name}', 'rb') as file:\n",
    "        y_pred_data[file_name[7:-4]] = pickle.load(file)\n",
    "\n",
    "print(*y_pred_data.keys(), sep=\"\\n\")"
   ]
  },
  {
   "cell_type": "markdown",
   "id": "07d8faa2",
   "metadata": {},
   "source": [
    "## Comparing results\n",
    "\n",
    "We'll start by comparing the RMSE's of the different models."
   ]
  },
  {
   "cell_type": "code",
   "execution_count": null,
   "id": "4a237d8a",
   "metadata": {},
   "outputs": [],
   "source": [
    "#DELETE\n",
    "from sklearn.metrics import mean_squared_error\n",
    "import numpy as np\n",
    "\n",
    "rmse_list = []\n",
    "\n",
    "for key, y_pred in y_pred_data.items():\n",
    "    rmse_list.append([key, np.sqrt(mean_squared_error(y_test, y_pred))])\n",
    "    \n",
    "rmse_list.sort(key=lambda x: x[1])\n",
    "print(\"RMSE for each model:\")\n",
    "for model, rmse in rmse_list:\n",
    "    print(f\"\\t{model}: {rmse:.4f}\")"
   ]
  },
  {
   "cell_type": "markdown",
   "id": "5265afe6",
   "metadata": {},
   "source": [
    "And the graphs..."
   ]
  },
  {
   "cell_type": "code",
   "execution_count": null,
   "id": "3a8c2266",
   "metadata": {},
   "outputs": [],
   "source": [
    "#DELETE\n",
    "import matplotlib.pyplot as plt\n",
    "# Plotting the results\n",
    "plt.figure(figsize=(14, 6*3))\n",
    "\n",
    "for idx, value in enumerate(rmse_list):\n",
    "    model_name = value[0]\n",
    "    y_pred = y_pred_data[model_name]\n",
    "    \n",
    "    plt.subplot(3, 2, idx + 1)\n",
    "    plt.scatter(X_test, y_test, color='blue', label='Actual Data')\n",
    "    plt.scatter(X_test, y_pred, color='red', label=f'{model_name} ({value[1]:.4f})', alpha=0.5)\n",
    "    plt.title(f'{model_name} Predictions')\n",
    "    plt.xlabel('Feature')\n",
    "    plt.ylabel('Target')\n",
    "    plt.legend()\n",
    "\n",
    "plt.show()"
   ]
  },
  {
   "cell_type": "markdown",
   "id": "8c7c0f4a",
   "metadata": {},
   "source": [
    "These graphs don't really tell us much. Nobody is able to see a 1% difference on a scatterplot. Still looks nice though."
   ]
  }
 ],
 "metadata": {
  "kernelspec": {
   "display_name": "venv",
   "language": "python",
   "name": "python3"
  },
  "language_info": {
   "codemirror_mode": {
    "name": "ipython",
    "version": 3
   },
   "file_extension": ".py",
   "mimetype": "text/x-python",
   "name": "python",
   "nbconvert_exporter": "python",
   "pygments_lexer": "ipython3",
   "version": "3.12.5"
  }
 },
 "nbformat": 4,
 "nbformat_minor": 5
}
