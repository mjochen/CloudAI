{
 "cells": [
  {
   "cell_type": "markdown",
   "metadata": {},
   "source": [
    "# Working with a venv\n",
    "\n",
    "This notebook helps you install all the libraries we need in the virtual environment that you created when you followed the powerpoint called '1bis Setting up your working environment'.\n",
    "\n",
    "You can install all libraries one by one. Let's do that with numpy:"
   ]
  },
  {
   "cell_type": "code",
   "execution_count": null,
   "metadata": {},
   "outputs": [],
   "source": [
    "!pip install numpy"
   ]
  },
  {
   "cell_type": "markdown",
   "metadata": {},
   "source": [
    "Note how the command started with an exclamation mark. This means it's run as a terminal command and not as a Python-command. As an alternative you can use a percentage (which is quite different internally, but has the same effect).\n",
    "\n",
    "You'll find these type of code block regularly on top of other notebooks. Usually they are commented out because they take up a lot of time when running the full notebook and should only be run once anyways.\n",
    "\n",
    "There is another way of installing a lot of libraries at once: a requirements.txt file. You import the one we are using the following code-block. (Note: this will take a while. Just let it run.)"
   ]
  },
  {
   "cell_type": "code",
   "execution_count": null,
   "metadata": {},
   "outputs": [],
   "source": [
    "!pip install -r ../files/requirements.txt"
   ]
  },
  {
   "cell_type": "markdown",
   "metadata": {},
   "source": [
    "If all went well (there is a lot of \"succesfully installed\" at the bottom) you now have a fully installed virtual environment.\n",
    "\n",
    "You might wonder how we made that file. Well, we used the following code:\n"
   ]
  },
  {
   "cell_type": "code",
   "execution_count": null,
   "metadata": {},
   "outputs": [],
   "source": [
    "!pip freeze > ../files/requirements.txt"
   ]
  }
 ],
 "metadata": {
  "kernelspec": {
   "display_name": "venv",
   "language": "python",
   "name": "python3"
  },
  "language_info": {
   "codemirror_mode": {
    "name": "ipython",
    "version": 3
   },
   "file_extension": ".py",
   "mimetype": "text/x-python",
   "name": "python",
   "nbconvert_exporter": "python",
   "pygments_lexer": "ipython3",
   "version": "3.12.5"
  }
 },
 "nbformat": 4,
 "nbformat_minor": 2
}
