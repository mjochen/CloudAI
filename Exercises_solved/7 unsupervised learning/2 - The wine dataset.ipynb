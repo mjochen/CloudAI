{
 "cells": [
  {
   "cell_type": "markdown",
   "id": "d6385b71",
   "metadata": {},
   "source": [
    "# The wine dataset\n",
    "\n",
    "For the second exercise we'll be revisiting the wine dataset."
   ]
  },
  {
   "cell_type": "markdown",
   "id": "9a69f368",
   "metadata": {},
   "source": [
    "## Data import\n",
    "\n",
    "First import and explore."
   ]
  },
  {
   "cell_type": "code",
   "execution_count": 1,
   "id": "d1e85767",
   "metadata": {},
   "outputs": [
    {
     "data": {
      "text/html": [
       "<div>\n",
       "<style scoped>\n",
       "    .dataframe tbody tr th:only-of-type {\n",
       "        vertical-align: middle;\n",
       "    }\n",
       "\n",
       "    .dataframe tbody tr th {\n",
       "        vertical-align: top;\n",
       "    }\n",
       "\n",
       "    .dataframe thead th {\n",
       "        text-align: right;\n",
       "    }\n",
       "</style>\n",
       "<table border=\"1\" class=\"dataframe\">\n",
       "  <thead>\n",
       "    <tr style=\"text-align: right;\">\n",
       "      <th></th>\n",
       "      <th>0</th>\n",
       "      <th>1</th>\n",
       "      <th>2</th>\n",
       "      <th>3</th>\n",
       "      <th>4</th>\n",
       "      <th>5</th>\n",
       "      <th>6</th>\n",
       "      <th>7</th>\n",
       "      <th>8</th>\n",
       "      <th>9</th>\n",
       "      <th>10</th>\n",
       "      <th>11</th>\n",
       "      <th>12</th>\n",
       "      <th>target</th>\n",
       "    </tr>\n",
       "  </thead>\n",
       "  <tbody>\n",
       "    <tr>\n",
       "      <th>0</th>\n",
       "      <td>14.23</td>\n",
       "      <td>1.71</td>\n",
       "      <td>2.43</td>\n",
       "      <td>15.6</td>\n",
       "      <td>127.0</td>\n",
       "      <td>2.80</td>\n",
       "      <td>3.06</td>\n",
       "      <td>0.28</td>\n",
       "      <td>2.29</td>\n",
       "      <td>5.64</td>\n",
       "      <td>1.04</td>\n",
       "      <td>3.92</td>\n",
       "      <td>1065.0</td>\n",
       "      <td>0</td>\n",
       "    </tr>\n",
       "    <tr>\n",
       "      <th>1</th>\n",
       "      <td>13.20</td>\n",
       "      <td>1.78</td>\n",
       "      <td>2.14</td>\n",
       "      <td>11.2</td>\n",
       "      <td>100.0</td>\n",
       "      <td>2.65</td>\n",
       "      <td>2.76</td>\n",
       "      <td>0.26</td>\n",
       "      <td>1.28</td>\n",
       "      <td>4.38</td>\n",
       "      <td>1.05</td>\n",
       "      <td>3.40</td>\n",
       "      <td>1050.0</td>\n",
       "      <td>0</td>\n",
       "    </tr>\n",
       "    <tr>\n",
       "      <th>2</th>\n",
       "      <td>13.16</td>\n",
       "      <td>2.36</td>\n",
       "      <td>2.67</td>\n",
       "      <td>18.6</td>\n",
       "      <td>101.0</td>\n",
       "      <td>2.80</td>\n",
       "      <td>3.24</td>\n",
       "      <td>0.30</td>\n",
       "      <td>2.81</td>\n",
       "      <td>5.68</td>\n",
       "      <td>1.03</td>\n",
       "      <td>3.17</td>\n",
       "      <td>1185.0</td>\n",
       "      <td>0</td>\n",
       "    </tr>\n",
       "    <tr>\n",
       "      <th>3</th>\n",
       "      <td>14.37</td>\n",
       "      <td>1.95</td>\n",
       "      <td>2.50</td>\n",
       "      <td>16.8</td>\n",
       "      <td>113.0</td>\n",
       "      <td>3.85</td>\n",
       "      <td>3.49</td>\n",
       "      <td>0.24</td>\n",
       "      <td>2.18</td>\n",
       "      <td>7.80</td>\n",
       "      <td>0.86</td>\n",
       "      <td>3.45</td>\n",
       "      <td>1480.0</td>\n",
       "      <td>0</td>\n",
       "    </tr>\n",
       "    <tr>\n",
       "      <th>4</th>\n",
       "      <td>13.24</td>\n",
       "      <td>2.59</td>\n",
       "      <td>2.87</td>\n",
       "      <td>21.0</td>\n",
       "      <td>118.0</td>\n",
       "      <td>2.80</td>\n",
       "      <td>2.69</td>\n",
       "      <td>0.39</td>\n",
       "      <td>1.82</td>\n",
       "      <td>4.32</td>\n",
       "      <td>1.04</td>\n",
       "      <td>2.93</td>\n",
       "      <td>735.0</td>\n",
       "      <td>0</td>\n",
       "    </tr>\n",
       "  </tbody>\n",
       "</table>\n",
       "</div>"
      ],
      "text/plain": [
       "       0     1     2     3      4     5     6     7     8     9    10    11  \\\n",
       "0  14.23  1.71  2.43  15.6  127.0  2.80  3.06  0.28  2.29  5.64  1.04  3.92   \n",
       "1  13.20  1.78  2.14  11.2  100.0  2.65  2.76  0.26  1.28  4.38  1.05  3.40   \n",
       "2  13.16  2.36  2.67  18.6  101.0  2.80  3.24  0.30  2.81  5.68  1.03  3.17   \n",
       "3  14.37  1.95  2.50  16.8  113.0  3.85  3.49  0.24  2.18  7.80  0.86  3.45   \n",
       "4  13.24  2.59  2.87  21.0  118.0  2.80  2.69  0.39  1.82  4.32  1.04  2.93   \n",
       "\n",
       "       12  target  \n",
       "0  1065.0       0  \n",
       "1  1050.0       0  \n",
       "2  1185.0       0  \n",
       "3  1480.0       0  \n",
       "4   735.0       0  "
      ]
     },
     "execution_count": 1,
     "metadata": {},
     "output_type": "execute_result"
    }
   ],
   "source": [
    "from sklearn.datasets import load_wine\n",
    "import pandas as pd\n",
    "\n",
    "X, y = load_wine(return_X_y=True)\n",
    "\n",
    "df = pd.DataFrame(X)\n",
    "df['target'] = y\n",
    "df.head()"
   ]
  },
  {
   "cell_type": "markdown",
   "id": "d24034c4",
   "metadata": {},
   "source": [
    "The boxplot is a great way of showing distributions. Show the boxplots for columns 1 through 12 in one graph."
   ]
  },
  {
   "cell_type": "code",
   "execution_count": 2,
   "id": "23910eb4",
   "metadata": {},
   "outputs": [
    {
     "data": {
      "text/plain": [
       "<Axes: >"
      ]
     },
     "execution_count": 2,
     "metadata": {},
     "output_type": "execute_result"
    },
    {
     "data": {
      "image/png": "[encoded data removed]",
      "text/plain": [
       "<Figure size 1500x600 with 1 Axes>"
      ]
     },
     "metadata": {},
     "output_type": "display_data"
    }
   ],
   "source": [
    "#DELETE\n",
    "df.drop('target', axis=1).boxplot(figsize=(15, 6))"
   ]
  },
  {
   "cell_type": "markdown",
   "id": "5517e953",
   "metadata": {},
   "source": [
    "You'll see one normal boxplot, column 12, and 12 (0-11) very small ones."
   ]
  },
  {
   "cell_type": "markdown",
   "id": "2b5bf3b4",
   "metadata": {},
   "source": [
    "## 2D clustering\n",
    "\n",
    "Let's create a scatterplot of 2 vs 12. Use 'plt.axis('equal')' to make sure both axis have the same scaling. (Also comment the line away to compare.)"
   ]
  },
  {
   "cell_type": "code",
   "execution_count": 3,
   "id": "1b4151c6",
   "metadata": {},
   "outputs": [
    {
     "data": {
      "image/png": "[encoded data removed]",
      "text/plain": [
       "<Figure size 800x600 with 2 Axes>"
      ]
     },
     "metadata": {},
     "output_type": "display_data"
    }
   ],
   "source": [
    "#DELETE\n",
    "import matplotlib.pyplot as plt\n",
    "\n",
    "plt.figure(figsize=(8, 6))\n",
    "plt.scatter(df[2], df[12], c=df['target'], cmap='viridis', edgecolor='k')\n",
    "plt.xlabel('Column 2')\n",
    "plt.ylabel('Column 12')\n",
    "plt.title('Scatterplot of Column 2 vs Column 12')\n",
    "plt.colorbar(label='Target')\n",
    "plt.axis('equal')  # Make x and y axes the same scale\n",
    "plt.show()"
   ]
  },
  {
   "cell_type": "markdown",
   "id": "4b5cdfd9",
   "metadata": {},
   "source": [
    "Train a clustering model on this, unaltered data. Create three clusters."
   ]
  },
  {
   "cell_type": "code",
   "execution_count": 4,
   "id": "b05b2a68",
   "metadata": {},
   "outputs": [],
   "source": [
    "#DELETE\n",
    "from sklearn.cluster import KMeans\n",
    "\n",
    "kmeans = KMeans(n_clusters=3, random_state=42)\n",
    "labels = kmeans.fit_predict(df.drop('target', axis=1))\n"
   ]
  },
  {
   "cell_type": "markdown",
   "id": "d82b5956",
   "metadata": {},
   "source": [
    "And now compare the predicted clusters and the actual groups in a crosstable."
   ]
  },
  {
   "cell_type": "code",
   "execution_count": 5,
   "id": "f6552fef",
   "metadata": {},
   "outputs": [
    {
     "data": {
      "text/html": [
       "<div>\n",
       "<style scoped>\n",
       "    .dataframe tbody tr th:only-of-type {\n",
       "        vertical-align: middle;\n",
       "    }\n",
       "\n",
       "    .dataframe tbody tr th {\n",
       "        vertical-align: top;\n",
       "    }\n",
       "\n",
       "    .dataframe thead th {\n",
       "        text-align: right;\n",
       "    }\n",
       "</style>\n",
       "<table border=\"1\" class=\"dataframe\">\n",
       "  <thead>\n",
       "    <tr style=\"text-align: right;\">\n",
       "      <th>Predicted</th>\n",
       "      <th>0</th>\n",
       "      <th>1</th>\n",
       "      <th>2</th>\n",
       "    </tr>\n",
       "    <tr>\n",
       "      <th>True</th>\n",
       "      <th></th>\n",
       "      <th></th>\n",
       "      <th></th>\n",
       "    </tr>\n",
       "  </thead>\n",
       "  <tbody>\n",
       "    <tr>\n",
       "      <th>0</th>\n",
       "      <td>1</td>\n",
       "      <td>31</td>\n",
       "      <td>27</td>\n",
       "    </tr>\n",
       "    <tr>\n",
       "      <th>1</th>\n",
       "      <td>64</td>\n",
       "      <td>7</td>\n",
       "      <td>0</td>\n",
       "    </tr>\n",
       "    <tr>\n",
       "      <th>2</th>\n",
       "      <td>37</td>\n",
       "      <td>11</td>\n",
       "      <td>0</td>\n",
       "    </tr>\n",
       "  </tbody>\n",
       "</table>\n",
       "</div>"
      ],
      "text/plain": [
       "Predicted   0   1   2\n",
       "True                 \n",
       "0           1  31  27\n",
       "1          64   7   0\n",
       "2          37  11   0"
      ]
     },
     "execution_count": 5,
     "metadata": {},
     "output_type": "execute_result"
    }
   ],
   "source": [
    "#DELETE\n",
    "df['kmeans_labels'] = labels\n",
    "\n",
    "pd.crosstab(df['target'], df['kmeans_labels'], rownames=['True'], colnames=['Predicted'])"
   ]
  },
  {
   "cell_type": "markdown",
   "id": "efe60858",
   "metadata": {},
   "source": [
    "## Scaling\n",
    "\n",
    "The solution is scaling. Apply this to the wine dataset. Copy the results in a new dataframe where you also drop the \"kmeans_labels\" you got before."
   ]
  },
  {
   "cell_type": "code",
   "execution_count": 6,
   "id": "f2939e22",
   "metadata": {},
   "outputs": [
    {
     "data": {
      "text/html": [
       "<div>\n",
       "<style scoped>\n",
       "    .dataframe tbody tr th:only-of-type {\n",
       "        vertical-align: middle;\n",
       "    }\n",
       "\n",
       "    .dataframe tbody tr th {\n",
       "        vertical-align: top;\n",
       "    }\n",
       "\n",
       "    .dataframe thead th {\n",
       "        text-align: right;\n",
       "    }\n",
       "</style>\n",
       "<table border=\"1\" class=\"dataframe\">\n",
       "  <thead>\n",
       "    <tr style=\"text-align: right;\">\n",
       "      <th></th>\n",
       "      <th>0</th>\n",
       "      <th>1</th>\n",
       "      <th>2</th>\n",
       "      <th>3</th>\n",
       "      <th>4</th>\n",
       "      <th>5</th>\n",
       "      <th>6</th>\n",
       "      <th>7</th>\n",
       "      <th>8</th>\n",
       "      <th>9</th>\n",
       "      <th>10</th>\n",
       "      <th>11</th>\n",
       "      <th>12</th>\n",
       "      <th>target</th>\n",
       "    </tr>\n",
       "  </thead>\n",
       "  <tbody>\n",
       "    <tr>\n",
       "      <th>0</th>\n",
       "      <td>1.518613</td>\n",
       "      <td>-0.562250</td>\n",
       "      <td>0.232053</td>\n",
       "      <td>-1.169593</td>\n",
       "      <td>1.913905</td>\n",
       "      <td>0.808997</td>\n",
       "      <td>1.034819</td>\n",
       "      <td>-0.659563</td>\n",
       "      <td>1.224884</td>\n",
       "      <td>0.251717</td>\n",
       "      <td>0.362177</td>\n",
       "      <td>1.847920</td>\n",
       "      <td>1.013009</td>\n",
       "      <td>0</td>\n",
       "    </tr>\n",
       "    <tr>\n",
       "      <th>1</th>\n",
       "      <td>0.246290</td>\n",
       "      <td>-0.499413</td>\n",
       "      <td>-0.827996</td>\n",
       "      <td>-2.490847</td>\n",
       "      <td>0.018145</td>\n",
       "      <td>0.568648</td>\n",
       "      <td>0.733629</td>\n",
       "      <td>-0.820719</td>\n",
       "      <td>-0.544721</td>\n",
       "      <td>-0.293321</td>\n",
       "      <td>0.406051</td>\n",
       "      <td>1.113449</td>\n",
       "      <td>0.965242</td>\n",
       "      <td>0</td>\n",
       "    </tr>\n",
       "    <tr>\n",
       "      <th>2</th>\n",
       "      <td>0.196879</td>\n",
       "      <td>0.021231</td>\n",
       "      <td>1.109334</td>\n",
       "      <td>-0.268738</td>\n",
       "      <td>0.088358</td>\n",
       "      <td>0.808997</td>\n",
       "      <td>1.215533</td>\n",
       "      <td>-0.498407</td>\n",
       "      <td>2.135968</td>\n",
       "      <td>0.269020</td>\n",
       "      <td>0.318304</td>\n",
       "      <td>0.788587</td>\n",
       "      <td>1.395148</td>\n",
       "      <td>0</td>\n",
       "    </tr>\n",
       "    <tr>\n",
       "      <th>3</th>\n",
       "      <td>1.691550</td>\n",
       "      <td>-0.346811</td>\n",
       "      <td>0.487926</td>\n",
       "      <td>-0.809251</td>\n",
       "      <td>0.930918</td>\n",
       "      <td>2.491446</td>\n",
       "      <td>1.466525</td>\n",
       "      <td>-0.981875</td>\n",
       "      <td>1.032155</td>\n",
       "      <td>1.186068</td>\n",
       "      <td>-0.427544</td>\n",
       "      <td>1.184071</td>\n",
       "      <td>2.334574</td>\n",
       "      <td>0</td>\n",
       "    </tr>\n",
       "    <tr>\n",
       "      <th>4</th>\n",
       "      <td>0.295700</td>\n",
       "      <td>0.227694</td>\n",
       "      <td>1.840403</td>\n",
       "      <td>0.451946</td>\n",
       "      <td>1.281985</td>\n",
       "      <td>0.808997</td>\n",
       "      <td>0.663351</td>\n",
       "      <td>0.226796</td>\n",
       "      <td>0.401404</td>\n",
       "      <td>-0.319276</td>\n",
       "      <td>0.362177</td>\n",
       "      <td>0.449601</td>\n",
       "      <td>-0.037874</td>\n",
       "      <td>0</td>\n",
       "    </tr>\n",
       "  </tbody>\n",
       "</table>\n",
       "</div>"
      ],
      "text/plain": [
       "          0         1         2         3         4         5         6  \\\n",
       "0  1.518613 -0.562250  0.232053 -1.169593  1.913905  0.808997  1.034819   \n",
       "1  0.246290 -0.499413 -0.827996 -2.490847  0.018145  0.568648  0.733629   \n",
       "2  0.196879  0.021231  1.109334 -0.268738  0.088358  0.808997  1.215533   \n",
       "3  1.691550 -0.346811  0.487926 -0.809251  0.930918  2.491446  1.466525   \n",
       "4  0.295700  0.227694  1.840403  0.451946  1.281985  0.808997  0.663351   \n",
       "\n",
       "          7         8         9        10        11        12  target  \n",
       "0 -0.659563  1.224884  0.251717  0.362177  1.847920  1.013009       0  \n",
       "1 -0.820719 -0.544721 -0.293321  0.406051  1.113449  0.965242       0  \n",
       "2 -0.498407  2.135968  0.269020  0.318304  0.788587  1.395148       0  \n",
       "3 -0.981875  1.032155  1.186068 -0.427544  1.184071  2.334574       0  \n",
       "4  0.226796  0.401404 -0.319276  0.362177  0.449601 -0.037874       0  "
      ]
     },
     "execution_count": 6,
     "metadata": {},
     "output_type": "execute_result"
    }
   ],
   "source": [
    "#DELETE\n",
    "from sklearn.preprocessing import StandardScaler\n",
    "\n",
    "scaler = StandardScaler()\n",
    "df_scaled = df.copy()\n",
    "df_scaled.loc[:, 0:12] = scaler.fit_transform(df.loc[:, 0:12])\n",
    "df_scaled.drop('kmeans_labels', axis=1, inplace=True)\n",
    "df_scaled.head()"
   ]
  },
  {
   "cell_type": "markdown",
   "id": "9aa1e493",
   "metadata": {},
   "source": [
    "Now recreate the scatter plot from before. Does it still matter if you ask the model to equally scale the axis?"
   ]
  },
  {
   "cell_type": "code",
   "execution_count": 7,
   "id": "63f89b31",
   "metadata": {},
   "outputs": [
    {
     "data": {
      "image/png": "[encoded data removed]",
      "text/plain": [
       "<Figure size 800x600 with 2 Axes>"
      ]
     },
     "metadata": {},
     "output_type": "display_data"
    }
   ],
   "source": [
    "#DELETE\n",
    "import matplotlib.pyplot as plt\n",
    "\n",
    "plt.figure(figsize=(8, 6))\n",
    "plt.scatter(df_scaled[2], df_scaled[12], c=df_scaled['target'], cmap='viridis', edgecolor='k')\n",
    "plt.xlabel('Column 2')\n",
    "plt.ylabel('Column 12')\n",
    "plt.title('Scatterplot of Column 2 vs Column 12')\n",
    "plt.colorbar(label='Target')\n",
    "plt.axis('equal')  # Make x and y axes the same scale\n",
    "plt.show()"
   ]
  },
  {
   "cell_type": "code",
   "execution_count": 8,
   "id": "565dae99",
   "metadata": {},
   "outputs": [],
   "source": [
    "#DELETE\n",
    "from sklearn.cluster import KMeans\n",
    "\n",
    "kmeans = KMeans(n_clusters=3, random_state=42)\n",
    "labels = kmeans.fit_predict(df_scaled.drop('target', axis=1))\n"
   ]
  },
  {
   "cell_type": "markdown",
   "id": "f3aebf63",
   "metadata": {},
   "source": [
    "Also create a crosstable to compare."
   ]
  },
  {
   "cell_type": "code",
   "execution_count": 9,
   "id": "4b02fe88",
   "metadata": {},
   "outputs": [
    {
     "data": {
      "text/html": [
       "<div>\n",
       "<style scoped>\n",
       "    .dataframe tbody tr th:only-of-type {\n",
       "        vertical-align: middle;\n",
       "    }\n",
       "\n",
       "    .dataframe tbody tr th {\n",
       "        vertical-align: top;\n",
       "    }\n",
       "\n",
       "    .dataframe thead th {\n",
       "        text-align: right;\n",
       "    }\n",
       "</style>\n",
       "<table border=\"1\" class=\"dataframe\">\n",
       "  <thead>\n",
       "    <tr style=\"text-align: right;\">\n",
       "      <th>Predicted</th>\n",
       "      <th>0</th>\n",
       "      <th>1</th>\n",
       "      <th>2</th>\n",
       "    </tr>\n",
       "    <tr>\n",
       "      <th>True</th>\n",
       "      <th></th>\n",
       "      <th></th>\n",
       "      <th></th>\n",
       "    </tr>\n",
       "  </thead>\n",
       "  <tbody>\n",
       "    <tr>\n",
       "      <th>0</th>\n",
       "      <td>0</td>\n",
       "      <td>0</td>\n",
       "      <td>59</td>\n",
       "    </tr>\n",
       "    <tr>\n",
       "      <th>1</th>\n",
       "      <td>65</td>\n",
       "      <td>3</td>\n",
       "      <td>3</td>\n",
       "    </tr>\n",
       "    <tr>\n",
       "      <th>2</th>\n",
       "      <td>0</td>\n",
       "      <td>48</td>\n",
       "      <td>0</td>\n",
       "    </tr>\n",
       "  </tbody>\n",
       "</table>\n",
       "</div>"
      ],
      "text/plain": [
       "Predicted   0   1   2\n",
       "True                 \n",
       "0           0   0  59\n",
       "1          65   3   3\n",
       "2           0  48   0"
      ]
     },
     "execution_count": 9,
     "metadata": {},
     "output_type": "execute_result"
    }
   ],
   "source": [
    "df_scaled['kmeans_labels'] = labels\n",
    "\n",
    "pd.crosstab(df_scaled['target'], df_scaled['kmeans_labels'], rownames=['True'], colnames=['Predicted'])"
   ]
  },
  {
   "cell_type": "markdown",
   "id": "55f33dd6",
   "metadata": {},
   "source": [
    "That's more like it."
   ]
  },
  {
   "cell_type": "markdown",
   "id": "59595195",
   "metadata": {},
   "source": [
    "## Inference\n",
    "\n",
    "Using the following row, we'll randomly select three rows from the original dataset."
   ]
  },
  {
   "cell_type": "code",
   "execution_count": 10,
   "id": "397c4288",
   "metadata": {},
   "outputs": [
    {
     "name": "stderr",
     "output_type": "stream",
     "text": [
      "C:\\Users\\Jochen\\AppData\\Local\\Temp\\ipykernel_11492\\2466638621.py:1: DeprecationWarning: DataFrameGroupBy.apply operated on the grouping columns. This behavior is deprecated, and in a future version of pandas the grouping columns will be excluded from the operation. Either pass `include_groups=False` to exclude the groupings or explicitly select the grouping columns after groupby to silence this warning.\n",
      "  sampled_df = df.groupby('target').apply(lambda x: x.sample(1, random_state=42)).reset_index(drop=True)\n"
     ]
    },
    {
     "data": {
      "text/html": [
       "<div>\n",
       "<style scoped>\n",
       "    .dataframe tbody tr th:only-of-type {\n",
       "        vertical-align: middle;\n",
       "    }\n",
       "\n",
       "    .dataframe tbody tr th {\n",
       "        vertical-align: top;\n",
       "    }\n",
       "\n",
       "    .dataframe thead th {\n",
       "        text-align: right;\n",
       "    }\n",
       "</style>\n",
       "<table border=\"1\" class=\"dataframe\">\n",
       "  <thead>\n",
       "    <tr style=\"text-align: right;\">\n",
       "      <th></th>\n",
       "      <th>0</th>\n",
       "      <th>1</th>\n",
       "      <th>2</th>\n",
       "      <th>3</th>\n",
       "      <th>4</th>\n",
       "      <th>5</th>\n",
       "      <th>6</th>\n",
       "      <th>7</th>\n",
       "      <th>8</th>\n",
       "      <th>9</th>\n",
       "      <th>10</th>\n",
       "      <th>11</th>\n",
       "      <th>12</th>\n",
       "      <th>target</th>\n",
       "      <th>kmeans_labels</th>\n",
       "    </tr>\n",
       "  </thead>\n",
       "  <tbody>\n",
       "    <tr>\n",
       "      <th>0</th>\n",
       "      <td>14.23</td>\n",
       "      <td>1.71</td>\n",
       "      <td>2.43</td>\n",
       "      <td>15.6</td>\n",
       "      <td>127.0</td>\n",
       "      <td>2.8</td>\n",
       "      <td>3.06</td>\n",
       "      <td>0.28</td>\n",
       "      <td>2.29</td>\n",
       "      <td>5.64</td>\n",
       "      <td>1.04</td>\n",
       "      <td>3.92</td>\n",
       "      <td>1065.0</td>\n",
       "      <td>0</td>\n",
       "      <td>1</td>\n",
       "    </tr>\n",
       "    <tr>\n",
       "      <th>1</th>\n",
       "      <td>12.72</td>\n",
       "      <td>1.81</td>\n",
       "      <td>2.20</td>\n",
       "      <td>18.8</td>\n",
       "      <td>86.0</td>\n",
       "      <td>2.2</td>\n",
       "      <td>2.53</td>\n",
       "      <td>0.26</td>\n",
       "      <td>1.77</td>\n",
       "      <td>3.90</td>\n",
       "      <td>1.16</td>\n",
       "      <td>3.14</td>\n",
       "      <td>714.0</td>\n",
       "      <td>1</td>\n",
       "      <td>0</td>\n",
       "    </tr>\n",
       "    <tr>\n",
       "      <th>2</th>\n",
       "      <td>12.45</td>\n",
       "      <td>3.03</td>\n",
       "      <td>2.64</td>\n",
       "      <td>27.0</td>\n",
       "      <td>97.0</td>\n",
       "      <td>1.9</td>\n",
       "      <td>0.58</td>\n",
       "      <td>0.63</td>\n",
       "      <td>1.14</td>\n",
       "      <td>7.50</td>\n",
       "      <td>0.67</td>\n",
       "      <td>1.73</td>\n",
       "      <td>880.0</td>\n",
       "      <td>2</td>\n",
       "      <td>1</td>\n",
       "    </tr>\n",
       "  </tbody>\n",
       "</table>\n",
       "</div>"
      ],
      "text/plain": [
       "       0     1     2     3      4    5     6     7     8     9    10    11  \\\n",
       "0  14.23  1.71  2.43  15.6  127.0  2.8  3.06  0.28  2.29  5.64  1.04  3.92   \n",
       "1  12.72  1.81  2.20  18.8   86.0  2.2  2.53  0.26  1.77  3.90  1.16  3.14   \n",
       "2  12.45  3.03  2.64  27.0   97.0  1.9  0.58  0.63  1.14  7.50  0.67  1.73   \n",
       "\n",
       "       12  target  kmeans_labels  \n",
       "0  1065.0       0              1  \n",
       "1   714.0       1              0  \n",
       "2   880.0       2              1  "
      ]
     },
     "execution_count": 10,
     "metadata": {},
     "output_type": "execute_result"
    }
   ],
   "source": [
    "sampled_df = df.groupby('target').apply(lambda x: x.sample(1, random_state=42)).reset_index(drop=True)\n",
    "sampled_df"
   ]
  },
  {
   "cell_type": "markdown",
   "id": "68f2bf70",
   "metadata": {},
   "source": [
    "We won't be using the first model, as it's bad, so let's see where these end up using the second model?"
   ]
  },
  {
   "cell_type": "code",
   "execution_count": 11,
   "id": "2a065ef5",
   "metadata": {},
   "outputs": [
    {
     "data": {
      "text/plain": [
       "array([2, 2, 2], dtype=int32)"
      ]
     },
     "execution_count": 11,
     "metadata": {},
     "output_type": "execute_result"
    }
   ],
   "source": [
    "#DELETE\n",
    "# Predict cluster labels using the fitted kmeans model\n",
    "predicted_labels = kmeans.predict(sampled_df.drop('target', axis=1).drop('kmeans_labels', axis=1))\n",
    "predicted_labels"
   ]
  },
  {
   "cell_type": "markdown",
   "id": "fa6313d2",
   "metadata": {},
   "source": [
    "It appears they are all of the second group. But are they?\n",
    "\n",
    "They are not. The data we are using for inference is unscaled, where the data we used to train the model was scaled. The problem is if we simply reapply the scaler to this data, it uses different parameters. Let's try it anyway:"
   ]
  },
  {
   "cell_type": "code",
   "execution_count": 12,
   "id": "3a4b9dcd",
   "metadata": {},
   "outputs": [
    {
     "data": {
      "text/html": [
       "<div>\n",
       "<style scoped>\n",
       "    .dataframe tbody tr th:only-of-type {\n",
       "        vertical-align: middle;\n",
       "    }\n",
       "\n",
       "    .dataframe tbody tr th {\n",
       "        vertical-align: top;\n",
       "    }\n",
       "\n",
       "    .dataframe thead th {\n",
       "        text-align: right;\n",
       "    }\n",
       "</style>\n",
       "<table border=\"1\" class=\"dataframe\">\n",
       "  <thead>\n",
       "    <tr style=\"text-align: right;\">\n",
       "      <th></th>\n",
       "      <th>0</th>\n",
       "      <th>1</th>\n",
       "      <th>2</th>\n",
       "      <th>3</th>\n",
       "      <th>4</th>\n",
       "      <th>5</th>\n",
       "      <th>6</th>\n",
       "      <th>7</th>\n",
       "      <th>8</th>\n",
       "      <th>9</th>\n",
       "      <th>10</th>\n",
       "      <th>11</th>\n",
       "      <th>12</th>\n",
       "      <th>target</th>\n",
       "    </tr>\n",
       "  </thead>\n",
       "  <tbody>\n",
       "    <tr>\n",
       "      <th>0</th>\n",
       "      <td>1.400139</td>\n",
       "      <td>-0.788792</td>\n",
       "      <td>0.037101</td>\n",
       "      <td>-1.013693</td>\n",
       "      <td>1.36589</td>\n",
       "      <td>1.336306</td>\n",
       "      <td>0.940910</td>\n",
       "      <td>-0.647432</td>\n",
       "      <td>1.183891</td>\n",
       "      <td>-0.027212</td>\n",
       "      <td>0.399604</td>\n",
       "      <td>1.092340</td>\n",
       "      <td>1.246235</td>\n",
       "      <td>0</td>\n",
       "    </tr>\n",
       "    <tr>\n",
       "      <th>1</th>\n",
       "      <td>-0.527712</td>\n",
       "      <td>-0.622145</td>\n",
       "      <td>-1.242874</td>\n",
       "      <td>-0.347155</td>\n",
       "      <td>-1.00037</td>\n",
       "      <td>-0.267261</td>\n",
       "      <td>0.443884</td>\n",
       "      <td>-0.765147</td>\n",
       "      <td>0.077981</td>\n",
       "      <td>-1.210912</td>\n",
       "      <td>0.975033</td>\n",
       "      <td>0.231708</td>\n",
       "      <td>-1.202059</td>\n",
       "      <td>1</td>\n",
       "    </tr>\n",
       "    <tr>\n",
       "      <th>2</th>\n",
       "      <td>-0.872427</td>\n",
       "      <td>1.410937</td>\n",
       "      <td>1.205773</td>\n",
       "      <td>1.360849</td>\n",
       "      <td>-0.36552</td>\n",
       "      <td>-1.069045</td>\n",
       "      <td>-1.384794</td>\n",
       "      <td>1.412580</td>\n",
       "      <td>-1.261872</td>\n",
       "      <td>1.238124</td>\n",
       "      <td>-1.374637</td>\n",
       "      <td>-1.324049</td>\n",
       "      <td>-0.044176</td>\n",
       "      <td>2</td>\n",
       "    </tr>\n",
       "  </tbody>\n",
       "</table>\n",
       "</div>"
      ],
      "text/plain": [
       "          0         1         2         3        4         5         6  \\\n",
       "0  1.400139 -0.788792  0.037101 -1.013693  1.36589  1.336306  0.940910   \n",
       "1 -0.527712 -0.622145 -1.242874 -0.347155 -1.00037 -0.267261  0.443884   \n",
       "2 -0.872427  1.410937  1.205773  1.360849 -0.36552 -1.069045 -1.384794   \n",
       "\n",
       "          7         8         9        10        11        12  target  \n",
       "0 -0.647432  1.183891 -0.027212  0.399604  1.092340  1.246235       0  \n",
       "1 -0.765147  0.077981 -1.210912  0.975033  0.231708 -1.202059       1  \n",
       "2  1.412580 -1.261872  1.238124 -1.374637 -1.324049 -0.044176       2  "
      ]
     },
     "execution_count": 12,
     "metadata": {},
     "output_type": "execute_result"
    }
   ],
   "source": [
    "#DELETE\n",
    "from sklearn.preprocessing import StandardScaler\n",
    "\n",
    "new_scaler = StandardScaler()\n",
    "df_scaled_sample = sampled_df.copy()\n",
    "df_scaled_sample.loc[:, 0:12] = new_scaler.fit_transform(sampled_df.loc[:, 0:12])\n",
    "df_scaled_sample.drop('kmeans_labels', axis=1, inplace=True)\n",
    "df_scaled_sample.head()"
   ]
  },
  {
   "cell_type": "markdown",
   "id": "23d06284",
   "metadata": {},
   "source": [
    "If we compare this data, we get the following table:\n",
    "\n",
    "| Dataframe | Old value | New value |\n",
    "| -----|-----|-----|\n",
    "| Original | 1065.0 | 1.013009 |\n",
    "| Original | 735.0 | -0.037874\t|\n",
    "| Sample | 1065.0 | 1.246235 |\n",
    "| Sample | 714.0 | -1.202059 |\n",
    "\n",
    "We have to use the original scaler. If you used the same variable to store the scaler you've made for the samples you have to retrain it on the original data. If not you can use the transform-method on the original scaler."
   ]
  },
  {
   "cell_type": "code",
   "execution_count": 13,
   "id": "1832b70c",
   "metadata": {},
   "outputs": [
    {
     "name": "stdout",
     "output_type": "stream",
     "text": [
      "Predicted cluster: [2 0 1]\n"
     ]
    },
    {
     "data": {
      "text/html": [
       "<div>\n",
       "<style scoped>\n",
       "    .dataframe tbody tr th:only-of-type {\n",
       "        vertical-align: middle;\n",
       "    }\n",
       "\n",
       "    .dataframe tbody tr th {\n",
       "        vertical-align: top;\n",
       "    }\n",
       "\n",
       "    .dataframe thead th {\n",
       "        text-align: right;\n",
       "    }\n",
       "</style>\n",
       "<table border=\"1\" class=\"dataframe\">\n",
       "  <thead>\n",
       "    <tr style=\"text-align: right;\">\n",
       "      <th>Predicted</th>\n",
       "      <th>0</th>\n",
       "      <th>1</th>\n",
       "      <th>2</th>\n",
       "    </tr>\n",
       "    <tr>\n",
       "      <th>True</th>\n",
       "      <th></th>\n",
       "      <th></th>\n",
       "      <th></th>\n",
       "    </tr>\n",
       "  </thead>\n",
       "  <tbody>\n",
       "    <tr>\n",
       "      <th>0</th>\n",
       "      <td>0</td>\n",
       "      <td>0</td>\n",
       "      <td>1</td>\n",
       "    </tr>\n",
       "    <tr>\n",
       "      <th>1</th>\n",
       "      <td>1</td>\n",
       "      <td>0</td>\n",
       "      <td>0</td>\n",
       "    </tr>\n",
       "    <tr>\n",
       "      <th>2</th>\n",
       "      <td>0</td>\n",
       "      <td>1</td>\n",
       "      <td>0</td>\n",
       "    </tr>\n",
       "  </tbody>\n",
       "</table>\n",
       "</div>"
      ],
      "text/plain": [
       "Predicted  0  1  2\n",
       "True              \n",
       "0          0  0  1\n",
       "1          1  0  0\n",
       "2          0  1  0"
      ]
     },
     "execution_count": 13,
     "metadata": {},
     "output_type": "execute_result"
    }
   ],
   "source": [
    "#DELETE\n",
    "df_scaled_sample = scaler.transform(sampled_df.drop('target', axis=1).drop('kmeans_labels', axis=1))\n",
    "cluster = kmeans.predict(df_scaled_sample)\n",
    "print(\"Predicted cluster:\", cluster)\n",
    "sampled_df['kmeans_labels'] = cluster\n",
    "sampled_df\n",
    "pd.crosstab(sampled_df['target'], cluster, rownames=['True'], colnames=['Predicted'])\n"
   ]
  },
  {
   "cell_type": "markdown",
   "id": "7ea7dcbe",
   "metadata": {},
   "source": [
    "## Exporting\n",
    "\n",
    "Scaling, although very beneficial for our model, adds an extra step in inference. It also requires us to export our scaler as well as our model when we want to deploy this model."
   ]
  },
  {
   "cell_type": "code",
   "execution_count": 14,
   "id": "a961ff93",
   "metadata": {},
   "outputs": [
    {
     "data": {
      "text/plain": [
       "['exports/kmeans_model.pkl']"
      ]
     },
     "execution_count": 14,
     "metadata": {},
     "output_type": "execute_result"
    }
   ],
   "source": [
    "import joblib\n",
    "\n",
    "joblib.dump(scaler, '../exports/scaler.pkl')\n",
    "joblib.dump(kmeans, '../exports/kmeans_model.pkl')"
   ]
  },
  {
   "cell_type": "markdown",
   "id": "3e9408f3",
   "metadata": {},
   "source": [
    "And how would inferencing work now?"
   ]
  },
  {
   "cell_type": "code",
   "execution_count": 15,
   "id": "5ded2ed1",
   "metadata": {},
   "outputs": [
    {
     "name": "stdout",
     "output_type": "stream",
     "text": [
      "Predicted cluster: [2]\n"
     ]
    }
   ],
   "source": [
    "import joblib\n",
    "# Load model and scaler if needed\n",
    "scaler = joblib.load('../exports/scaler.pkl')\n",
    "kmeans = joblib.load('../exports/kmeans_model.pkl')\n",
    "\n",
    "# New sample(s), e.g., a NumPy array or DataFrame\n",
    "X_new = [[13.2, 2.7, 2.5, 16.0, 100.0, 2.8, 3.2, 0.3, 2.1, 5.0, 1.1, 2.6, 1200.0]]\n",
    "\n",
    "# Apply the SAME scaling\n",
    "X_new_scaled = scaler.transform(X_new)\n",
    "\n",
    "# Predict cluster\n",
    "cluster = kmeans.predict(X_new_scaled)\n",
    "print(\"Predicted cluster:\", cluster)"
   ]
  },
  {
   "cell_type": "markdown",
   "id": "1c6e3e23",
   "metadata": {},
   "source": [
    "Try restarting the jupyter-kernel to remove all existing variables. It should still work!"
   ]
  }
 ],
 "metadata": {
  "kernelspec": {
   "display_name": "venv",
   "language": "python",
   "name": "python3"
  },
  "language_info": {
   "codemirror_mode": {
    "name": "ipython",
    "version": 3
   },
   "file_extension": ".py",
   "mimetype": "text/x-python",
   "name": "python",
   "nbconvert_exporter": "python",
   "pygments_lexer": "ipython3",
   "version": "3.12.5"
  }
 },
 "nbformat": 4,
 "nbformat_minor": 5
}