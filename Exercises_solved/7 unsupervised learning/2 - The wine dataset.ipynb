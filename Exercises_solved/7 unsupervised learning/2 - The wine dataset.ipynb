{
 "cells": [
  {
   "cell_type": "markdown",
   "id": "d6385b71",
   "metadata": {},
   "source": [
    "# The wine dataset\n",
    "\n",
    "For the second exercise we'll be revisiting the wine dataset."
   ]
  },
  {
   "cell_type": "markdown",
   "id": "9a69f368",
   "metadata": {},
   "source": [
    "## Data import\n",
    "\n",
    "First import and explore."
   ]
  },
  {
   "cell_type": "code",
   "execution_count": null,
   "id": "d1e85767",
   "metadata": {},
   "outputs": [],
   "source": [
    "from sklearn.datasets import load_wine\n",
    "import pandas as pd\n",
    "\n",
    "X, y = load_wine(return_X_y=True)\n",
    "\n",
    "df = pd.DataFrame(X)\n",
    "df['target'] = y\n",
    "df.head()"
   ]
  },
  {
   "cell_type": "markdown",
   "id": "d24034c4",
   "metadata": {},
   "source": [
    "The boxplot is a great way of showing distributions. Show the boxplots for columns 1 through 12 in one graph."
   ]
  },
  {
   "cell_type": "code",
   "execution_count": null,
   "id": "23910eb4",
   "metadata": {},
   "outputs": [],
   "source": [
    "#DELETE\n",
    "df.drop('target', axis=1).boxplot(figsize=(15, 6))"
   ]
  },
  {
   "cell_type": "markdown",
   "id": "5517e953",
   "metadata": {},
   "source": [
    "You'll see one normal boxplot, column 12, and 12 (0-11) very small ones."
   ]
  },
  {
   "cell_type": "markdown",
   "id": "2b5bf3b4",
   "metadata": {},
   "source": [
    "## 2D clustering\n",
    "\n",
    "Let's create a scatterplot of 2 vs 12. Use 'plt.axis('equal')' to make sure both axis have the same scaling. (Also comment the line away to compare.)"
   ]
  },
  {
   "cell_type": "code",
   "execution_count": null,
   "id": "1b4151c6",
   "metadata": {},
   "outputs": [],
   "source": [
    "#DELETE\n",
    "import matplotlib.pyplot as plt\n",
    "\n",
    "plt.figure(figsize=(8, 6))\n",
    "plt.scatter(df[2], df[12], c=df['target'], cmap='viridis', edgecolor='k')\n",
    "plt.xlabel('Column 2')\n",
    "plt.ylabel('Column 12')\n",
    "plt.title('Scatterplot of Column 2 vs Column 12')\n",
    "plt.colorbar(label='Target')\n",
    "plt.axis('equal')  # Make x and y axes the same scale\n",
    "plt.show()"
   ]
  },
  {
   "cell_type": "markdown",
   "id": "4b5cdfd9",
   "metadata": {},
   "source": [
    "Train a clustering model on this, unaltered data. Create three clusters."
   ]
  },
  {
   "cell_type": "code",
   "execution_count": null,
   "id": "b05b2a68",
   "metadata": {},
   "outputs": [],
   "source": [
    "#DELETE\n",
    "from sklearn.cluster import KMeans\n",
    "\n",
    "kmeans = KMeans(n_clusters=3, random_state=42)\n",
    "labels = kmeans.fit_predict(df.drop('target', axis=1))\n"
   ]
  },
  {
   "cell_type": "markdown",
   "id": "d82b5956",
   "metadata": {},
   "source": [
    "And now compare the predicted clusters and the actual groups in a crosstable."
   ]
  },
  {
   "cell_type": "code",
   "execution_count": null,
   "id": "f6552fef",
   "metadata": {},
   "outputs": [],
   "source": [
    "#DELETE\n",
    "df['kmeans_labels'] = labels\n",
    "\n",
    "pd.crosstab(df['target'], df['kmeans_labels'], rownames=['True'], colnames=['Predicted'])"
   ]
  },
  {
   "cell_type": "markdown",
   "id": "efe60858",
   "metadata": {},
   "source": [
    "## Scaling\n",
    "\n",
    "The solution is scaling. Apply this to the wine dataset. Copy the results in a new dataframe where you also drop the \"kmeans_labels\" you got before."
   ]
  },
  {
   "cell_type": "code",
   "execution_count": null,
   "id": "f2939e22",
   "metadata": {},
   "outputs": [],
   "source": [
    "#DELETE\n",
    "from sklearn.preprocessing import StandardScaler\n",
    "\n",
    "scaler = StandardScaler()\n",
    "df_scaled = df.copy()\n",
    "df_scaled.loc[:, 0:12] = scaler.fit_transform(df.loc[:, 0:12])\n",
    "df_scaled.drop('kmeans_labels', axis=1, inplace=True)\n",
    "df_scaled.head()"
   ]
  },
  {
   "cell_type": "markdown",
   "id": "9aa1e493",
   "metadata": {},
   "source": [
    "Now recreate the scatter plot from before. Does it still matter if you ask the model to equally scale the axis?"
   ]
  },
  {
   "cell_type": "code",
   "execution_count": null,
   "id": "63f89b31",
   "metadata": {},
   "outputs": [],
   "source": [
    "#DELETE\n",
    "import matplotlib.pyplot as plt\n",
    "\n",
    "plt.figure(figsize=(8, 6))\n",
    "plt.scatter(df_scaled[2], df_scaled[12], c=df_scaled['target'], cmap='viridis', edgecolor='k')\n",
    "plt.xlabel('Column 2')\n",
    "plt.ylabel('Column 12')\n",
    "plt.title('Scatterplot of Column 2 vs Column 12')\n",
    "plt.colorbar(label='Target')\n",
    "plt.axis('equal')  # Make x and y axes the same scale\n",
    "plt.show()"
   ]
  },
  {
   "cell_type": "code",
   "execution_count": null,
   "id": "565dae99",
   "metadata": {},
   "outputs": [],
   "source": [
    "#DELETE\n",
    "from sklearn.cluster import KMeans\n",
    "\n",
    "kmeans = KMeans(n_clusters=3, random_state=42)\n",
    "labels = kmeans.fit_predict(df_scaled.drop('target', axis=1))\n"
   ]
  },
  {
   "cell_type": "markdown",
   "id": "f3aebf63",
   "metadata": {},
   "source": [
    "Also create a crosstable to compare."
   ]
  },
  {
   "cell_type": "code",
   "execution_count": null,
   "id": "4b02fe88",
   "metadata": {},
   "outputs": [],
   "source": [
    "df_scaled['kmeans_labels'] = labels\n",
    "\n",
    "pd.crosstab(df_scaled['target'], df_scaled['kmeans_labels'], rownames=['True'], colnames=['Predicted'])"
   ]
  },
  {
   "cell_type": "markdown",
   "id": "55f33dd6",
   "metadata": {},
   "source": [
    "That's more like it."
   ]
  },
  {
   "cell_type": "markdown",
   "id": "59595195",
   "metadata": {},
   "source": [
    "## Inference\n",
    "\n",
    "Using the following row, we'll randomly select three rows from the original dataset."
   ]
  },
  {
   "cell_type": "code",
   "execution_count": null,
   "id": "397c4288",
   "metadata": {},
   "outputs": [],
   "source": [
    "sampled_df = df.groupby('target').apply(lambda x: x.sample(1, random_state=42)).reset_index(drop=True)\n",
    "sampled_df"
   ]
  },
  {
   "cell_type": "markdown",
   "id": "68f2bf70",
   "metadata": {},
   "source": [
    "We won't be using the first model, as it's bad, so let's see where these end up using the second model?"
   ]
  },
  {
   "cell_type": "code",
   "execution_count": null,
   "id": "2a065ef5",
   "metadata": {},
   "outputs": [],
   "source": [
    "#DELETE\n",
    "# Predict cluster labels using the fitted kmeans model\n",
    "predicted_labels = kmeans.predict(sampled_df.drop('target', axis=1).drop('kmeans_labels', axis=1))\n",
    "predicted_labels"
   ]
  },
  {
   "cell_type": "markdown",
   "id": "fa6313d2",
   "metadata": {},
   "source": [
    "It appears they are all of the second group. But are they?\n",
    "\n",
    "They are not. The data we are using for inference is unscaled, where the data we used to train the model was scaled. The problem is if we simply reapply the scaler to this data, it uses different parameters. Let's try it anyway:"
   ]
  },
  {
   "cell_type": "code",
   "execution_count": null,
   "id": "3a4b9dcd",
   "metadata": {},
   "outputs": [],
   "source": [
    "#DELETE\n",
    "from sklearn.preprocessing import StandardScaler\n",
    "\n",
    "new_scaler = StandardScaler()\n",
    "df_scaled_sample = sampled_df.copy()\n",
    "df_scaled_sample.loc[:, 0:12] = new_scaler.fit_transform(sampled_df.loc[:, 0:12])\n",
    "df_scaled_sample.drop('kmeans_labels', axis=1, inplace=True)\n",
    "df_scaled_sample.head()"
   ]
  },
  {
   "cell_type": "markdown",
   "id": "23d06284",
   "metadata": {},
   "source": [
    "If we compare this data, we get the following table:\n",
    "\n",
    "| Dataframe | Old value | New value |\n",
    "| -----|-----|-----|\n",
    "| Original | 1065.0 | 1.013009 |\n",
    "| Original | 735.0 | -0.037874\t|\n",
    "| Sample | 1065.0 | 1.246235 |\n",
    "| Sample | 714.0 | -1.202059 |\n",
    "\n",
    "We have to use the original scaler. If you used the same variable to store the scaler you've made for the samples you have to retrain it on the original data. If not you can use the transform-method on the original scaler."
   ]
  },
  {
   "cell_type": "code",
   "execution_count": null,
   "id": "1832b70c",
   "metadata": {},
   "outputs": [],
   "source": [
    "#DELETE\n",
    "df_scaled_sample = scaler.transform(sampled_df.drop('target', axis=1).drop('kmeans_labels', axis=1))\n",
    "cluster = kmeans.predict(df_scaled_sample)\n",
    "print(\"Predicted cluster:\", cluster)\n",
    "sampled_df['kmeans_labels'] = cluster\n",
    "sampled_df\n",
    "pd.crosstab(sampled_df['target'], cluster, rownames=['True'], colnames=['Predicted'])\n"
   ]
  },
  {
   "cell_type": "markdown",
   "id": "7ea7dcbe",
   "metadata": {},
   "source": [
    "## Exporting\n",
    "\n",
    "Scaling, although very beneficial for our model, adds an extra step in inference. It also requires us to export our scaler as well as our model when we want to deploy this model."
   ]
  },
  {
   "cell_type": "code",
   "execution_count": null,
   "id": "a961ff93",
   "metadata": {},
   "outputs": [],
   "source": [
    "import joblib\n",
    "\n",
    "joblib.dump(scaler, '../exports/scaler.pkl')\n",
    "joblib.dump(kmeans, '../exports/kmeans_model.pkl')"
   ]
  },
  {
   "cell_type": "markdown",
   "id": "3e9408f3",
   "metadata": {},
   "source": [
    "And how would inferencing work now?"
   ]
  },
  {
   "cell_type": "code",
   "execution_count": null,
   "id": "5ded2ed1",
   "metadata": {},
   "outputs": [],
   "source": [
    "import joblib\n",
    "# Load model and scaler if needed\n",
    "scaler = joblib.load('../exports/scaler.pkl')\n",
    "kmeans = joblib.load('../exports/kmeans_model.pkl')\n",
    "\n",
    "# New sample(s), e.g., a NumPy array or DataFrame\n",
    "X_new = [[13.2, 2.7, 2.5, 16.0, 100.0, 2.8, 3.2, 0.3, 2.1, 5.0, 1.1, 2.6, 1200.0]]\n",
    "\n",
    "# Apply the SAME scaling\n",
    "X_new_scaled = scaler.transform(X_new)\n",
    "\n",
    "# Predict cluster\n",
    "cluster = kmeans.predict(X_new_scaled)\n",
    "print(\"Predicted cluster:\", cluster)"
   ]
  },
  {
   "cell_type": "markdown",
   "id": "1c6e3e23",
   "metadata": {},
   "source": [
    "Try restarting the jupyter-kernel to remove all existing variables. It should still work!"
   ]
  }
 ],
 "metadata": {
  "kernelspec": {
   "display_name": "venv (3.12.5)",
   "language": "python",
   "name": "python3"
  },
  "language_info": {
   "codemirror_mode": {
    "name": "ipython",
    "version": 3
   },
   "file_extension": ".py",
   "mimetype": "text/x-python",
   "name": "python",
   "nbconvert_exporter": "python",
   "pygments_lexer": "ipython3",
   "version": "3.12.10"
  }
 },
 "nbformat": 4,
 "nbformat_minor": 5
}
