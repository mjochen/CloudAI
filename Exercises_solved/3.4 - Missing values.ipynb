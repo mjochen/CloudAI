{
 "cells": [
  {
   "cell_type": "markdown",
   "metadata": {},
   "source": [
    "# Missing values in crops\n",
    "\n",
    "As an example of missing we'll be using the crops-dataset. You can find it in a zip-file in the files-folder. We'll use python to unpack this file."
   ]
  },
  {
   "cell_type": "code",
   "execution_count": 6,
   "metadata": {},
   "outputs": [],
   "source": [
    "import zipfile\n",
    "import os\n",
    "\n",
    "file = \"files/food-twentieth-century-crop-statistics-1900-2017-xlsx.zip\"\n",
    "folder = \"files/crop-statistics\"\n",
    "\n",
    "\n",
    "if not os.path.exists(folder):\n",
    "    os.makedirs(folder)\n",
    "\n",
    "with zipfile.ZipFile(file, 'r') as zip_ref:\n",
    "    zip_ref.extractall(folder)\n",
    "    \n",
    "all_files = os.listdir(folder)\n",
    "data_file = [f for f in all_files if f.endswith('.xlsx')][0]"
   ]
  },
  {
   "cell_type": "markdown",
   "metadata": {},
   "source": [
    "And now it's up to you. Import the excel-file referenced in \"data_file\" into a pandas dataframe. (To read excel-files you'll need \"openpyxl\". Use pip install if you don't have it yet.)"
   ]
  },
  {
   "cell_type": "code",
   "execution_count": null,
   "metadata": {},
   "outputs": [],
   "source": [
    "#DELETE\n",
    "import pandas as pd\n",
    "\n",
    "df = pd.read_excel(os.path.join(folder, data_file))\n",
    "print(df.head())"
   ]
  },
  {
   "cell_type": "markdown",
   "metadata": {},
   "source": [
    "If you simply imported the file you'll now notice that you only have 2 columns. The problem is the excel-file has multiple worksheets, and we need the second worksheet.\n",
    "\n",
    "![](files/2024-10-05-15-09-49.png)"
   ]
  },
  {
   "cell_type": "code",
   "execution_count": null,
   "metadata": {},
   "outputs": [],
   "source": [
    "#DELETE\n",
    "# Import the second worksheet of \"data_file\" into a pandas dataframe\n",
    "df = pd.read_excel(os.path.join(folder, data_file), sheet_name=1)\n",
    "print(df.head())"
   ]
  },
  {
   "cell_type": "markdown",
   "metadata": {},
   "source": [
    "Now show all columns, along with a count of the number of NaN-values they contain."
   ]
  },
  {
   "cell_type": "code",
   "execution_count": null,
   "metadata": {},
   "outputs": [],
   "source": [
    "#DELETE\n",
    "\n",
    "# Show all columns along with a count of the number of NaN-values they contain\n",
    "nan_counts = df.isna().sum()\n",
    "print(nan_counts)"
   ]
  },
  {
   "cell_type": "markdown",
   "metadata": {},
   "source": [
    "Drop \"admin2\" and \"notes\". They won't be of much help."
   ]
  },
  {
   "cell_type": "code",
   "execution_count": null,
   "metadata": {},
   "outputs": [],
   "source": [
    "#DELETE\n",
    "# Drop \"admin2\" and \"notes\" columns from the dataframe\n",
    "df = df.drop(columns=['admin2', 'notes'])\n",
    "print(df.head())"
   ]
  },
  {
   "cell_type": "markdown",
   "metadata": {},
   "source": [
    "As the field-names show there is a relationship between \"hectares\", \"production\" and \"yield\", being:\n",
    "\n",
    "yield = production / hectares\n",
    "\n",
    "That means that if we have two of these values we can calculate the third.\n",
    "\n",
    "First drop all rows where we don't know any of the values or only one of them."
   ]
  },
  {
   "cell_type": "code",
   "execution_count": null,
   "metadata": {},
   "outputs": [],
   "source": [
    "#DELETE\n",
    "# Drop all rows where all three of 'production (tonnes)', 'yield(tonnes/ha)', and 'hectares (ha)' are NaN\n",
    "\n",
    "df = df.dropna(subset=['yield(tonnes/ha)', 'hectares (ha)'], how='all')\n",
    "df = df.dropna(subset=['production (tonnes)', 'hectares (ha)'], how='all')\n",
    "df = df.dropna(subset=['production (tonnes)', 'yield(tonnes/ha)'], how='all')\n",
    "print(df.head())"
   ]
  },
  {
   "cell_type": "markdown",
   "metadata": {},
   "source": [
    "And now you can start filling up. First make sure \"yield\" is equal to production divided by hectares."
   ]
  },
  {
   "cell_type": "code",
   "execution_count": null,
   "metadata": {},
   "outputs": [],
   "source": [
    "df['yield(tonnes/ha)'] = df.apply(\n",
    "    lambda row: row['production (tonnes)'] / row['hectares (ha)'] if pd.isna(row['yield(tonnes/ha)']) else row['yield(tonnes/ha)'],\n",
    "    axis=1\n",
    ")\n",
    "print(df.head())"
   ]
  },
  {
   "cell_type": "markdown",
   "metadata": {},
   "source": [
    "You'll notice that this won't work as some values in the fields are 0. If two of the three values are zero the third will be zero as well, but if you only one value is zero that is wrong data (you can't get a yield if you don't have fields.)\n",
    "\n",
    "So let's start at the beginning:\n",
    "\n",
    "If hectares and production are zero, yield will be zero too."
   ]
  },
  {
   "cell_type": "code",
   "execution_count": null,
   "metadata": {},
   "outputs": [],
   "source": [
    "#DELETE\n",
    "\n",
    "df.loc[(df['hectares (ha)'] == 0) & (df['production (tonnes)'] == 0), 'yield(tonnes/ha)'] = df['yield(tonnes/ha)'].fillna(0)\n",
    "\n",
    "print(df.head())"
   ]
  },
  {
   "cell_type": "markdown",
   "metadata": {},
   "source": [
    "Drop all rows where:\n",
    "- Yield is NaN\n",
    "- Hectares or production is 0\n",
    "\n",
    "As these are the rows where you have a certain production without knowing the fields (or visa versa)."
   ]
  },
  {
   "cell_type": "code",
   "execution_count": 85,
   "metadata": {},
   "outputs": [],
   "source": [
    "#DELETE\n",
    "\n",
    "bad_rows = df.loc[(df['yield(tonnes/ha)'].isna()) & ((df['hectares (ha)'] == 0) | (df['production (tonnes)'] == 0))]\n",
    "\n",
    "df.drop(bad_rows.index, inplace=True)\n"
   ]
  },
  {
   "cell_type": "markdown",
   "metadata": {},
   "source": [
    "That takes care of all the rows with Na-values in yield. Looking back at the code you may realize that we didn't actually calculate any data, we simply dropped rows with too many zeros and set production to zero.\n",
    "\n",
    "Next up is calculating hectares and production. They are:\n",
    "\n",
    "- Zero if the other two are zero\n",
    "- Dropped if only one of the others is not zero\n",
    "- Calculated if both of the others have value"
   ]
  },
  {
   "cell_type": "code",
   "execution_count": 86,
   "metadata": {},
   "outputs": [],
   "source": [
    "#DELETE\n",
    "df.fillna({'hectares (ha)': df['production (tonnes)'] / df['yield(tonnes/ha)']}, inplace=True)\n",
    "df.fillna({'production (tonnes)': df['yield(tonnes/ha)'] / df['hectares (ha)']}, inplace=True)\n"
   ]
  },
  {
   "cell_type": "markdown",
   "metadata": {},
   "source": [
    "And finally, don't forget to delete the folder with the unzipped files."
   ]
  },
  {
   "cell_type": "code",
   "execution_count": 88,
   "metadata": {},
   "outputs": [],
   "source": [
    "import shutil\n",
    "shutil.rmtree(folder)"
   ]
  }
 ],
 "metadata": {
  "kernelspec": {
   "display_name": "venv",
   "language": "python",
   "name": "python3"
  },
  "language_info": {
   "codemirror_mode": {
    "name": "ipython",
    "version": 3
   },
   "file_extension": ".py",
   "mimetype": "text/x-python",
   "name": "python",
   "nbconvert_exporter": "python",
   "pygments_lexer": "ipython3",
   "version": "3.12.5"
  }
 },
 "nbformat": 4,
 "nbformat_minor": 2
}
