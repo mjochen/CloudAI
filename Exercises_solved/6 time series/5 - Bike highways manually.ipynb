{
 "cells": [
  {
   "cell_type": "markdown",
   "metadata": {},
   "source": [
    "# Bike highways - revisit manually\n",
    "\n",
    "After AWS and PyCaret it's still nice to do a bit of predicting ourselves. Let's load the same dataset (again) and see of any of the models we saw will be able to provide a good prediction."
   ]
  },
  {
   "cell_type": "code",
   "execution_count": null,
   "metadata": {},
   "outputs": [],
   "source": [
    "import pandas as pd\n",
    "\n",
    "df = pd.read_csv('../files/bike_counters_data/Measured data-nl-Geel_FMN GV 21 Geel.csv')\n",
    "\n",
    "df[\"date_time\"] = df[\"Datum\"] + \" \" + df[\"Tijd\"]\n",
    "df[\"date_time\"] = pd.to_datetime(df[\"date_time\"])\n",
    "df = df.set_index(\"date_time\")\n",
    "df = df[[\"Aantal fietsers\"]]\n",
    "df.head()"
   ]
  },
  {
   "cell_type": "markdown",
   "metadata": {},
   "source": [
    "First, group by month and plot the data."
   ]
  },
  {
   "cell_type": "code",
   "execution_count": null,
   "metadata": {},
   "outputs": [],
   "source": [
    "#DELETE\n",
    "df_time_month = df.loc[ df[\"Aantal fietsers\"] >= 30 ].resample('ME').sum().reset_index().set_index(['date_time'])\n",
    "df_time_month.plot()"
   ]
  },
  {
   "cell_type": "markdown",
   "metadata": {},
   "source": [
    "Next, calculate the autocorrection on this dataset. This should show us any seasonality that is in there."
   ]
  },
  {
   "cell_type": "code",
   "execution_count": null,
   "metadata": {},
   "outputs": [],
   "source": [
    "# DELETE\n",
    "\n",
    "pd.plotting.autocorrelation_plot(df_time_month['Aantal fietsers'])"
   ]
  },
  {
   "cell_type": "markdown",
   "metadata": {},
   "source": [
    "It's not as obvious as the example dataset, but there is a definite spike at 12 and 24 (months). And this is significant because we only have three years worth of data.\n",
    "\n",
    "What if we group the data by day?"
   ]
  },
  {
   "cell_type": "code",
   "execution_count": null,
   "metadata": {},
   "outputs": [],
   "source": [
    "#DELETE\n",
    "df_time_day = df.loc[ df[\"Aantal fietsers\"] >= 30 ].resample('D').sum().reset_index().set_index(['date_time'])\n",
    "# df_time_day.plot()\n",
    "pd.plotting.autocorrelation_plot(df_time_day['Aantal fietsers'])"
   ]
  },
  {
   "cell_type": "markdown",
   "metadata": {},
   "source": [
    "The same spike at 365 and 730! But not much higher, so we could simply keep on working with the monthly data..."
   ]
  },
  {
   "cell_type": "markdown",
   "metadata": {},
   "source": [
    "## Arima\n",
    "\n",
    "We'll apply an Arima-model to predict the number of cyclists. We'll try to predict the number per month.\n",
    "\n",
    "Follow the following steps:\n",
    "\n",
    "* Reload the excel file\n",
    "* Set the date as index\n",
    "* Drop all columns besides \"Aantal fietsers\"\n",
    "* Resample as months\n",
    "* Show the top 5 rows"
   ]
  },
  {
   "cell_type": "code",
   "execution_count": null,
   "metadata": {},
   "outputs": [],
   "source": [
    "# DELETE\n",
    "\n",
    "import pandas as pd\n",
    "\n",
    "df = pd.read_csv('../files/bike_counters_data/Measured data-nl-Geel_FMN GV 21 Geel.csv')[ [\"Datum\", \"Aantal fietsers\"] ]\n",
    "df = df.loc[ df['Aantal fietsers'] > 1 ]\n",
    "df[\"Datum\"] = pd.to_datetime(df[\"Datum\"])\n",
    "df_months = df.resample('ME', on='Datum').sum()\n",
    "\n",
    "df_months.head()"
   ]
  },
  {
   "cell_type": "markdown",
   "metadata": {},
   "source": [
    "Good start. For auto-arima, our dataset should have:\n",
    "* A date column named ds (currently the index)\n",
    "* A value column named y (currently \"Aantal fietsers\")\n",
    "* A column called \"unique_id\" that contains a value (the same for all rows)\n",
    "\n",
    "The month-column should be stored as a date-time. Drop all other columns."
   ]
  },
  {
   "cell_type": "code",
   "execution_count": null,
   "metadata": {},
   "outputs": [],
   "source": [
    "#DELETE\n",
    "df_months[\"ds\"]= df_months.index\n",
    "df_months[\"y\"]= df_months[\"Aantal fietsers\"]\n",
    "df_months['ds'] = pd.to_datetime(df_months['ds'])\n",
    "df_months['unique_id'] = 'Cyclists'\n",
    "\n",
    "df_months = df_months[[\"ds\", \"unique_id\", \"y\"]]\n",
    "# Sort by date just to be sure\n",
    "df_months = df_months.sort_values('ds')\n",
    "df_months.head()"
   ]
  },
  {
   "cell_type": "markdown",
   "metadata": {},
   "source": [
    "We should tell the model how often our data appears. Here it is monthly, we resampled it to be that way. But let's determine it automatically anyway."
   ]
  },
  {
   "cell_type": "code",
   "execution_count": null,
   "metadata": {},
   "outputs": [],
   "source": [
    "freq = pd.infer_freq(df_months['ds'])\n",
    "freq"
   ]
  },
  {
   "cell_type": "markdown",
   "metadata": {},
   "source": [
    "Now chop of the last 12 months and put the remainder in a df_train."
   ]
  },
  {
   "cell_type": "code",
   "execution_count": null,
   "metadata": {},
   "outputs": [],
   "source": [
    "#DELETE\n",
    "df_train = df_months[:-12]\n",
    "df_test = df_months[-12:]"
   ]
  },
  {
   "cell_type": "markdown",
   "metadata": {},
   "source": [
    "And now we're ready to create and fit the model!"
   ]
  },
  {
   "cell_type": "code",
   "execution_count": null,
   "metadata": {},
   "outputs": [],
   "source": [
    "#DELETE\n",
    "from statsforecast import StatsForecast\n",
    "from statsforecast.models import AutoARIMA\n",
    "\n",
    "# Initialize forecast engine\n",
    "sf = StatsForecast(\n",
    "    models=[AutoARIMA(season_length=12)],  # adjust season_length if needed\n",
    "    freq=freq,\n",
    "    n_jobs=-1  # use all CPUs\n",
    ")\n",
    "\n",
    "# Fit model on training data\n",
    "sf_fitted = sf.fit(df_train)\n"
   ]
  },
  {
   "cell_type": "markdown",
   "metadata": {},
   "source": [
    "And now predict the last 12 months of our data."
   ]
  },
  {
   "cell_type": "code",
   "execution_count": null,
   "metadata": {},
   "outputs": [],
   "source": [
    "#DELETE\n",
    "# Forecast next 12 periods\n",
    "df_forecast = sf_fitted.predict(h=12)\n",
    "print(df_forecast)\n"
   ]
  },
  {
   "cell_type": "markdown",
   "metadata": {},
   "source": [
    "Calculate the RMSE."
   ]
  },
  {
   "cell_type": "code",
   "execution_count": null,
   "metadata": {},
   "outputs": [],
   "source": [
    "#DELETE\n",
    "from sklearn.metrics import mean_squared_error\n",
    "import numpy as np\n",
    "\n",
    "# Forecast the next 12 months\n",
    "df_forecast = sf.predict(h=12)\n",
    "df_forecast[\"y\"] = df_forecast[\"AutoARIMA\"]\n",
    "\n",
    "rmse = np.sqrt(mean_squared_error(df_test[\"y\"], df_forecast[\"y\"]))\n",
    "print(f\"RMSE on test set: {rmse:.4f} passengers\")"
   ]
  },
  {
   "cell_type": "markdown",
   "metadata": {},
   "source": [
    "Kind of a big number. Maybe the graph will enlighten us?"
   ]
  },
  {
   "cell_type": "code",
   "execution_count": null,
   "metadata": {},
   "outputs": [],
   "source": [
    "#DELETE\n",
    "import matplotlib.pyplot as plt\n",
    "\n",
    "plt.figure(figsize=(10, 5))\n",
    "plt.plot(df_months['ds'], df_months['y'], label='Original')\n",
    "plt.plot(df_forecast['ds'], df_forecast['AutoARIMA'], label='Forecast')\n",
    "plt.legend()\n",
    "plt.title(\"AutoARIMA Forecast\")\n",
    "plt.show()\n"
   ]
  },
  {
   "cell_type": "markdown",
   "metadata": {},
   "source": [
    "The forecast isn't great, but roughly follows the data. Let's not forget we are working with about 40 months worth of data, which isn't anywhere near enough data for a reliable model. Main thing was getting a succesful pipeline (data -> prediction)."
   ]
  }
 ],
 "metadata": {
  "kernelspec": {
   "display_name": "venv (3.12.5)",
   "language": "python",
   "name": "python3"
  },
  "language_info": {
   "codemirror_mode": {
    "name": "ipython",
    "version": 3
   },
   "file_extension": ".py",
   "mimetype": "text/x-python",
   "name": "python",
   "nbconvert_exporter": "python",
   "pygments_lexer": "ipython3",
   "version": "3.12.5"
  }
 },
 "nbformat": 4,
 "nbformat_minor": 2
}
