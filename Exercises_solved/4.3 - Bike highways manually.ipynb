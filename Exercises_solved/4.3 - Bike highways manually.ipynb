{
 "cells": [
  {
   "cell_type": "markdown",
   "metadata": {},
   "source": [
    "load one file, use date as index, prepare for forecast.\n",
    "\n",
    "Groupby.resample (downsampling)\n",
    "\n",
    "\n",
    "\n",
    "#df_related_time_series4 = df_related_time_series3.reset_index().set_index('InvoiceDate')\n",
    "\n",
    "# Select January to November for one dataframe.\n",
    "jan_to_oct = retail_timeseries['2009-12':'2011-10']\n",
    "nov_to_dec = retail_timeseries['2011-11':'2011-12']\n",
    "jan_to_oct_related = df_related_time_series2['2009-12':'2011-10']\n",
    "\n",
    "\n",
    "https://neuralprophet.com/"
   ]
  },
  {
   "cell_type": "code",
   "execution_count": null,
   "metadata": {},
   "outputs": [],
   "source": []
  }
 ],
 "metadata": {
  "language_info": {
   "name": "python"
  },
  "orig_nbformat": 4
 },
 "nbformat": 4,
 "nbformat_minor": 2
}
