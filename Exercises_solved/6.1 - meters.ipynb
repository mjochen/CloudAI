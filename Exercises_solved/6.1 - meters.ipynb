{
 "cells": [
  {
   "cell_type": "markdown",
   "metadata": {},
   "source": [
    "# Meters\n",
    "\n",
    "Every now and then I go down into the basement and note the values on my watermeter, gasmeter and electricity meter. That last one has a day and a night counter, which is because electrity is cheaper at night. You can find this data in the \"files/Meters.ods\". (It's a LibreOffice-spreadsheet.)\n",
    "\n",
    "Start by loading the data. It's in ODS-format (not csv), so you may need to install the library first. Add an additional code block if you still need it."
   ]
  },
  {
   "cell_type": "code",
   "execution_count": null,
   "metadata": {},
   "outputs": [],
   "source": [
    "\n",
    "import pandas as pd\n",
    "\n",
    "bad_df = pd.read_excel(\"files/Meters.ods\", usecols=\"A:C\", decimal=\",\", thousands=\".\", header = 0, names=[\"What\", \"Date\", \"Value\"])\n",
    "\n",
    "bad_df['What'] = bad_df['What'].replace('EL.Dag', 'EL.Day')\n",
    "bad_df['What'] = bad_df['What'].replace('EL.Nacht', 'EL.Night')\n",
    "\n",
    "bad_df.head()"
   ]
  },
  {
   "cell_type": "markdown",
   "metadata": {},
   "source": [
    "There is a small problem with this data: In stead of making the following spreadsheet:\n",
    "\n",
    "![](files/2023-10-04-16-46-45.png)\n",
    "\n",
    "I made the following sheet:\n",
    "\n",
    "![](files/2023-10-04-16-47-16.png)\n",
    "\n",
    "But the first one would have been much nicer. Going form the good version to the bad version would be \"[melt](https://pandas.pydata.org/pandas-docs/stable/reference/api/pandas.melt.html)\", the one we want is \"[pivot](https://pandas.pydata.org/pandas-docs/stable/reference/api/pandas.pivot.html)\"."
   ]
  },
  {
   "cell_type": "code",
   "execution_count": null,
   "metadata": {},
   "outputs": [],
   "source": [
    "# DELETE\n",
    "df = bad_df.pivot(index=\"Date\", columns=\"What\", values=\"Value\")\n",
    "\n",
    "df.head()"
   ]
  },
  {
   "cell_type": "markdown",
   "metadata": {},
   "source": [
    "Do you feel a line graph coming up? Because I sure do!"
   ]
  },
  {
   "cell_type": "code",
   "execution_count": null,
   "metadata": {},
   "outputs": [],
   "source": [
    "water_df = bad_df[bad_df['What'] == 'Water']\n",
    "print(water_df)"
   ]
  },
  {
   "cell_type": "code",
   "execution_count": null,
   "metadata": {},
   "outputs": [],
   "source": [
    "df.plot()"
   ]
  },
  {
   "cell_type": "markdown",
   "metadata": {},
   "source": [
    "Can you spot the installation of my solar panels? And when I set up my pool? I'm guessing yes on the solar panels and no on the pool. If you had graphed the water separately you would have.\n",
    "\n",
    "Could you graph water, gas and electricity in the same graph with [different scale](https://stackabuse.com/matplotlib-plot-multiple-line-plots-same-and-different-scales/) for water?"
   ]
  },
  {
   "cell_type": "code",
   "execution_count": null,
   "metadata": {},
   "outputs": [],
   "source": [
    "# DELETE\n",
    "\n",
    "import matplotlib.pyplot as plt\n",
    "\n",
    "fig, ax = plt.subplots()\n",
    "\n",
    "df[[\"EL.Night\", \"EL.Day\", \"Gas\"]].plot(ax=ax)\n",
    "ax.tick_params(axis='y', labelcolor='red')\n",
    "ax2 = ax.twinx()\n",
    "df.Water.plot(ax=ax2, color='pink')\n",
    "ax2.tick_params(axis='y', labelcolor='pink')\n",
    "\n",
    "plt.show()\n"
   ]
  },
  {
   "cell_type": "markdown",
   "metadata": {},
   "source": [
    "The good news is that our date has now automatically been stored as a date in the index. That means we can simply select all measurements for 2021."
   ]
  },
  {
   "cell_type": "code",
   "execution_count": null,
   "metadata": {},
   "outputs": [],
   "source": [
    "df[df.index.year == 2021]"
   ]
  },
  {
   "cell_type": "markdown",
   "metadata": {},
   "source": [
    "And had we had more data, that would have made for some nice plots."
   ]
  },
  {
   "cell_type": "markdown",
   "metadata": {},
   "source": [
    "# Filling values\n",
    "\n",
    "In the AWS-course, a couple of different filling methods where used for NaN-values in time series:\n",
    "\n",
    "![](files/2023-10-05-14-29-27.png)\n",
    "\n",
    "Let's try them out! Forward and backward fill are [easy](https://pandas.pydata.org/pandas-docs/stable/reference/api/pandas.DataFrame.fillna.html). The differences are best observed when you only plot the gas usage."
   ]
  },
  {
   "cell_type": "code",
   "execution_count": null,
   "metadata": {},
   "outputs": [],
   "source": [
    "# DELETE\n",
    "\n",
    "df_forward = df.ffill()\n",
    "df_forward.Gas.plot()"
   ]
  },
  {
   "cell_type": "code",
   "execution_count": null,
   "metadata": {},
   "outputs": [],
   "source": [
    "# DELETE\n",
    "\n",
    "df_back = df.bfill()\n",
    "df_back.Gas.plot()"
   ]
  },
  {
   "cell_type": "markdown",
   "metadata": {},
   "source": [
    "Moving on to [moving average](https://pandas.pydata.org/pandas-docs/stable/reference/api/pandas.DataFrame.rolling.html)... In this case it's a bad filler by the way, can you say why?"
   ]
  },
  {
   "cell_type": "code",
   "execution_count": null,
   "metadata": {},
   "outputs": [],
   "source": [
    "#DELETE\n",
    "\n",
    "df_moving = df.fillna(df.rolling(5, min_periods=1).mean())\n",
    "df_moving.Gas.plot()"
   ]
  },
  {
   "cell_type": "markdown",
   "metadata": {},
   "source": [
    "And finally [interpolating](https://pandas.pydata.org/pandas-docs/stable/reference/api/pandas.DataFrame.interpolate.html). This requires you to know your data because you need to choose if a polynomial is required, and if so of what order. Let's compare a linear line vs a polynomial of the second and fifth order. (Interpolate three times and graph all the line on one graph.)"
   ]
  },
  {
   "cell_type": "code",
   "execution_count": null,
   "metadata": {},
   "outputs": [],
   "source": [
    "#DELETE\n",
    "\n",
    "df_inter_linear = df.interpolate(method=\"linear\")\n",
    "df_inter_poly_2 = df.interpolate(method=\"polynomial\", order=2)\n",
    "df_inter_poly_5 = df.interpolate(method=\"polynomial\", order=5)\n",
    "\n",
    "ax = df_inter_linear.Gas.plot()\n",
    "df_inter_poly_2.Gas.plot(ax=ax)\n",
    "df_inter_poly_5.Gas.plot(ax=ax)\n",
    "ax.legend([\"linear\", \"poly 2\", \"poly 5\"])"
   ]
  },
  {
   "cell_type": "markdown",
   "metadata": {},
   "source": [
    "Maybe zoom in on the years 2021-2023?"
   ]
  },
  {
   "cell_type": "code",
   "execution_count": null,
   "metadata": {},
   "outputs": [],
   "source": [
    "#DELETE\n",
    "\n",
    "ax = df_inter_linear[(2021 <= df.index.year) & (df.index.year <= 2023)].Gas.plot()\n",
    "df_inter_poly_2[(2021 <= df.index.year) & (df.index.year <= 2023)].Gas.plot(ax=ax)\n",
    "df_inter_poly_5[(2021 <= df.index.year) & (df.index.year <= 2023)].Gas.plot(ax=ax)\n",
    "ax.legend([\"linear\", \"poly 2\", \"poly 5\"])"
   ]
  },
  {
   "cell_type": "markdown",
   "metadata": {},
   "source": [
    "Which is better? Difficult to say. The real problem is there isn't enough data to distinguish between winter and summer. The gas is only used for heating the house and making hot water, so there should be a difference because we heat the house only in winter, but we use hot water throughout the year. The house is well insulated so I'm pretty pleased with the linearity of this line as it shows that we don't use a lot of extra gas in winter, meaning the cost of heating is low.\n",
    "\n",
    "But as we said, there simply isn't enough data to make this distinction. If there really was enough data we should have been able to see when I was on holiday (no warm water usage).\n",
    "\n",
    "So let's leave the dataset as a good example of the 4 methods of filling in blanks in time-series."
   ]
  }
 ],
 "metadata": {
  "kernelspec": {
   "display_name": "venv",
   "language": "python",
   "name": "python3"
  },
  "language_info": {
   "codemirror_mode": {
    "name": "ipython",
    "version": 3
   },
   "file_extension": ".py",
   "mimetype": "text/x-python",
   "name": "python",
   "nbconvert_exporter": "python",
   "pygments_lexer": "ipython3",
   "version": "3.12.5"
  },
  "orig_nbformat": 4
 },
 "nbformat": 4,
 "nbformat_minor": 2
}
