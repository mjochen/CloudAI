{
 "cells": [
  {
   "cell_type": "markdown",
   "metadata": {},
   "source": [
    "# Bike highways - revisit in PyCaret\n",
    "\n",
    "We already analyzed the bike-highway data a bit. It was a time series, so let's focus on the counting-point nearest to our school and see if we can predict it. And by \"we\" I mean PyCaret.\n",
    "\n",
    "Let's look at the [official PyCaret-documentation](https://pycaret.gitbook.io/docs/get-started/quickstart#time-series). We won't bother with the stock example this time but start right away with our own data."
   ]
  },
  {
   "cell_type": "code",
   "execution_count": 20,
   "metadata": {},
<<<<<<< HEAD
   "outputs": [],
=======
   "outputs": [
    {
     "data": {
      "text/html": [
       "<div>\n",
       "<style scoped>\n",
       "    .dataframe tbody tr th:only-of-type {\n",
       "        vertical-align: middle;\n",
       "    }\n",
       "\n",
       "    .dataframe tbody tr th {\n",
       "        vertical-align: top;\n",
       "    }\n",
       "\n",
       "    .dataframe thead th {\n",
       "        text-align: right;\n",
       "    }\n",
       "</style>\n",
       "<table border=\"1\" class=\"dataframe\">\n",
       "  <thead>\n",
       "    <tr style=\"text-align: right;\">\n",
       "      <th></th>\n",
       "      <th>Meetpunt surrogate key</th>\n",
       "      <th>Meetpunt locatie</th>\n",
       "      <th>Datum</th>\n",
       "      <th>Tijd</th>\n",
       "      <th>Aantal fietsers</th>\n",
       "      <th>Aantal fietsers van</th>\n",
       "      <th>Aantal fietsers naar</th>\n",
       "      <th>Meetpunt code</th>\n",
       "    </tr>\n",
       "  </thead>\n",
       "  <tbody>\n",
       "    <tr>\n",
       "      <th>0</th>\n",
       "      <td>89</td>\n",
       "      <td>Rauwelkoven 54</td>\n",
       "      <td>2020-02-14</td>\n",
       "      <td>00:00:00</td>\n",
       "      <td>0</td>\n",
       "      <td>0</td>\n",
       "      <td>0</td>\n",
       "      <td>FMN GV 21 Geel</td>\n",
       "    </tr>\n",
       "    <tr>\n",
       "      <th>1</th>\n",
       "      <td>89</td>\n",
       "      <td>Rauwelkoven 54</td>\n",
       "      <td>2020-02-14</td>\n",
       "      <td>01:00:00</td>\n",
       "      <td>0</td>\n",
       "      <td>0</td>\n",
       "      <td>0</td>\n",
       "      <td>FMN GV 21 Geel</td>\n",
       "    </tr>\n",
       "    <tr>\n",
       "      <th>2</th>\n",
       "      <td>89</td>\n",
       "      <td>Rauwelkoven 54</td>\n",
       "      <td>2020-02-14</td>\n",
       "      <td>02:00:00</td>\n",
       "      <td>0</td>\n",
       "      <td>0</td>\n",
       "      <td>0</td>\n",
       "      <td>FMN GV 21 Geel</td>\n",
       "    </tr>\n",
       "    <tr>\n",
       "      <th>3</th>\n",
       "      <td>89</td>\n",
       "      <td>Rauwelkoven 54</td>\n",
       "      <td>2020-02-14</td>\n",
       "      <td>03:00:00</td>\n",
       "      <td>2</td>\n",
       "      <td>2</td>\n",
       "      <td>0</td>\n",
       "      <td>FMN GV 21 Geel</td>\n",
       "    </tr>\n",
       "    <tr>\n",
       "      <th>4</th>\n",
       "      <td>89</td>\n",
       "      <td>Rauwelkoven 54</td>\n",
       "      <td>2020-02-14</td>\n",
       "      <td>04:00:00</td>\n",
       "      <td>0</td>\n",
       "      <td>0</td>\n",
       "      <td>0</td>\n",
       "      <td>FMN GV 21 Geel</td>\n",
       "    </tr>\n",
       "  </tbody>\n",
       "</table>\n",
       "</div>"
      ],
      "text/plain": [
       "   Meetpunt surrogate key Meetpunt locatie       Datum      Tijd  \\\n",
       "0                      89   Rauwelkoven 54  2020-02-14  00:00:00   \n",
       "1                      89   Rauwelkoven 54  2020-02-14  01:00:00   \n",
       "2                      89   Rauwelkoven 54  2020-02-14  02:00:00   \n",
       "3                      89   Rauwelkoven 54  2020-02-14  03:00:00   \n",
       "4                      89   Rauwelkoven 54  2020-02-14  04:00:00   \n",
       "\n",
       "   Aantal fietsers  Aantal fietsers van  Aantal fietsers naar   Meetpunt code  \n",
       "0                0                    0                     0  FMN GV 21 Geel  \n",
       "1                0                    0                     0  FMN GV 21 Geel  \n",
       "2                0                    0                     0  FMN GV 21 Geel  \n",
       "3                2                    2                     0  FMN GV 21 Geel  \n",
       "4                0                    0                     0  FMN GV 21 Geel  "
      ]
     },
     "execution_count": 20,
     "metadata": {},
     "output_type": "execute_result"
    }
   ],
>>>>>>> b8d9bc627889a7e236ec9ee3ba35f8d2f9a68542
   "source": [
    "import pandas as pd\n",
    "\n",
    "df = pd.read_csv('files/bike_counters_data/Measured data-nl-Geel_FMN GV 21 Geel.csv')\n",
    "df.head()"
   ]
  },
  {
   "cell_type": "markdown",
   "metadata": {},
   "source": [
    "Once again we need to do some cleaning. As we can read [here](https://pycaret.gitbook.io/docs/learn-pycaret/official-blog/time-series-forecasting-with-pycaret-regression) PyCaret can't deal with dates so we'll have to store all parts of the date and time separately. We're also only interested in \"Aantal fietsers\", not the \"van\" and \"naar\" columns. The \"Meetpunt surrogate key\", \"Meetpunt locatie\" and \"Meetpunt code\" is always the same, so you can drop these as well.\n",
    "\n",
    "And rename \"Aantal fietsers\" to \"nr_cyclists\". It'll be easier to work with."
   ]
  },
  {
   "cell_type": "code",
<<<<<<< HEAD
   "execution_count": null,
   "metadata": {},
   "outputs": [],
=======
   "execution_count": 21,
   "metadata": {},
   "outputs": [
    {
     "data": {
      "text/html": [
       "<div>\n",
       "<style scoped>\n",
       "    .dataframe tbody tr th:only-of-type {\n",
       "        vertical-align: middle;\n",
       "    }\n",
       "\n",
       "    .dataframe tbody tr th {\n",
       "        vertical-align: top;\n",
       "    }\n",
       "\n",
       "    .dataframe thead th {\n",
       "        text-align: right;\n",
       "    }\n",
       "</style>\n",
       "<table border=\"1\" class=\"dataframe\">\n",
       "  <thead>\n",
       "    <tr style=\"text-align: right;\">\n",
       "      <th></th>\n",
       "      <th>nr_cyclists</th>\n",
       "      <th>year</th>\n",
       "      <th>month</th>\n",
       "      <th>day</th>\n",
       "      <th>hour</th>\n",
       "    </tr>\n",
       "  </thead>\n",
       "  <tbody>\n",
       "    <tr>\n",
       "      <th>0</th>\n",
       "      <td>0</td>\n",
       "      <td>2020</td>\n",
       "      <td>2</td>\n",
       "      <td>14</td>\n",
       "      <td>0</td>\n",
       "    </tr>\n",
       "    <tr>\n",
       "      <th>1</th>\n",
       "      <td>0</td>\n",
       "      <td>2020</td>\n",
       "      <td>2</td>\n",
       "      <td>14</td>\n",
       "      <td>0</td>\n",
       "    </tr>\n",
       "    <tr>\n",
       "      <th>2</th>\n",
       "      <td>0</td>\n",
       "      <td>2020</td>\n",
       "      <td>2</td>\n",
       "      <td>14</td>\n",
       "      <td>0</td>\n",
       "    </tr>\n",
       "    <tr>\n",
       "      <th>3</th>\n",
       "      <td>2</td>\n",
       "      <td>2020</td>\n",
       "      <td>2</td>\n",
       "      <td>14</td>\n",
       "      <td>0</td>\n",
       "    </tr>\n",
       "    <tr>\n",
       "      <th>4</th>\n",
       "      <td>0</td>\n",
       "      <td>2020</td>\n",
       "      <td>2</td>\n",
       "      <td>14</td>\n",
       "      <td>0</td>\n",
       "    </tr>\n",
       "  </tbody>\n",
       "</table>\n",
       "</div>"
      ],
      "text/plain": [
       "   nr_cyclists  year  month  day  hour\n",
       "0            0  2020      2   14     0\n",
       "1            0  2020      2   14     0\n",
       "2            0  2020      2   14     0\n",
       "3            2  2020      2   14     0\n",
       "4            0  2020      2   14     0"
      ]
     },
     "execution_count": 21,
     "metadata": {},
     "output_type": "execute_result"
    }
   ],
>>>>>>> b8d9bc627889a7e236ec9ee3ba35f8d2f9a68542
   "source": [
    "# DELETE\n",
    "\n",
    "df['year'] = pd.DatetimeIndex(df['Datum']).year\n",
    "df['month'] = pd.DatetimeIndex(df['Datum']).month\n",
    "df['day'] = pd.DatetimeIndex(df['Datum']).day\n",
    "df['hour'] = pd.DatetimeIndex(df['Datum']).hour\n",
    "df = df.rename(columns={\"Aantal fietsers\": \"nr_cyclists\"})\n",
    "\n",
    "df = df.drop(columns=['Datum', 'Tijd', 'Meetpunt surrogate key', 'Meetpunt locatie','Aantal fietsers van','Aantal fietsers naar','Meetpunt code'])\n",
    "df.head()"
   ]
  },
  {
<<<<<<< HEAD
   "cell_type": "markdown",
   "metadata": {},
   "source": [
    "Finally, group this data so you're working with the daily totals, not the hourly data. Otherwise you'll be predicting way to many zeros."
   ]
  },
  {
   "cell_type": "code",
   "execution_count": null,
   "metadata": {},
   "outputs": [],
   "source": [
    "df_daily = df.drop(columns=[\"hour\"]).groupby([\"year\",\"month\",\"day\"], as_index=False).sum([\"nr_cyclists\"])\n",
    "df_daily.head()"
   ]
  },
  {
   "cell_type": "markdown",
   "metadata": {},
   "source": [
    "Next up is PyCaret! Some of these steps will take a while. If you [have better things to do](https://www.youtube.com/watch?v=nLJ8ILIE780), save the last variable you made (the setup or the best model) in a [pickle](https://www.geeksforgeeks.org/how-to-use-pickle-to-save-and-load-variables-in-python/) file.\n",
    "\n",
    "First, setup using the setup-function."
   ]
  },
  {
   "cell_type": "code",
   "execution_count": null,
   "metadata": {},
   "outputs": [],
   "source": [
    "# DELETE\n",
=======
   "cell_type": "code",
   "execution_count": 25,
   "metadata": {},
   "outputs": [
    {
     "data": {
      "text/html": [
       "<style type=\"text/css\">\n",
       "#T_1b7fa_row25_col1 {\n",
       "  background-color: lightgreen;\n",
       "}\n",
       "</style>\n",
       "<table id=\"T_1b7fa\">\n",
       "  <thead>\n",
       "    <tr>\n",
       "      <th class=\"blank level0\" >&nbsp;</th>\n",
       "      <th id=\"T_1b7fa_level0_col0\" class=\"col_heading level0 col0\" >Description</th>\n",
       "      <th id=\"T_1b7fa_level0_col1\" class=\"col_heading level0 col1\" >Value</th>\n",
       "    </tr>\n",
       "  </thead>\n",
       "  <tbody>\n",
       "    <tr>\n",
       "      <th id=\"T_1b7fa_level0_row0\" class=\"row_heading level0 row0\" >0</th>\n",
       "      <td id=\"T_1b7fa_row0_col0\" class=\"data row0 col0\" >session_id</td>\n",
       "      <td id=\"T_1b7fa_row0_col1\" class=\"data row0 col1\" >123</td>\n",
       "    </tr>\n",
       "    <tr>\n",
       "      <th id=\"T_1b7fa_level0_row1\" class=\"row_heading level0 row1\" >1</th>\n",
       "      <td id=\"T_1b7fa_row1_col0\" class=\"data row1 col0\" >Target</td>\n",
       "      <td id=\"T_1b7fa_row1_col1\" class=\"data row1 col1\" >nr_cyclists</td>\n",
       "    </tr>\n",
       "    <tr>\n",
       "      <th id=\"T_1b7fa_level0_row2\" class=\"row_heading level0 row2\" >2</th>\n",
       "      <td id=\"T_1b7fa_row2_col0\" class=\"data row2 col0\" >Approach</td>\n",
       "      <td id=\"T_1b7fa_row2_col1\" class=\"data row2 col1\" >Univariate</td>\n",
       "    </tr>\n",
       "    <tr>\n",
       "      <th id=\"T_1b7fa_level0_row3\" class=\"row_heading level0 row3\" >3</th>\n",
       "      <td id=\"T_1b7fa_row3_col0\" class=\"data row3 col0\" >Exogenous Variables</td>\n",
       "      <td id=\"T_1b7fa_row3_col1\" class=\"data row3 col1\" >Present</td>\n",
       "    </tr>\n",
       "    <tr>\n",
       "      <th id=\"T_1b7fa_level0_row4\" class=\"row_heading level0 row4\" >4</th>\n",
       "      <td id=\"T_1b7fa_row4_col0\" class=\"data row4 col0\" >Original data shape</td>\n",
       "      <td id=\"T_1b7fa_row4_col1\" class=\"data row4 col1\" >(29256, 5)</td>\n",
       "    </tr>\n",
       "    <tr>\n",
       "      <th id=\"T_1b7fa_level0_row5\" class=\"row_heading level0 row5\" >5</th>\n",
       "      <td id=\"T_1b7fa_row5_col0\" class=\"data row5 col0\" >Transformed data shape</td>\n",
       "      <td id=\"T_1b7fa_row5_col1\" class=\"data row5 col1\" >(29256, 5)</td>\n",
       "    </tr>\n",
       "    <tr>\n",
       "      <th id=\"T_1b7fa_level0_row6\" class=\"row_heading level0 row6\" >6</th>\n",
       "      <td id=\"T_1b7fa_row6_col0\" class=\"data row6 col0\" >Transformed train set shape</td>\n",
       "      <td id=\"T_1b7fa_row6_col1\" class=\"data row6 col1\" >(29253, 5)</td>\n",
       "    </tr>\n",
       "    <tr>\n",
       "      <th id=\"T_1b7fa_level0_row7\" class=\"row_heading level0 row7\" >7</th>\n",
       "      <td id=\"T_1b7fa_row7_col0\" class=\"data row7 col0\" >Transformed test set shape</td>\n",
       "      <td id=\"T_1b7fa_row7_col1\" class=\"data row7 col1\" >(3, 5)</td>\n",
       "    </tr>\n",
       "    <tr>\n",
       "      <th id=\"T_1b7fa_level0_row8\" class=\"row_heading level0 row8\" >8</th>\n",
       "      <td id=\"T_1b7fa_row8_col0\" class=\"data row8 col0\" >Rows with missing values</td>\n",
       "      <td id=\"T_1b7fa_row8_col1\" class=\"data row8 col1\" >0.0%</td>\n",
       "    </tr>\n",
       "    <tr>\n",
       "      <th id=\"T_1b7fa_level0_row9\" class=\"row_heading level0 row9\" >9</th>\n",
       "      <td id=\"T_1b7fa_row9_col0\" class=\"data row9 col0\" >Fold Generator</td>\n",
       "      <td id=\"T_1b7fa_row9_col1\" class=\"data row9 col1\" >ExpandingWindowSplitter</td>\n",
       "    </tr>\n",
       "    <tr>\n",
       "      <th id=\"T_1b7fa_level0_row10\" class=\"row_heading level0 row10\" >10</th>\n",
       "      <td id=\"T_1b7fa_row10_col0\" class=\"data row10 col0\" >Fold Number</td>\n",
       "      <td id=\"T_1b7fa_row10_col1\" class=\"data row10 col1\" >5</td>\n",
       "    </tr>\n",
       "    <tr>\n",
       "      <th id=\"T_1b7fa_level0_row11\" class=\"row_heading level0 row11\" >11</th>\n",
       "      <td id=\"T_1b7fa_row11_col0\" class=\"data row11 col0\" >Enforce Prediction Interval</td>\n",
       "      <td id=\"T_1b7fa_row11_col1\" class=\"data row11 col1\" >False</td>\n",
       "    </tr>\n",
       "    <tr>\n",
       "      <th id=\"T_1b7fa_level0_row12\" class=\"row_heading level0 row12\" >12</th>\n",
       "      <td id=\"T_1b7fa_row12_col0\" class=\"data row12 col0\" >Splits used for hyperparameters</td>\n",
       "      <td id=\"T_1b7fa_row12_col1\" class=\"data row12 col1\" >all</td>\n",
       "    </tr>\n",
       "    <tr>\n",
       "      <th id=\"T_1b7fa_level0_row13\" class=\"row_heading level0 row13\" >13</th>\n",
       "      <td id=\"T_1b7fa_row13_col0\" class=\"data row13 col0\" >User Defined Seasonal Period(s)</td>\n",
       "      <td id=\"T_1b7fa_row13_col1\" class=\"data row13 col1\" >None</td>\n",
       "    </tr>\n",
       "    <tr>\n",
       "      <th id=\"T_1b7fa_level0_row14\" class=\"row_heading level0 row14\" >14</th>\n",
       "      <td id=\"T_1b7fa_row14_col0\" class=\"data row14 col0\" >Ignore Seasonality Test</td>\n",
       "      <td id=\"T_1b7fa_row14_col1\" class=\"data row14 col1\" >False</td>\n",
       "    </tr>\n",
       "    <tr>\n",
       "      <th id=\"T_1b7fa_level0_row15\" class=\"row_heading level0 row15\" >15</th>\n",
       "      <td id=\"T_1b7fa_row15_col0\" class=\"data row15 col0\" >Seasonality Detection Algo</td>\n",
       "      <td id=\"T_1b7fa_row15_col1\" class=\"data row15 col1\" >auto</td>\n",
       "    </tr>\n",
       "    <tr>\n",
       "      <th id=\"T_1b7fa_level0_row16\" class=\"row_heading level0 row16\" >16</th>\n",
       "      <td id=\"T_1b7fa_row16_col0\" class=\"data row16 col0\" >Max Period to Consider</td>\n",
       "      <td id=\"T_1b7fa_row16_col1\" class=\"data row16 col1\" >60</td>\n",
       "    </tr>\n",
       "    <tr>\n",
       "      <th id=\"T_1b7fa_level0_row17\" class=\"row_heading level0 row17\" >17</th>\n",
       "      <td id=\"T_1b7fa_row17_col0\" class=\"data row17 col0\" >Seasonal Period(s) Tested</td>\n",
       "      <td id=\"T_1b7fa_row17_col1\" class=\"data row17 col1\" >[24, 48, 8, 32, 23, 16, 47, 9, 25, 49, 15, 56, 40, 33, 20, 39]</td>\n",
       "    </tr>\n",
       "    <tr>\n",
       "      <th id=\"T_1b7fa_level0_row18\" class=\"row_heading level0 row18\" >18</th>\n",
       "      <td id=\"T_1b7fa_row18_col0\" class=\"data row18 col0\" >Significant Seasonal Period(s)</td>\n",
       "      <td id=\"T_1b7fa_row18_col1\" class=\"data row18 col1\" >[24, 48, 8, 32, 23, 16, 47, 9, 25, 49, 15, 56, 40, 33, 20, 39]</td>\n",
       "    </tr>\n",
       "    <tr>\n",
       "      <th id=\"T_1b7fa_level0_row19\" class=\"row_heading level0 row19\" >19</th>\n",
       "      <td id=\"T_1b7fa_row19_col0\" class=\"data row19 col0\" >Significant Seasonal Period(s) without Harmonics</td>\n",
       "      <td id=\"T_1b7fa_row19_col1\" class=\"data row19 col1\" >[48, 56, 32, 23, 47, 9, 25, 49, 15, 40, 33, 39]</td>\n",
       "    </tr>\n",
       "    <tr>\n",
       "      <th id=\"T_1b7fa_level0_row20\" class=\"row_heading level0 row20\" >20</th>\n",
       "      <td id=\"T_1b7fa_row20_col0\" class=\"data row20 col0\" >Remove Harmonics</td>\n",
       "      <td id=\"T_1b7fa_row20_col1\" class=\"data row20 col1\" >False</td>\n",
       "    </tr>\n",
       "    <tr>\n",
       "      <th id=\"T_1b7fa_level0_row21\" class=\"row_heading level0 row21\" >21</th>\n",
       "      <td id=\"T_1b7fa_row21_col0\" class=\"data row21 col0\" >Harmonics Order Method</td>\n",
       "      <td id=\"T_1b7fa_row21_col1\" class=\"data row21 col1\" >harmonic_max</td>\n",
       "    </tr>\n",
       "    <tr>\n",
       "      <th id=\"T_1b7fa_level0_row22\" class=\"row_heading level0 row22\" >22</th>\n",
       "      <td id=\"T_1b7fa_row22_col0\" class=\"data row22 col0\" >Num Seasonalities to Use</td>\n",
       "      <td id=\"T_1b7fa_row22_col1\" class=\"data row22 col1\" >1</td>\n",
       "    </tr>\n",
       "    <tr>\n",
       "      <th id=\"T_1b7fa_level0_row23\" class=\"row_heading level0 row23\" >23</th>\n",
       "      <td id=\"T_1b7fa_row23_col0\" class=\"data row23 col0\" >All Seasonalities to Use</td>\n",
       "      <td id=\"T_1b7fa_row23_col1\" class=\"data row23 col1\" >[24]</td>\n",
       "    </tr>\n",
       "    <tr>\n",
       "      <th id=\"T_1b7fa_level0_row24\" class=\"row_heading level0 row24\" >24</th>\n",
       "      <td id=\"T_1b7fa_row24_col0\" class=\"data row24 col0\" >Primary Seasonality</td>\n",
       "      <td id=\"T_1b7fa_row24_col1\" class=\"data row24 col1\" >24</td>\n",
       "    </tr>\n",
       "    <tr>\n",
       "      <th id=\"T_1b7fa_level0_row25\" class=\"row_heading level0 row25\" >25</th>\n",
       "      <td id=\"T_1b7fa_row25_col0\" class=\"data row25 col0\" >Seasonality Present</td>\n",
       "      <td id=\"T_1b7fa_row25_col1\" class=\"data row25 col1\" >True</td>\n",
       "    </tr>\n",
       "    <tr>\n",
       "      <th id=\"T_1b7fa_level0_row26\" class=\"row_heading level0 row26\" >26</th>\n",
       "      <td id=\"T_1b7fa_row26_col0\" class=\"data row26 col0\" >Seasonality Type</td>\n",
       "      <td id=\"T_1b7fa_row26_col1\" class=\"data row26 col1\" >add</td>\n",
       "    </tr>\n",
       "    <tr>\n",
       "      <th id=\"T_1b7fa_level0_row27\" class=\"row_heading level0 row27\" >27</th>\n",
       "      <td id=\"T_1b7fa_row27_col0\" class=\"data row27 col0\" >Target Strictly Positive</td>\n",
       "      <td id=\"T_1b7fa_row27_col1\" class=\"data row27 col1\" >False</td>\n",
       "    </tr>\n",
       "    <tr>\n",
       "      <th id=\"T_1b7fa_level0_row28\" class=\"row_heading level0 row28\" >28</th>\n",
       "      <td id=\"T_1b7fa_row28_col0\" class=\"data row28 col0\" >Target White Noise</td>\n",
       "      <td id=\"T_1b7fa_row28_col1\" class=\"data row28 col1\" >No</td>\n",
       "    </tr>\n",
       "    <tr>\n",
       "      <th id=\"T_1b7fa_level0_row29\" class=\"row_heading level0 row29\" >29</th>\n",
       "      <td id=\"T_1b7fa_row29_col0\" class=\"data row29 col0\" >Recommended d</td>\n",
       "      <td id=\"T_1b7fa_row29_col1\" class=\"data row29 col1\" >1</td>\n",
       "    </tr>\n",
       "    <tr>\n",
       "      <th id=\"T_1b7fa_level0_row30\" class=\"row_heading level0 row30\" >30</th>\n",
       "      <td id=\"T_1b7fa_row30_col0\" class=\"data row30 col0\" >Recommended Seasonal D</td>\n",
       "      <td id=\"T_1b7fa_row30_col1\" class=\"data row30 col1\" >0</td>\n",
       "    </tr>\n",
       "    <tr>\n",
       "      <th id=\"T_1b7fa_level0_row31\" class=\"row_heading level0 row31\" >31</th>\n",
       "      <td id=\"T_1b7fa_row31_col0\" class=\"data row31 col0\" >Preprocess</td>\n",
       "      <td id=\"T_1b7fa_row31_col1\" class=\"data row31 col1\" >False</td>\n",
       "    </tr>\n",
       "    <tr>\n",
       "      <th id=\"T_1b7fa_level0_row32\" class=\"row_heading level0 row32\" >32</th>\n",
       "      <td id=\"T_1b7fa_row32_col0\" class=\"data row32 col0\" >CPU Jobs</td>\n",
       "      <td id=\"T_1b7fa_row32_col1\" class=\"data row32 col1\" >-1</td>\n",
       "    </tr>\n",
       "    <tr>\n",
       "      <th id=\"T_1b7fa_level0_row33\" class=\"row_heading level0 row33\" >33</th>\n",
       "      <td id=\"T_1b7fa_row33_col0\" class=\"data row33 col0\" >Use GPU</td>\n",
       "      <td id=\"T_1b7fa_row33_col1\" class=\"data row33 col1\" >False</td>\n",
       "    </tr>\n",
       "    <tr>\n",
       "      <th id=\"T_1b7fa_level0_row34\" class=\"row_heading level0 row34\" >34</th>\n",
       "      <td id=\"T_1b7fa_row34_col0\" class=\"data row34 col0\" >Log Experiment</td>\n",
       "      <td id=\"T_1b7fa_row34_col1\" class=\"data row34 col1\" >False</td>\n",
       "    </tr>\n",
       "    <tr>\n",
       "      <th id=\"T_1b7fa_level0_row35\" class=\"row_heading level0 row35\" >35</th>\n",
       "      <td id=\"T_1b7fa_row35_col0\" class=\"data row35 col0\" >Experiment Name</td>\n",
       "      <td id=\"T_1b7fa_row35_col1\" class=\"data row35 col1\" >ts-default-name</td>\n",
       "    </tr>\n",
       "    <tr>\n",
       "      <th id=\"T_1b7fa_level0_row36\" class=\"row_heading level0 row36\" >36</th>\n",
       "      <td id=\"T_1b7fa_row36_col0\" class=\"data row36 col0\" >USI</td>\n",
       "      <td id=\"T_1b7fa_row36_col1\" class=\"data row36 col1\" >7dfa</td>\n",
       "    </tr>\n",
       "  </tbody>\n",
       "</table>\n"
      ],
      "text/plain": [
       "<pandas.io.formats.style.Styler at 0x1235dbb88b0>"
      ]
     },
     "metadata": {},
     "output_type": "display_data"
    }
   ],
   "source": [
>>>>>>> b8d9bc627889a7e236ec9ee3ba35f8d2f9a68542
    "from pycaret.time_series import *\n",
    "\n",
    "s = setup(df, fh = 3, fold = 5, session_id = 123, target=\"nr_cyclists\")"
   ]
  },
  {
<<<<<<< HEAD
   "cell_type": "markdown",
   "metadata": {},
<<<<<<< HEAD
=======
=======
   "cell_type": "code",
   "execution_count": 26,
   "metadata": {},
>>>>>>> b8d9bc627889a7e236ec9ee3ba35f8d2f9a68542
   "outputs": [
    {
     "data": {
      "text/html": [
       "<div>\n",
       "<style scoped>\n",
       "    .dataframe tbody tr th:only-of-type {\n",
       "        vertical-align: middle;\n",
       "    }\n",
       "\n",
       "    .dataframe tbody tr th {\n",
       "        vertical-align: top;\n",
       "    }\n",
       "\n",
       "    .dataframe thead th {\n",
       "        text-align: right;\n",
       "    }\n",
       "</style>\n",
       "<table border=\"1\" class=\"dataframe\">\n",
       "  <thead>\n",
       "    <tr style=\"text-align: right;\">\n",
       "      <th></th>\n",
       "      <th></th>\n",
       "      <th></th>\n",
       "    </tr>\n",
       "    <tr>\n",
       "      <th></th>\n",
       "      <th></th>\n",
       "      <th></th>\n",
       "    </tr>\n",
       "  </thead>\n",
       "  <tbody>\n",
       "    <tr>\n",
       "      <th>Initiated</th>\n",
       "      <td>. . . . . . . . . . . . . . . . . .</td>\n",
       "      <td>10:37:47</td>\n",
       "    </tr>\n",
       "    <tr>\n",
       "      <th>Status</th>\n",
       "      <td>. . . . . . . . . . . . . . . . . .</td>\n",
       "      <td>Fitting 5 Folds</td>\n",
       "    </tr>\n",
       "    <tr>\n",
       "      <th>Estimator</th>\n",
       "      <td>. . . . . . . . . . . . . . . . . .</td>\n",
       "      <td>Auto ARIMA</td>\n",
       "    </tr>\n",
       "  </tbody>\n",
       "</table>\n",
       "</div>"
      ],
      "text/plain": [
       "                                                               \n",
       "                                                               \n",
       "Initiated  . . . . . . . . . . . . . . . . . .         10:37:47\n",
       "Status     . . . . . . . . . . . . . . . . . .  Fitting 5 Folds\n",
       "Estimator  . . . . . . . . . . . . . . . . . .       Auto ARIMA"
      ]
     },
     "metadata": {},
     "output_type": "display_data"
    },
    {
     "data": {
      "text/html": [
       "<style type=\"text/css\">\n",
       "#T_928c9 th {\n",
       "  text-align: left;\n",
       "}\n",
       "#T_928c9_row0_col0, #T_928c9_row0_col1, #T_928c9_row0_col2, #T_928c9_row0_col3, #T_928c9_row0_col4, #T_928c9_row0_col5, #T_928c9_row0_col6, #T_928c9_row0_col7, #T_928c9_row0_col8, #T_928c9_row1_col0, #T_928c9_row1_col1, #T_928c9_row1_col2, #T_928c9_row1_col3, #T_928c9_row1_col4, #T_928c9_row1_col5, #T_928c9_row1_col6, #T_928c9_row1_col7, #T_928c9_row1_col8, #T_928c9_row2_col0, #T_928c9_row2_col1, #T_928c9_row2_col2, #T_928c9_row2_col3, #T_928c9_row2_col4, #T_928c9_row2_col5, #T_928c9_row2_col6, #T_928c9_row2_col7, #T_928c9_row2_col8, #T_928c9_row3_col0, #T_928c9_row3_col1, #T_928c9_row3_col2, #T_928c9_row3_col3, #T_928c9_row3_col4, #T_928c9_row3_col5, #T_928c9_row3_col6, #T_928c9_row3_col7, #T_928c9_row3_col8 {\n",
       "  text-align: left;\n",
       "}\n",
       "</style>\n",
       "<table id=\"T_928c9\">\n",
       "  <thead>\n",
       "    <tr>\n",
       "      <th class=\"blank level0\" >&nbsp;</th>\n",
       "      <th id=\"T_928c9_level0_col0\" class=\"col_heading level0 col0\" >Model</th>\n",
       "      <th id=\"T_928c9_level0_col1\" class=\"col_heading level0 col1\" >MASE</th>\n",
       "      <th id=\"T_928c9_level0_col2\" class=\"col_heading level0 col2\" >RMSSE</th>\n",
       "      <th id=\"T_928c9_level0_col3\" class=\"col_heading level0 col3\" >MAE</th>\n",
       "      <th id=\"T_928c9_level0_col4\" class=\"col_heading level0 col4\" >RMSE</th>\n",
       "      <th id=\"T_928c9_level0_col5\" class=\"col_heading level0 col5\" >MAPE</th>\n",
       "      <th id=\"T_928c9_level0_col6\" class=\"col_heading level0 col6\" >SMAPE</th>\n",
       "      <th id=\"T_928c9_level0_col7\" class=\"col_heading level0 col7\" >R2</th>\n",
       "      <th id=\"T_928c9_level0_col8\" class=\"col_heading level0 col8\" >TT (Sec)</th>\n",
       "    </tr>\n",
       "  </thead>\n",
       "  <tbody>\n",
       "    <tr>\n",
       "      <th id=\"T_928c9_level0_row0\" class=\"row_heading level0 row0\" >naive</th>\n",
       "      <td id=\"T_928c9_row0_col0\" class=\"data row0 col0\" >Naive Forecaster</td>\n",
       "      <td id=\"T_928c9_row0_col1\" class=\"data row0 col1\" >0.0000</td>\n",
       "      <td id=\"T_928c9_row0_col2\" class=\"data row0 col2\" >0.0000</td>\n",
       "      <td id=\"T_928c9_row0_col3\" class=\"data row0 col3\" >0.0000</td>\n",
       "      <td id=\"T_928c9_row0_col4\" class=\"data row0 col4\" >0.0000</td>\n",
       "      <td id=\"T_928c9_row0_col5\" class=\"data row0 col5\" >0.0000</td>\n",
       "      <td id=\"T_928c9_row0_col6\" class=\"data row0 col6\" >0.0000</td>\n",
       "      <td id=\"T_928c9_row0_col7\" class=\"data row0 col7\" >1.0000</td>\n",
       "      <td id=\"T_928c9_row0_col8\" class=\"data row0 col8\" >1.5320</td>\n",
       "    </tr>\n",
       "    <tr>\n",
       "      <th id=\"T_928c9_level0_row1\" class=\"row_heading level0 row1\" >grand_means</th>\n",
       "      <td id=\"T_928c9_row1_col0\" class=\"data row1 col0\" >Grand Means Forecaster</td>\n",
       "      <td id=\"T_928c9_row1_col1\" class=\"data row1 col1\" >1.9700</td>\n",
       "      <td id=\"T_928c9_row1_col2\" class=\"data row1 col2\" >0.9504</td>\n",
       "      <td id=\"T_928c9_row1_col3\" class=\"data row1 col3\" >35.6621</td>\n",
       "      <td id=\"T_928c9_row1_col4\" class=\"data row1 col4\" >35.6621</td>\n",
       "      <td id=\"T_928c9_row1_col5\" class=\"data row1 col5\" >160607599980852256.0000</td>\n",
       "      <td id=\"T_928c9_row1_col6\" class=\"data row1 col6\" >2.0000</td>\n",
       "      <td id=\"T_928c9_row1_col7\" class=\"data row1 col7\" >0.0000</td>\n",
       "      <td id=\"T_928c9_row1_col8\" class=\"data row1 col8\" >1.1780</td>\n",
       "    </tr>\n",
       "    <tr>\n",
       "      <th id=\"T_928c9_level0_row2\" class=\"row_heading level0 row2\" >arima</th>\n",
       "      <td id=\"T_928c9_row2_col0\" class=\"data row2 col0\" >ARIMA</td>\n",
       "      <td id=\"T_928c9_row2_col1\" class=\"data row2 col1\" >6.1903</td>\n",
       "      <td id=\"T_928c9_row2_col2\" class=\"data row2 col2\" >3.1763</td>\n",
       "      <td id=\"T_928c9_row2_col3\" class=\"data row2 col3\" >112.0242</td>\n",
       "      <td id=\"T_928c9_row2_col4\" class=\"data row2 col4\" >119.1153</td>\n",
       "      <td id=\"T_928c9_row2_col5\" class=\"data row2 col5\" >504512223075661696.0000</td>\n",
       "      <td id=\"T_928c9_row2_col6\" class=\"data row2 col6\" >2.0000</td>\n",
       "      <td id=\"T_928c9_row2_col7\" class=\"data row2 col7\" >0.0000</td>\n",
       "      <td id=\"T_928c9_row2_col8\" class=\"data row2 col8\" >6.7940</td>\n",
       "    </tr>\n",
       "    <tr>\n",
       "      <th id=\"T_928c9_level0_row3\" class=\"row_heading level0 row3\" >snaive</th>\n",
       "      <td id=\"T_928c9_row3_col0\" class=\"data row3 col0\" >Seasonal Naive Forecaster</td>\n",
       "      <td id=\"T_928c9_row3_col1\" class=\"data row3 col1\" >7.9779</td>\n",
       "      <td id=\"T_928c9_row3_col2\" class=\"data row3 col2\" >3.9975</td>\n",
       "      <td id=\"T_928c9_row3_col3\" class=\"data row3 col3\" >144.4000</td>\n",
       "      <td id=\"T_928c9_row3_col4\" class=\"data row3 col4\" >149.9529</td>\n",
       "      <td id=\"T_928c9_row3_col5\" class=\"data row3 col5\" >650319786192299520.0000</td>\n",
       "      <td id=\"T_928c9_row3_col6\" class=\"data row3 col6\" >2.0000</td>\n",
       "      <td id=\"T_928c9_row3_col7\" class=\"data row3 col7\" >0.0000</td>\n",
       "      <td id=\"T_928c9_row3_col8\" class=\"data row3 col8\" >1.3420</td>\n",
       "    </tr>\n",
       "  </tbody>\n",
       "</table>\n"
      ],
      "text/plain": [
       "<pandas.io.formats.style.Styler at 0x12332ee6200>"
      ]
     },
     "metadata": {},
     "output_type": "display_data"
    },
    {
     "data": {
      "application/vnd.jupyter.widget-view+json": {
       "model_id": "72a17b95492b425199f36490fb663fa8",
       "version_major": 2,
       "version_minor": 0
      },
      "text/plain": [
       "Processing:   0%|          | 0/97 [00:00<?, ?it/s]"
      ]
     },
     "metadata": {},
     "output_type": "display_data"
    },
    {
     "ename": "KeyboardInterrupt",
     "evalue": "",
     "output_type": "error",
     "traceback": [
      "\u001b[1;31m---------------------------------------------------------------------------\u001b[0m",
      "\u001b[1;31mKeyboardInterrupt\u001b[0m                         Traceback (most recent call last)",
      "\u001b[1;32mc:\\Scripts\\course material\\Exercises_solved\\4.2 - Bike highways in PyCaret.ipynb Cell 6\u001b[0m line \u001b[0;36m1\n\u001b[1;32m----> <a href='vscode-notebook-cell:/c%3A/Scripts/course%20material/Exercises_solved/4.2%20-%20Bike%20highways%20in%20PyCaret.ipynb#X11sZmlsZQ%3D%3D?line=0'>1</a>\u001b[0m best \u001b[39m=\u001b[39m compare_models(sort \u001b[39m=\u001b[39;49m \u001b[39m'\u001b[39;49m\u001b[39mMAE\u001b[39;49m\u001b[39m'\u001b[39;49m)\n",
      "File \u001b[1;32mc:\\Scripts\\course material\\venv_caret\\lib\\site-packages\\pycaret\\utils\\generic.py:965\u001b[0m, in \u001b[0;36mcheck_if_global_is_not_none.<locals>.decorator.<locals>.wrapper\u001b[1;34m(*args, **kwargs)\u001b[0m\n\u001b[0;32m    963\u001b[0m     \u001b[39mif\u001b[39;00m globals_d[name] \u001b[39mis\u001b[39;00m \u001b[39mNone\u001b[39;00m:\n\u001b[0;32m    964\u001b[0m         \u001b[39mraise\u001b[39;00m \u001b[39mValueError\u001b[39;00m(message)\n\u001b[1;32m--> 965\u001b[0m \u001b[39mreturn\u001b[39;00m func(\u001b[39m*\u001b[39margs, \u001b[39m*\u001b[39m\u001b[39m*\u001b[39mkwargs)\n",
      "File \u001b[1;32mc:\\Scripts\\course material\\venv_caret\\lib\\site-packages\\pycaret\\time_series\\forecasting\\functional.py:757\u001b[0m, in \u001b[0;36mcompare_models\u001b[1;34m(include, exclude, fold, round, cross_validation, sort, n_select, budget_time, turbo, errors, fit_kwargs, engine, verbose, parallel)\u001b[0m\n\u001b[0;32m    637\u001b[0m \u001b[39m@check_if_global_is_not_none\u001b[39m(\u001b[39mglobals\u001b[39m(), _CURRENT_EXPERIMENT_DECORATOR_DICT)\n\u001b[0;32m    638\u001b[0m \u001b[39mdef\u001b[39;00m \u001b[39mcompare_models\u001b[39m(\n\u001b[0;32m    639\u001b[0m     include: Optional[List[Union[\u001b[39mstr\u001b[39m, Any]]] \u001b[39m=\u001b[39m \u001b[39mNone\u001b[39;00m,\n\u001b[1;32m   (...)\u001b[0m\n\u001b[0;32m    652\u001b[0m     parallel: Optional[ParallelBackend] \u001b[39m=\u001b[39m \u001b[39mNone\u001b[39;00m,\n\u001b[0;32m    653\u001b[0m ):\n\u001b[0;32m    654\u001b[0m \u001b[39m    \u001b[39m\u001b[39m\"\"\"\u001b[39;00m\n\u001b[0;32m    655\u001b[0m \u001b[39m    This function trains and evaluates performance of all estimators available in the\u001b[39;00m\n\u001b[0;32m    656\u001b[0m \u001b[39m    model library using cross validation. The output of this function is a score grid\u001b[39;00m\n\u001b[1;32m   (...)\u001b[0m\n\u001b[0;32m    754\u001b[0m \n\u001b[0;32m    755\u001b[0m \u001b[39m    \"\"\"\u001b[39;00m\n\u001b[1;32m--> 757\u001b[0m     \u001b[39mreturn\u001b[39;00m _CURRENT_EXPERIMENT\u001b[39m.\u001b[39;49mcompare_models(\n\u001b[0;32m    758\u001b[0m         include\u001b[39m=\u001b[39;49minclude,\n\u001b[0;32m    759\u001b[0m         exclude\u001b[39m=\u001b[39;49mexclude,\n\u001b[0;32m    760\u001b[0m         fold\u001b[39m=\u001b[39;49mfold,\n\u001b[0;32m    761\u001b[0m         \u001b[39mround\u001b[39;49m\u001b[39m=\u001b[39;49m\u001b[39mround\u001b[39;49m,\n\u001b[0;32m    762\u001b[0m         cross_validation\u001b[39m=\u001b[39;49mcross_validation,\n\u001b[0;32m    763\u001b[0m         sort\u001b[39m=\u001b[39;49msort,\n\u001b[0;32m    764\u001b[0m         n_select\u001b[39m=\u001b[39;49mn_select,\n\u001b[0;32m    765\u001b[0m         budget_time\u001b[39m=\u001b[39;49mbudget_time,\n\u001b[0;32m    766\u001b[0m         turbo\u001b[39m=\u001b[39;49mturbo,\n\u001b[0;32m    767\u001b[0m         errors\u001b[39m=\u001b[39;49merrors,\n\u001b[0;32m    768\u001b[0m         fit_kwargs\u001b[39m=\u001b[39;49mfit_kwargs,\n\u001b[0;32m    769\u001b[0m         engine\u001b[39m=\u001b[39;49mengine,\n\u001b[0;32m    770\u001b[0m         verbose\u001b[39m=\u001b[39;49mverbose,\n\u001b[0;32m    771\u001b[0m         parallel\u001b[39m=\u001b[39;49mparallel,\n\u001b[0;32m    772\u001b[0m     )\n",
      "File \u001b[1;32mc:\\Scripts\\course material\\venv_caret\\lib\\site-packages\\pycaret\\time_series\\forecasting\\oop.py:2315\u001b[0m, in \u001b[0;36mTSForecastingExperiment.compare_models\u001b[1;34m(self, include, exclude, fold, round, cross_validation, sort, n_select, budget_time, turbo, errors, fit_kwargs, experiment_custom_tags, engine, verbose, parallel)\u001b[0m\n\u001b[0;32m   2312\u001b[0m         \u001b[39mself\u001b[39m\u001b[39m.\u001b[39m_set_engine(estimator\u001b[39m=\u001b[39mestimator, engine\u001b[39m=\u001b[39meng, severity\u001b[39m=\u001b[39m\u001b[39m\"\u001b[39m\u001b[39merror\u001b[39m\u001b[39m\"\u001b[39m)\n\u001b[0;32m   2314\u001b[0m \u001b[39mtry\u001b[39;00m:\n\u001b[1;32m-> 2315\u001b[0m     return_values \u001b[39m=\u001b[39m \u001b[39msuper\u001b[39;49m()\u001b[39m.\u001b[39;49mcompare_models(\n\u001b[0;32m   2316\u001b[0m         include\u001b[39m=\u001b[39;49minclude,\n\u001b[0;32m   2317\u001b[0m         exclude\u001b[39m=\u001b[39;49mexclude,\n\u001b[0;32m   2318\u001b[0m         fold\u001b[39m=\u001b[39;49mfold,\n\u001b[0;32m   2319\u001b[0m         \u001b[39mround\u001b[39;49m\u001b[39m=\u001b[39;49m\u001b[39mround\u001b[39;49m,\n\u001b[0;32m   2320\u001b[0m         cross_validation\u001b[39m=\u001b[39;49mcross_validation,\n\u001b[0;32m   2321\u001b[0m         sort\u001b[39m=\u001b[39;49msort,\n\u001b[0;32m   2322\u001b[0m         n_select\u001b[39m=\u001b[39;49mn_select,\n\u001b[0;32m   2323\u001b[0m         budget_time\u001b[39m=\u001b[39;49mbudget_time,\n\u001b[0;32m   2324\u001b[0m         turbo\u001b[39m=\u001b[39;49mturbo,\n\u001b[0;32m   2325\u001b[0m         errors\u001b[39m=\u001b[39;49merrors,\n\u001b[0;32m   2326\u001b[0m         fit_kwargs\u001b[39m=\u001b[39;49mfit_kwargs,\n\u001b[0;32m   2327\u001b[0m         experiment_custom_tags\u001b[39m=\u001b[39;49mexperiment_custom_tags,\n\u001b[0;32m   2328\u001b[0m         verbose\u001b[39m=\u001b[39;49mverbose,\n\u001b[0;32m   2329\u001b[0m         parallel\u001b[39m=\u001b[39;49mparallel,\n\u001b[0;32m   2330\u001b[0m         caller_params\u001b[39m=\u001b[39;49mcaller_params,\n\u001b[0;32m   2331\u001b[0m     )\n\u001b[0;32m   2332\u001b[0m \u001b[39mfinally\u001b[39;00m:\n\u001b[0;32m   2333\u001b[0m     \u001b[39mif\u001b[39;00m engine \u001b[39mis\u001b[39;00m \u001b[39mnot\u001b[39;00m \u001b[39mNone\u001b[39;00m:\n\u001b[0;32m   2334\u001b[0m         \u001b[39m# Reset the models back to the default engines\u001b[39;00m\n",
      "File \u001b[1;32mc:\\Scripts\\course material\\venv_caret\\lib\\site-packages\\pycaret\\internal\\pycaret_experiment\\supervised_experiment.py:796\u001b[0m, in \u001b[0;36m_SupervisedExperiment.compare_models\u001b[1;34m(self, include, exclude, fold, round, cross_validation, sort, n_select, budget_time, turbo, errors, fit_kwargs, groups, experiment_custom_tags, probability_threshold, verbose, parallel, caller_params)\u001b[0m\n\u001b[0;32m    794\u001b[0m \u001b[39melse\u001b[39;00m:\n\u001b[0;32m    795\u001b[0m     \u001b[39mtry\u001b[39;00m:\n\u001b[1;32m--> 796\u001b[0m         model, model_fit_time \u001b[39m=\u001b[39m \u001b[39mself\u001b[39m\u001b[39m.\u001b[39m_create_model(\u001b[39m*\u001b[39m\u001b[39m*\u001b[39mcreate_model_args)\n\u001b[0;32m    797\u001b[0m         model_results \u001b[39m=\u001b[39m \u001b[39mself\u001b[39m\u001b[39m.\u001b[39mpull(pop\u001b[39m=\u001b[39m\u001b[39mTrue\u001b[39;00m)\n\u001b[0;32m    798\u001b[0m         \u001b[39massert\u001b[39;00m (\n\u001b[0;32m    799\u001b[0m             np\u001b[39m.\u001b[39msum(\n\u001b[0;32m    800\u001b[0m                 model_results\u001b[39m.\u001b[39mdrop(\n\u001b[1;32m   (...)\u001b[0m\n\u001b[0;32m    804\u001b[0m             \u001b[39m!=\u001b[39m \u001b[39m0.0\u001b[39m\n\u001b[0;32m    805\u001b[0m         )\n",
      "File \u001b[1;32mc:\\Scripts\\course material\\venv_caret\\lib\\site-packages\\pycaret\\internal\\pycaret_experiment\\supervised_experiment.py:1527\u001b[0m, in \u001b[0;36m_SupervisedExperiment._create_model\u001b[1;34m(self, estimator, fold, round, cross_validation, predict, fit_kwargs, groups, refit, probability_threshold, experiment_custom_tags, verbose, system, add_to_model_list, X_train_data, y_train_data, metrics, display, model_only, return_train_score, **kwargs)\u001b[0m\n\u001b[0;32m   1524\u001b[0m         \u001b[39mreturn\u001b[39;00m model, model_fit_time\n\u001b[0;32m   1525\u001b[0m     \u001b[39mreturn\u001b[39;00m model\n\u001b[1;32m-> 1527\u001b[0m model, model_fit_time, model_results, _ \u001b[39m=\u001b[39m \u001b[39mself\u001b[39;49m\u001b[39m.\u001b[39;49m_create_model_with_cv(\n\u001b[0;32m   1528\u001b[0m     model,\n\u001b[0;32m   1529\u001b[0m     data_X,\n\u001b[0;32m   1530\u001b[0m     data_y,\n\u001b[0;32m   1531\u001b[0m     fit_kwargs,\n\u001b[0;32m   1532\u001b[0m     \u001b[39mround\u001b[39;49m,\n\u001b[0;32m   1533\u001b[0m     cv,\n\u001b[0;32m   1534\u001b[0m     groups,\n\u001b[0;32m   1535\u001b[0m     metrics,\n\u001b[0;32m   1536\u001b[0m     refit,\n\u001b[0;32m   1537\u001b[0m     system,\n\u001b[0;32m   1538\u001b[0m     display,\n\u001b[0;32m   1539\u001b[0m     return_train_score\u001b[39m=\u001b[39;49mreturn_train_score,\n\u001b[0;32m   1540\u001b[0m )\n\u001b[0;32m   1542\u001b[0m \u001b[39m# end runtime\u001b[39;00m\n\u001b[0;32m   1543\u001b[0m runtime_end \u001b[39m=\u001b[39m time\u001b[39m.\u001b[39mtime()\n",
      "File \u001b[1;32mc:\\Scripts\\course material\\venv_caret\\lib\\site-packages\\pycaret\\time_series\\forecasting\\oop.py:2646\u001b[0m, in \u001b[0;36mTSForecastingExperiment._create_model_with_cv\u001b[1;34m(self, model, data_X, data_y, fit_kwargs, round, cv, groups, metrics, refit, system, display, return_train_score)\u001b[0m\n\u001b[0;32m   2641\u001b[0m pipeline_with_model \u001b[39m=\u001b[39m _add_model_to_pipeline(\n\u001b[0;32m   2642\u001b[0m     pipeline\u001b[39m=\u001b[39m\u001b[39mself\u001b[39m\u001b[39m.\u001b[39mpipeline, model\u001b[39m=\u001b[39mmodel\n\u001b[0;32m   2643\u001b[0m )\n\u001b[0;32m   2645\u001b[0m \u001b[39mwith\u001b[39;00m redirect_output(\u001b[39mself\u001b[39m\u001b[39m.\u001b[39mlogger):\n\u001b[1;32m-> 2646\u001b[0m     scores, cutoffs \u001b[39m=\u001b[39m cross_validate(\n\u001b[0;32m   2647\u001b[0m         pipeline\u001b[39m=\u001b[39mpipeline_with_model,\n\u001b[0;32m   2648\u001b[0m         y\u001b[39m=\u001b[39mdata_y,\n\u001b[0;32m   2649\u001b[0m         X\u001b[39m=\u001b[39mdata_X,\n\u001b[0;32m   2650\u001b[0m         scoring\u001b[39m=\u001b[39mmetrics_dict,\n\u001b[0;32m   2651\u001b[0m         cv\u001b[39m=\u001b[39mcv,\n\u001b[0;32m   2652\u001b[0m         n_jobs\u001b[39m=\u001b[39mn_jobs,\n\u001b[0;32m   2653\u001b[0m         verbose\u001b[39m=\u001b[39m\u001b[39m0\u001b[39m,\n\u001b[0;32m   2654\u001b[0m         fit_params\u001b[39m=\u001b[39mfit_kwargs,\n\u001b[0;32m   2655\u001b[0m         return_train_score\u001b[39m=\u001b[39m\u001b[39mFalse\u001b[39;00m,\n\u001b[0;32m   2656\u001b[0m         alpha\u001b[39m=\u001b[39m\u001b[39mself\u001b[39m\u001b[39m.\u001b[39mpoint_alpha,\n\u001b[0;32m   2657\u001b[0m         coverage\u001b[39m=\u001b[39m\u001b[39mself\u001b[39m\u001b[39m.\u001b[39mcoverage,\n\u001b[0;32m   2658\u001b[0m         error_score\u001b[39m=\u001b[39m\u001b[39m0\u001b[39m,\n\u001b[0;32m   2659\u001b[0m         \u001b[39m*\u001b[39m\u001b[39m*\u001b[39madditional_scorer_kwargs,\n\u001b[0;32m   2660\u001b[0m     )\n\u001b[0;32m   2662\u001b[0m model_fit_end \u001b[39m=\u001b[39m time\u001b[39m.\u001b[39mtime()\n\u001b[0;32m   2663\u001b[0m model_fit_time \u001b[39m=\u001b[39m np\u001b[39m.\u001b[39marray(model_fit_end \u001b[39m-\u001b[39m model_fit_start)\u001b[39m.\u001b[39mround(\u001b[39m2\u001b[39m)\n",
      "File \u001b[1;32mc:\\Scripts\\course material\\venv_caret\\lib\\site-packages\\pycaret\\utils\\time_series\\forecasting\\model_selection.py:309\u001b[0m, in \u001b[0;36mcross_validate\u001b[1;34m(pipeline, y, X, cv, scoring, fit_params, n_jobs, return_train_score, alpha, coverage, error_score, verbose, **additional_scorer_kwargs)\u001b[0m\n\u001b[0;32m    306\u001b[0m     scoring \u001b[39m=\u001b[39m _get_metrics_dict(scoring)\n\u001b[0;32m    307\u001b[0m     parallel \u001b[39m=\u001b[39m Parallel(n_jobs\u001b[39m=\u001b[39mn_jobs)\n\u001b[1;32m--> 309\u001b[0m     out \u001b[39m=\u001b[39m parallel(\n\u001b[0;32m    310\u001b[0m         delayed(_fit_and_score)(\n\u001b[0;32m    311\u001b[0m             pipeline\u001b[39m=\u001b[39;49mclone(pipeline),\n\u001b[0;32m    312\u001b[0m             y\u001b[39m=\u001b[39;49my,\n\u001b[0;32m    313\u001b[0m             X\u001b[39m=\u001b[39;49mX,\n\u001b[0;32m    314\u001b[0m             scoring\u001b[39m=\u001b[39;49mscoring,\n\u001b[0;32m    315\u001b[0m             train\u001b[39m=\u001b[39;49mtrain,\n\u001b[0;32m    316\u001b[0m             test\u001b[39m=\u001b[39;49mtest,\n\u001b[0;32m    317\u001b[0m             parameters\u001b[39m=\u001b[39;49m\u001b[39mNone\u001b[39;49;00m,\n\u001b[0;32m    318\u001b[0m             fit_params\u001b[39m=\u001b[39;49mfit_params,\n\u001b[0;32m    319\u001b[0m             return_train_score\u001b[39m=\u001b[39;49mreturn_train_score,\n\u001b[0;32m    320\u001b[0m             alpha\u001b[39m=\u001b[39;49malpha,\n\u001b[0;32m    321\u001b[0m             coverage\u001b[39m=\u001b[39;49mcoverage,\n\u001b[0;32m    322\u001b[0m             error_score\u001b[39m=\u001b[39;49merror_score,\n\u001b[0;32m    323\u001b[0m             \u001b[39m*\u001b[39;49m\u001b[39m*\u001b[39;49madditional_scorer_kwargs,\n\u001b[0;32m    324\u001b[0m         )\n\u001b[0;32m    325\u001b[0m         \u001b[39mfor\u001b[39;49;00m train, test \u001b[39min\u001b[39;49;00m get_folds(cv, y)\n\u001b[0;32m    326\u001b[0m     )\n\u001b[0;32m    327\u001b[0m \u001b[39m# raise key exceptions\u001b[39;00m\n\u001b[0;32m    328\u001b[0m \u001b[39mexcept\u001b[39;00m \u001b[39mException\u001b[39;00m:\n",
      "File \u001b[1;32mc:\\Scripts\\course material\\venv_caret\\lib\\site-packages\\joblib\\parallel.py:1952\u001b[0m, in \u001b[0;36mParallel.__call__\u001b[1;34m(self, iterable)\u001b[0m\n\u001b[0;32m   1946\u001b[0m \u001b[39m# The first item from the output is blank, but it makes the interpreter\u001b[39;00m\n\u001b[0;32m   1947\u001b[0m \u001b[39m# progress until it enters the Try/Except block of the generator and\u001b[39;00m\n\u001b[0;32m   1948\u001b[0m \u001b[39m# reach the first `yield` statement. This starts the aynchronous\u001b[39;00m\n\u001b[0;32m   1949\u001b[0m \u001b[39m# dispatch of the tasks to the workers.\u001b[39;00m\n\u001b[0;32m   1950\u001b[0m \u001b[39mnext\u001b[39m(output)\n\u001b[1;32m-> 1952\u001b[0m \u001b[39mreturn\u001b[39;00m output \u001b[39mif\u001b[39;00m \u001b[39mself\u001b[39m\u001b[39m.\u001b[39mreturn_generator \u001b[39melse\u001b[39;00m \u001b[39mlist\u001b[39;49m(output)\n",
      "File \u001b[1;32mc:\\Scripts\\course material\\venv_caret\\lib\\site-packages\\joblib\\parallel.py:1595\u001b[0m, in \u001b[0;36mParallel._get_outputs\u001b[1;34m(self, iterator, pre_dispatch)\u001b[0m\n\u001b[0;32m   1592\u001b[0m     \u001b[39myield\u001b[39;00m\n\u001b[0;32m   1594\u001b[0m     \u001b[39mwith\u001b[39;00m \u001b[39mself\u001b[39m\u001b[39m.\u001b[39m_backend\u001b[39m.\u001b[39mretrieval_context():\n\u001b[1;32m-> 1595\u001b[0m         \u001b[39myield from\u001b[39;00m \u001b[39mself\u001b[39m\u001b[39m.\u001b[39m_retrieve()\n\u001b[0;32m   1597\u001b[0m \u001b[39mexcept\u001b[39;00m \u001b[39mGeneratorExit\u001b[39;00m:\n\u001b[0;32m   1598\u001b[0m     \u001b[39m# The generator has been garbage collected before being fully\u001b[39;00m\n\u001b[0;32m   1599\u001b[0m     \u001b[39m# consumed. This aborts the remaining tasks if possible and warn\u001b[39;00m\n\u001b[0;32m   1600\u001b[0m     \u001b[39m# the user if necessary.\u001b[39;00m\n\u001b[0;32m   1601\u001b[0m     \u001b[39mself\u001b[39m\u001b[39m.\u001b[39m_exception \u001b[39m=\u001b[39m \u001b[39mTrue\u001b[39;00m\n",
      "File \u001b[1;32mc:\\Scripts\\course material\\venv_caret\\lib\\site-packages\\joblib\\parallel.py:1707\u001b[0m, in \u001b[0;36mParallel._retrieve\u001b[1;34m(self)\u001b[0m\n\u001b[0;32m   1702\u001b[0m \u001b[39m# If the next job is not ready for retrieval yet, we just wait for\u001b[39;00m\n\u001b[0;32m   1703\u001b[0m \u001b[39m# async callbacks to progress.\u001b[39;00m\n\u001b[0;32m   1704\u001b[0m \u001b[39mif\u001b[39;00m ((\u001b[39mlen\u001b[39m(\u001b[39mself\u001b[39m\u001b[39m.\u001b[39m_jobs) \u001b[39m==\u001b[39m \u001b[39m0\u001b[39m) \u001b[39mor\u001b[39;00m\n\u001b[0;32m   1705\u001b[0m     (\u001b[39mself\u001b[39m\u001b[39m.\u001b[39m_jobs[\u001b[39m0\u001b[39m]\u001b[39m.\u001b[39mget_status(\n\u001b[0;32m   1706\u001b[0m         timeout\u001b[39m=\u001b[39m\u001b[39mself\u001b[39m\u001b[39m.\u001b[39mtimeout) \u001b[39m==\u001b[39m TASK_PENDING)):\n\u001b[1;32m-> 1707\u001b[0m     time\u001b[39m.\u001b[39;49msleep(\u001b[39m0.01\u001b[39;49m)\n\u001b[0;32m   1708\u001b[0m     \u001b[39mcontinue\u001b[39;00m\n\u001b[0;32m   1710\u001b[0m \u001b[39m# We need to be careful: the job list can be filling up as\u001b[39;00m\n\u001b[0;32m   1711\u001b[0m \u001b[39m# we empty it and Python list are not thread-safe by\u001b[39;00m\n\u001b[0;32m   1712\u001b[0m \u001b[39m# default hence the use of the lock\u001b[39;00m\n",
      "\u001b[1;31mKeyboardInterrupt\u001b[0m: "
     ]
    }
   ],
<<<<<<< HEAD
>>>>>>> b8d9bc627889a7e236ec9ee3ba35f8d2f9a68542
   "source": [
    "Next up compare the different models. This one will take a while, as we have a lot of data and we're training a lot of models.\n",
    "\n",
    "Also, use the option \"n_select=5\" as parameter to compare_models. You'll thank me for this. (Note: the next one took half an hour on a computer with a GPU. Not sure what it would take on a computer without.)"
   ]
  },
  {
   "cell_type": "code",
   "execution_count": null,
   "metadata": {},
   "outputs": [],
   "source": [
    "best = compare_models(sort = 'MAE', n_select=5)"
   ]
  },
  {
   "cell_type": "code",
   "execution_count": null,
   "metadata": {},
   "outputs": [],
   "source": [
    "import pickle \n",
    "\n",
    "with open('best_model.pkl', 'wb') as file: \n",
    "    pickle.dump(best, file) "
   ]
  },
  {
   "cell_type": "code",
   "execution_count": null,
   "metadata": {},
   "outputs": [],
   "source": [
    "import pickle\n",
    "\n",
    "with open('best_model.pkl', 'rb') as file: \n",
    "      \n",
    "    # Call load method to deserialze \n",
    "    best_2 = pickle.load(file) \n",
    "\n",
    "print(best_2)"
   ]
  },
  {
   "cell_type": "markdown",
   "metadata": {},
   "source": [
    "Strangest thing: we have a perfect model:\n",
    "\n",
    "![Alt text](files/image.png)\n",
    "\n",
    "Which is a bad thing. It means something went wrong, because no model can be perfect. Let's see what it predicts using a forecast plot. Predict 10 days, or 240 hours.\n",
    "\n",
    "(You can drag a small window across the data you want to zoom in on. Also remember we stored 5 models (n_select), so you'll have to use an index.)\n"
   ]
  },
  {
   "cell_type": "code",
   "execution_count": null,
   "metadata": {},
   "outputs": [],
   "source": [
    "# DELETE\n",
    "plot_model(best[0], plot = 'forecast', data_kwargs = {'fh' : 240})"
   ]
  },
  {
   "cell_type": "markdown",
   "metadata": {},
   "source": [
    "Now compare this \"perfect\" model to the other four you stored. Some provide a pretty prediction, others are plain bad. Still it's a good start."
   ]
  },
  {
   "cell_type": "code",
   "execution_count": null,
   "metadata": {},
   "outputs": [],
   "source": [
    "# DELETE\n",
    "plot_model(best[2], plot = 'forecast', data_kwargs = {'fh' : 240})"
   ]
  },
  {
   "cell_type": "markdown",
   "metadata": {},
   "source": [
    "There are a lot of other plots to be made. Experiment a bit!"
   ]
  },
  {
   "cell_type": "code",
   "execution_count": null,
   "metadata": {},
   "outputs": [],
   "source": [
    "#DELETE\n",
    "\n"
=======
   "source": [
    "best = compare_models(sort = 'MAE')"
>>>>>>> b8d9bc627889a7e236ec9ee3ba35f8d2f9a68542
   ]
  },
  {
   "cell_type": "markdown",
   "metadata": {},
   "source": [
    "There is a lot more documentation on this topic:\n",
    "\n",
    "* [PyCaret 101](https://pycaret.gitbook.io/docs/learn-pycaret/official-blog/time-series-101-for-beginners)\n",
    "* [A blog-post](https://towardsdatascience.com/announcing-pycarets-new-time-series-module-b6e724d4636c)\n"
   ]
  }
 ],
 "metadata": {
  "kernelspec": {
   "display_name": "venv_caret",
   "language": "python",
   "name": "python3"
  },
  "language_info": {
   "codemirror_mode": {
    "name": "ipython",
    "version": 3
   },
   "file_extension": ".py",
   "mimetype": "text/x-python",
   "name": "python",
   "nbconvert_exporter": "python",
   "pygments_lexer": "ipython3",
<<<<<<< HEAD
   "version": "3.10.12"
=======
   "version": "3.10.11"
>>>>>>> b8d9bc627889a7e236ec9ee3ba35f8d2f9a68542
  },
  "orig_nbformat": 4
 },
 "nbformat": 4,
 "nbformat_minor": 2
}
