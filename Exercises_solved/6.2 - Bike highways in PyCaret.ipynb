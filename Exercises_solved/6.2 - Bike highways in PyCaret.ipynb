{
 "cells": [
  {
   "cell_type": "markdown",
   "metadata": {},
   "source": [
    "# Bike highways - revisit in PyCaret\n",
    "\n",
    "We already analyzed the bike-highway data a bit. It was a time series, so let's focus on the counting-point nearest to our school and see if we can predict it. And by \"we\" I mean PyCaret.\n",
    "\n",
    "Let's look at the [official PyCaret-documentation](https://pycaret.gitbook.io/docs/get-started/quickstart#time-series). We won't bother with the stock example this time but start right away with our own data."
   ]
  },
  {
   "cell_type": "code",
   "execution_count": null,
   "metadata": {},
   "outputs": [],
   "source": [
    "import pandas as pd\n",
    "\n",
    "df = pd.read_csv('files/bike_counters_data/Measured data-nl-Geel_FMN GV 21 Geel.csv')\n",
    "df.head()"
   ]
  },
  {
   "cell_type": "markdown",
   "metadata": {},
   "source": [
    "Once again we need to do some cleaning. As we can read [here](https://pycaret.gitbook.io/docs/learn-pycaret/official-blog/time-series-forecasting-with-pycaret-regression) PyCaret can't deal with dates so we'll have to store all parts of the date and time separately. We're also only interested in \"Aantal fietsers\", not the \"van\" and \"naar\" columns. The \"Meetpunt surrogate key\", \"Meetpunt locatie\" and \"Meetpunt code\" is always the same, so you can drop these as well.\n",
    "\n",
    "And rename \"Aantal fietsers\" to \"nr_cyclists\". It'll be easier to work with."
   ]
  },
  {
   "cell_type": "code",
   "execution_count": null,
   "metadata": {},
   "outputs": [],
   "source": [
    "# DELETE\n",
    "\n",
    "df['year'] = pd.DatetimeIndex(df['Datum']).year\n",
    "df['month'] = pd.DatetimeIndex(df['Datum']).month\n",
    "df['day'] = pd.DatetimeIndex(df['Datum']).day\n",
    "df['hour'] = pd.DatetimeIndex(df['Datum']).hour\n",
    "df = df.rename(columns={\"Aantal fietsers\": \"nr_cyclists\"})\n",
    "\n",
    "df = df.drop(columns=['Datum', 'Tijd', 'Meetpunt surrogate key', 'Meetpunt locatie','Aantal fietsers van','Aantal fietsers naar','Meetpunt code'])\n",
    "df.head()"
   ]
  },
  {
   "cell_type": "markdown",
   "metadata": {},
   "source": [
    "Finally, group this data so you're working with the daily totals, not the hourly data. Otherwise you'll be predicting way to many zeros."
   ]
  },
  {
   "cell_type": "code",
   "execution_count": null,
   "metadata": {},
   "outputs": [],
   "source": [
    "df_daily = df.drop(columns=[\"hour\"]).groupby([\"year\",\"month\",\"day\"], as_index=False).sum([\"nr_cyclists\"])\n",
    "df_daily.head()"
   ]
  },
  {
   "cell_type": "markdown",
   "metadata": {},
   "source": [
    "Next up is PyCaret! Some of these steps will take a while. If you [have better things to do](https://www.youtube.com/watch?v=nLJ8ILIE780), save the last variable you made (the setup or the best model) in a [pickle](https://www.geeksforgeeks.org/how-to-use-pickle-to-save-and-load-variables-in-python/) file.\n",
    "\n",
    "First, setup using the setup-function."
   ]
  },
  {
   "cell_type": "code",
   "execution_count": null,
   "metadata": {},
   "outputs": [],
   "source": [
    "# DELETE\n",
    "from pycaret.time_series import *\n",
    "\n",
    "s = setup(df, fh = 3, fold = 5, session_id = 123, target=\"nr_cyclists\")"
   ]
  },
  {
   "cell_type": "markdown",
   "metadata": {},
   "source": [
    "Next up compare the different models. This one will take a while, as we have a lot of data and we're training a lot of models.\n",
    "\n",
    "Also, use the option \"n_select=5\" as parameter to compare_models. You'll thank me for this. (Note: the next one took half an hour on a computer with a GPU. Not sure what it would take on a computer without.)"
   ]
  },
  {
   "cell_type": "code",
   "execution_count": null,
   "metadata": {},
   "outputs": [],
   "source": [
    "best = compare_models(sort = 'MAE', n_select=5)"
   ]
  },
  {
   "cell_type": "code",
   "execution_count": null,
   "metadata": {},
   "outputs": [],
   "source": [
    "import pickle \n",
    "\n",
    "with open('best_model.pkl', 'wb') as file: \n",
    "    pickle.dump(best, file) "
   ]
  },
  {
   "cell_type": "code",
   "execution_count": null,
   "metadata": {},
   "outputs": [],
   "source": [
    "import pickle\n",
    "\n",
    "with open('best_model.pkl', 'rb') as file: \n",
    "      \n",
    "    # Call load method to deserialze \n",
    "    best_2 = pickle.load(file) \n",
    "\n",
    "print(best_2)"
   ]
  },
  {
   "cell_type": "markdown",
   "metadata": {},
   "source": [
    "Strangest thing: we have a perfect model:\n",
    "\n",
    "![Alt text](files/image.png)\n",
    "\n",
    "Which is a bad thing. It means something went wrong, because no model can be perfect. Let's see what it predicts using a forecast plot. Predict 10 days, or 240 hours.\n",
    "\n",
    "(You can drag a small window across the data you want to zoom in on. Also remember we stored 5 models (n_select), so you'll have to use an index.)\n"
   ]
  },
  {
   "cell_type": "code",
   "execution_count": null,
   "metadata": {},
   "outputs": [],
   "source": [
    "# DELETE\n",
    "plot_model(best[0], plot = 'forecast', data_kwargs = {'fh' : 240})"
   ]
  },
  {
   "cell_type": "markdown",
   "metadata": {},
   "source": [
    "Now compare this \"perfect\" model to the other four you stored. Some provide a pretty prediction, others are plain bad. Still it's a good start."
   ]
  },
  {
   "cell_type": "code",
   "execution_count": null,
   "metadata": {},
   "outputs": [],
   "source": [
    "# DELETE\n",
    "plot_model(best[2], plot = 'forecast', data_kwargs = {'fh' : 240})"
   ]
  },
  {
   "cell_type": "markdown",
   "metadata": {},
   "source": [
    "There are a lot of other plots to be made. Experiment a bit!"
   ]
  },
  {
   "cell_type": "code",
   "execution_count": null,
   "metadata": {},
   "outputs": [],
   "source": [
    "#DELETE\n",
    "\n"
   ]
  },
  {
   "cell_type": "markdown",
   "metadata": {},
   "source": [
    "There is a lot more documentation on this topic:\n",
    "\n",
    "* [PyCaret 101](https://pycaret.gitbook.io/docs/learn-pycaret/official-blog/time-series-101-for-beginners)\n",
    "* [A blog-post](https://towardsdatascience.com/announcing-pycarets-new-time-series-module-b6e724d4636c)\n"
   ]
  }
 ],
 "metadata": {
  "kernelspec": {
   "display_name": "venv_caret",
   "language": "python",
   "name": "python3"
  },
  "language_info": {
   "codemirror_mode": {
    "name": "ipython",
    "version": 3
   },
   "file_extension": ".py",
   "mimetype": "text/x-python",
   "name": "python",
   "nbconvert_exporter": "python",
   "pygments_lexer": "ipython3",
   "version": "3.10.11"
  },
  "orig_nbformat": 4
 },
 "nbformat": 4,
 "nbformat_minor": 2
}
