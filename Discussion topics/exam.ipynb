{
 "cells": [
  {
   "cell_type": "code",
   "execution_count": 1,
   "metadata": {},
   "outputs": [
    {
     "name": "stdout",
     "output_type": "stream",
     "text": [
      "['1, General, 1', '1, General, 2', '1, General, 3', '1, General, 4', '1, General, 5', '1, General, 6', '1, General, 7', '2, AWS, 1', '2, AWS, 2', '2, AWS, 3', '2, AWS, 4', '2, AWS, 5', '2, PPT, 1', '2, PPT, 2', '2, PPT, 3', '3, AWS, 1', '3, AWS, 2', '3, AWS, 3', '3, AWS, 4', '3, AWS, 5', '3, AWS, 6', '3, AWS, 7', '3, AWS, 8', '3, AWS, 9', '3, AWS, 10', '3, AWS, 11', '3, AWS, 12', '3, AWS, 13', '3, AWS, 14', '3, AWS, 15', '3, AWS, 16', '3, AWS, 17', '3, AWS, 18', '3, PPT, 1', '3, PPT, 2', '3, PPT, 3', '3, PPT, 4', '3, PPT, 5', '3, PPT, 6', '3, PPT, 7', '3, PPT, 8', '3, PPT, 9', '3, PPT, 10', '4, AWS, 1', '4, AWS, 2', '4, AWS, 3', '4, AWS, 4', '4, AWS, 5', '4, AWS, 6', '4, AWS, 7', '4, AWS, 8', '4, AWS, 9', '4, AWS, 10', '4, AWS, 11', '4, AWS, 12', '4, AWS, 13', '4, AWS, 14', '4, AWS, 15', '4, PPT, 1', '4, PPT, 2', '4, PPT, 3', '4, PPT, 4']\n"
     ]
    }
   ],
   "source": [
    "questions = [ \"1, General, \" + str(i) for i in range(1, 8) ] + \\\n",
    "            [ \"2, AWS, \" + str(i) for i in range(1, 6) ] + \\\n",
    "            [ \"2, PPT, \" + str(i) for i in range(1, 4) ] + \\\n",
    "            [ \"3, AWS, \" + str(i) for i in range(1, 19) ] + \\\n",
    "            [ \"3, PPT, \" + str(i) for i in range(1, 11) ] + \\\n",
    "            [ \"4, AWS, \" + str(i) for i in range(1, 16) ] + \\\n",
    "            [ \"4, PPT, \" + str(i) for i in range(1, 5) ]\n",
    "            \n",
    "print(questions)"
   ]
  },
  {
   "cell_type": "code",
   "execution_count": 37,
   "metadata": {},
   "outputs": [
    {
     "name": "stdout",
     "output_type": "stream",
     "text": [
      "3, AWS, 9\n"
     ]
    }
   ],
   "source": [
    "import random\n",
    "\n",
    "nr = random.randint(1, 100)\n",
    "\n",
    "random.seed(5 + nr)\n",
    "\n",
    "print(random.choice(questions))"
   ]
  }
 ],
 "metadata": {
  "kernelspec": {
   "display_name": "venv",
   "language": "python",
   "name": "python3"
  },
  "language_info": {
   "codemirror_mode": {
    "name": "ipython",
    "version": 3
   },
   "file_extension": ".py",
   "mimetype": "text/x-python",
   "name": "python",
   "nbconvert_exporter": "python",
   "pygments_lexer": "ipython3",
   "version": "3.11.5"
  }
 },
 "nbformat": 4,
 "nbformat_minor": 2
}
