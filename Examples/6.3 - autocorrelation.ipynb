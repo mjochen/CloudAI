{
 "cells": [
  {
   "cell_type": "markdown",
   "metadata": {},
   "source": [
    "# Autocorrelation\n",
    "\n",
    "The second [youtuber](https://www.youtube.com/@egorhowell/videos) did a very good job of explaining stability. What does he say about [autocorrelation](https://www.youtube.com/watch?v=GcJ__g_cimA)?\n",
    "\n",
    "We're using the same air passengers data set."
   ]
  },
  {
   "cell_type": "code",
   "execution_count": 1,
   "metadata": {},
   "outputs": [],
   "source": [
    "import pandas as pd\n",
    "\n",
    "df = pd.read_csv('files/AirPassengers.csv', index_col=0)\n",
    "df.index = pd.to_datetime(df.index)"
   ]
  },
  {
   "cell_type": "markdown",
   "metadata": {},
   "source": [
    "The video uses a different library, but pandas also has a function to plot an autocorrelation plot."
   ]
  },
  {
   "cell_type": "code",
   "execution_count": null,
   "metadata": {},
   "outputs": [],
   "source": [
    "pd.plotting.autocorrelation_plot(df['#Passengers'])"
   ]
  },
  {
   "cell_type": "markdown",
   "metadata": {},
   "source": [
    "But what are we looking at? Well, let's zoom in to the first 24 'lags'."
   ]
  },
  {
   "cell_type": "code",
   "execution_count": null,
   "metadata": {},
   "outputs": [],
   "source": [
    "pd.plotting.autocorrelation_plot(df['#Passengers']).set_xlim([0, 24])"
   ]
  },
  {
   "cell_type": "markdown",
   "metadata": {},
   "source": [
    "The \"lag\" is the number of datapoints you go back to see if there is a correlation. This means we can detect som key points (look at the actual data below to compare):\n",
    "\n",
    "* Upper left corner, lag 1: every datapoint is correlated to itself. This means you have a perfect positive correlation of 1.\n",
    "* Lag 6: We're going back 6 months. In this dataset that is a bad idea as you are comparing summer months (spikes) to winter months (valleys), and the data clearly shows how that those two are not related.\n",
    "* Lag 12: Go back 1 year. This means we are correlating spikes with spikes and valleys with valleys. The correlation is therefore high.\n",
    "* Lag 24: Same as before, but slightly less as we are now skipping a year."
   ]
  },
  {
   "cell_type": "code",
   "execution_count": null,
   "metadata": {},
   "outputs": [],
   "source": [
    "df.plot()"
   ]
  },
  {
   "cell_type": "markdown",
   "metadata": {},
   "source": [
    "There is another [function](https://pandas.pydata.org/pandas-docs/stable/reference/api/pandas.Series.autocorr.html) in pandas to calculate autocorrelation."
   ]
  },
  {
   "cell_type": "code",
   "execution_count": null,
   "metadata": {},
   "outputs": [],
   "source": [
    "for i in range(1, 25):\n",
    "    corr = df[\"#Passengers\"].autocorr(lag=i)\n",
    "    print(f\"Lag {i}: { corr }\")"
   ]
  },
  {
   "cell_type": "markdown",
   "metadata": {},
   "source": [
    "We could graph this, but we'd be back at the plot we had before. Nice peaks at 12 and 24 though."
   ]
  }
 ],
 "metadata": {
  "kernelspec": {
   "display_name": "venv",
   "language": "python",
   "name": "python3"
  },
  "language_info": {
   "codemirror_mode": {
    "name": "ipython",
    "version": 3
   },
   "file_extension": ".py",
   "mimetype": "text/x-python",
   "name": "python",
   "nbconvert_exporter": "python",
   "pygments_lexer": "ipython3",
   "version": "3.12.5"
  },
  "orig_nbformat": 4
 },
 "nbformat": 4,
 "nbformat_minor": 2
}
