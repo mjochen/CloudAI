{
 "cells": [
  {
   "cell_type": "markdown",
   "metadata": {},
   "source": [
    "# Grouping in pandas\n",
    "\n",
    "Sometimes all you need is a good example. Or the copy paste of a [good example](https://realpython.com/pandas-groupby/) into a notebook you can run yourself.\n",
    "\n",
    "Let's start by importing the U.S. Congress Dataset"
   ]
  },
  {
   "cell_type": "code",
   "execution_count": null,
   "metadata": {},
   "outputs": [],
   "source": [
    "import pandas as pd\n",
    "\n",
    "dtypes = {\n",
    "    \"first_name\": \"category\",\n",
    "    \"gender\": \"category\",\n",
    "    \"type\": \"category\",\n",
    "    \"state\": \"category\",\n",
    "    \"party\": \"category\",\n",
    "}\n",
    "df = pd.read_csv(\"files/legislators-historical.csv\",\n",
    "    dtype=dtypes,\n",
    "    usecols=list(dtypes) + [\"birthday\", \"last_name\"],\n",
    "    parse_dates=[\"birthday\"]\n",
    ")\n",
    "\n",
    "df.tail()"
   ]
  },
  {
   "cell_type": "markdown",
   "metadata": {},
   "source": [
    "Note how using this way of importing will minimizes cleanup later on. This is a good way of importing data that you know and are familiar with. If you are not simply import and cleanup later.\n",
    "\n",
    "First question: how many representatives are there by state?"
   ]
  },
  {
   "cell_type": "code",
   "execution_count": null,
   "metadata": {},
   "outputs": [],
   "source": [
    "n_by_state = df.groupby(\"state\", observed=True)[\"last_name\"].count()\n",
    "n_by_state.head(10)"
   ]
  },
  {
   "cell_type": "markdown",
   "metadata": {},
   "source": [
    "You can also group an two columns."
   ]
  },
  {
   "cell_type": "code",
   "execution_count": null,
   "metadata": {},
   "outputs": [],
   "source": [
    "df.groupby([\"state\", \"gender\"], observed=True)[\"last_name\"].count()"
   ]
  },
  {
   "cell_type": "markdown",
   "metadata": {},
   "source": [
    "Fun fact: when grouping in SQL you get one big blob of grouped data (meaning that when you group on \"name\" and \"year\" you get groups for every \"name-year\"-combination, but within you can't distinct between \"name\" or \"year\"). In pandas you get a multi-index, meaning you can split up the groups."
   ]
  },
  {
   "cell_type": "code",
   "execution_count": null,
   "metadata": {},
   "outputs": [],
   "source": [
    "n_by_state_gender = df.groupby([\"state\", \"gender\"], observed=True)[\"last_name\"].count()\n",
    "print(type(n_by_state_gender))\n",
    "print(n_by_state_gender.index[:5])"
   ]
  },
  {
   "cell_type": "markdown",
   "metadata": {},
   "source": [
    "Another alternative is to drop the multi-index altogether and get the indexes back as columns."
   ]
  },
  {
   "cell_type": "code",
   "execution_count": null,
   "metadata": {},
   "outputs": [],
   "source": [
    "df.groupby([\"state\", \"gender\"], observed=True, as_index=False)[\"last_name\"].count()"
   ]
  },
  {
   "cell_type": "markdown",
   "metadata": {},
   "source": [
    "We've always counted the results of the group by and stored the result of this operation in a dataframe. We can however keep the groups seperately and store them in a dataframe."
   ]
  },
  {
   "cell_type": "code",
   "execution_count": null,
   "metadata": {},
   "outputs": [],
   "source": [
    "by_state = df.groupby(\"state\", observed=True)\n",
    "print(by_state)"
   ]
  },
  {
   "cell_type": "markdown",
   "metadata": {},
   "source": [
    "When doing grouping-operations, keep the \"split-apply-combine\" in mind:\n",
    "\n",
    "1. **Split** a table into groups.\n",
    "2. **Apply** some operations to each of those smaller tables.\n",
    "3. **Combine** the results.\n",
    "\n",
    "This means that if you don't apply an operation to the group dataframe, it won't be combined into a new table. That is why the \"by_state\" dataframe wouldn't print earlier. You can print it when you loop through it:"
   ]
  },
  {
   "cell_type": "code",
   "execution_count": null,
   "metadata": {},
   "outputs": [],
   "source": [
    "for state, frame in by_state:\n",
    "    print(f\"First 2 entries for {state!r}\")\n",
    "    print(\"------------------------\")\n",
    "    print(frame.head(2), end=\"\\n\\n\")"
   ]
  },
  {
   "cell_type": "markdown",
   "metadata": {},
   "source": [
    "The above is probably not an end result, but it's a nice step along the way. Sometimes you need to see your data before you can understand (and analyze) it.\n",
    "\n",
    "You could also go directly to a group. Let's take the state of Pennsylvania for example:"
   ]
  },
  {
   "cell_type": "code",
   "execution_count": null,
   "metadata": {},
   "outputs": [],
   "source": [
    "by_state.groups[\"PA\"]"
   ]
  },
  {
   "cell_type": "markdown",
   "metadata": {},
   "source": [
    "Or use \"get_group\" to look at the group as if it were a dataframe."
   ]
  },
  {
   "cell_type": "code",
   "execution_count": null,
   "metadata": {},
   "outputs": [],
   "source": [
    "by_state.get_group(\"PA\")"
   ]
  },
  {
   "cell_type": "markdown",
   "metadata": {},
   "source": [
    "And to close the loop: can we get back to counting all the values in one dataframe?"
   ]
  },
  {
   "cell_type": "code",
   "execution_count": null,
   "metadata": {},
   "outputs": [],
   "source": [
    "by_state.get_group(\"PA\")['last_name'].count()"
   ]
  },
  {
   "cell_type": "markdown",
   "metadata": {},
   "source": [
    "Our example ends here, the one we have been [following online](https://realpython.com/pandas-groupby/) keeps on going with some very interesting groupings on parts of columns. Do take a look at that as well!"
   ]
  }
 ],
 "metadata": {
  "kernelspec": {
   "display_name": "venv",
   "language": "python",
   "name": "python3"
  },
  "language_info": {
   "codemirror_mode": {
    "name": "ipython",
    "version": 3
   },
   "file_extension": ".py",
   "mimetype": "text/x-python",
   "name": "python",
   "nbconvert_exporter": "python",
   "pygments_lexer": "ipython3",
   "version": "3.12.5"
  },
  "orig_nbformat": 4
 },
 "nbformat": 4,
 "nbformat_minor": 2
}
