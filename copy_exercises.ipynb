{
 "cells": [
  {
   "cell_type": "code",
   "execution_count": 4,
   "metadata": {},
   "outputs": [],
   "source": [
    "import json\n",
    "\n",
    "def copy_notebook(source, destination):\n",
    "    print(source, destination)\n",
    "    new_file = {}\n",
    "    \n",
    "    read = open(source, 'r')\n",
    "    json_data = json.load(read)\n",
    "    read.close()\n",
    "    \n",
    "    # print(json_data)\n",
    "    \n",
    "    for k in json_data.keys():\n",
    "        if k == 'cells':\n",
    "            new_file[k] = []\n",
    "            for cell in json_data[k]:\n",
    "                if cell['cell_type'] == 'code':\n",
    "                    if cell['source'][0].find('DELETE') == -1:\n",
    "                        new_file[k].append(cell)\n",
    "                    else:\n",
    "                        new_cell = cell.copy()\n",
    "                        new_cell['source'] = ['# Up to you!\\n', '\\n']\n",
    "                        new_file[k].append(new_cell)\n",
    "                else:\n",
    "                    new_file[k].append(cell)\n",
    "        else:\n",
    "            new_file[k] = json_data[k]\n",
    "    \n",
    "    write = open(destination, 'w')\n",
    "    json.dump(new_file, write)\n",
    "    write.close()\n",
    "\n",
    "\n",
    "# copy_notebook('Exercises_solved/test.ipynb','Exercises/test.ipynb')"
   ]
  },
  {
   "cell_type": "code",
   "execution_count": 5,
   "metadata": {},
   "outputs": [
    {
     "name": "stdout",
     "output_type": "stream",
     "text": [
      "['1.1 - PyCaret.ipynb', '2.1 - University ranking.ipynb', '2.2 - student grades.ipynb', '2.3 - Bike-highways.ipynb', '3.1 - Wine quality.ipynb', '3.2 - Car evaluation.ipynb', '3.3 - Vertrebral column.ipynb', '3.4 - sample notebooks.md', '3.5 - metrics.ipynb', '4.1 - Meters.ipynb', '4.2 - Bike highways in PyCaret.ipynb', '4.3 - Bike highways AWS.ipynb', '4.4 - Bike highways manually.ipynb', 'files', 'logs.log', 'P1 - EDA and exploration.md', 'P2 - Final loading and preparing.md', 'P3 - Building models.md', 'P4 - Upload.md', 'README.md']\n"
     ]
    }
   ],
   "source": [
    "from os import listdir\n",
    "from os.path import isfile, join\n",
    "\n",
    "source = \"Exercises_solved/\"\n",
    "destination = \"Exercises/\"\n",
    "\n",
    "files = listdir(source) # [f for f in listdir(mypath) if isfile(join(mypath, f))]\n",
    "\n",
    "print(files)"
   ]
  },
  {
   "cell_type": "code",
   "execution_count": 6,
   "metadata": {},
   "outputs": [
    {
     "name": "stdout",
     "output_type": "stream",
     "text": [
      "Exercises_solved/1.1 - PyCaret.ipynb Exercises/1.1 - PyCaret.ipynb\n",
      "Exercises_solved/2.1 - University ranking.ipynb Exercises/2.1 - University ranking.ipynb\n",
      "Exercises_solved/2.2 - student grades.ipynb Exercises/2.2 - student grades.ipynb\n",
      "Exercises_solved/2.3 - Bike-highways.ipynb Exercises/2.3 - Bike-highways.ipynb\n",
      "Exercises_solved/3.1 - Wine quality.ipynb Exercises/3.1 - Wine quality.ipynb\n",
      "Exercises_solved/3.2 - Car evaluation.ipynb Exercises/3.2 - Car evaluation.ipynb\n",
      "Exercises_solved/3.3 - Vertrebral column.ipynb Exercises/3.3 - Vertrebral column.ipynb\n",
      "Exercises_solved/3.5 - metrics.ipynb Exercises/3.5 - metrics.ipynb\n",
      "Exercises_solved/4.1 - Meters.ipynb Exercises/4.1 - Meters.ipynb\n",
      "Exercises_solved/4.2 - Bike highways in PyCaret.ipynb Exercises/4.2 - Bike highways in PyCaret.ipynb\n",
      "Exercises_solved/4.3 - Bike highways AWS.ipynb Exercises/4.3 - Bike highways AWS.ipynb\n",
      "Exercises_solved/4.4 - Bike highways manually.ipynb Exercises/4.4 - Bike highways manually.ipynb\n"
     ]
    }
   ],
   "source": [
    "import shutil\n",
    "\n",
    "for f in files:\n",
    "    if f[-6:] == \".ipynb\":\n",
    "        copy_notebook(join(source, f), join(destination, f))\n",
    "    else:\n",
    "        if isfile(join(source, f)):\n",
    "            shutil.copy(join(source, f), destination)\n",
    "            #  print(f)\n",
    "        else:\n",
    "            # shutil.copytree(join(source, f), join(destination, f))\n",
    "            pass\n",
    "            "
   ]
  }
 ],
 "metadata": {
  "kernelspec": {
   "display_name": "venv",
   "language": "python",
   "name": "python3"
  },
  "language_info": {
   "codemirror_mode": {
    "name": "ipython",
    "version": 3
   },
   "file_extension": ".py",
   "mimetype": "text/x-python",
   "name": "python",
   "nbconvert_exporter": "python",
   "pygments_lexer": "ipython3",
   "version": "3.11.5"
  },
  "orig_nbformat": 4
 },
 "nbformat": 4,
 "nbformat_minor": 2
}
